{
 "cells": [
  {
   "cell_type": "markdown",
   "id": "d4c8a3eb-abe4-4c3d-921e-533c597a34ca",
   "metadata": {},
   "source": [
    "class is used to create a user defined data structure"
   ]
  },
  {
   "cell_type": "code",
   "execution_count": 7,
   "id": "89443023-65c7-40f3-a5d4-aefa2f670ade",
   "metadata": {
    "tags": []
   },
   "outputs": [],
   "source": [
    "list=[7,9,10,11,11,11,16,17]"
   ]
  },
  {
   "cell_type": "code",
   "execution_count": 8,
   "id": "34f11b6e-23b7-4632-b0dd-0df5bcc0dceb",
   "metadata": {
    "tags": []
   },
   "outputs": [
    {
     "data": {
      "text/plain": [
       "3"
      ]
     },
     "execution_count": 8,
     "metadata": {},
     "output_type": "execute_result"
    }
   ],
   "source": [
    "list.count(11)"
   ]
  },
  {
   "cell_type": "code",
   "execution_count": null,
   "id": "cd6d1027-16ed-4eaf-ad19-7ce155711345",
   "metadata": {},
   "outputs": [],
   "source": []
  }
 ],
 "metadata": {
  "kernelspec": {
   "display_name": "Python 3 (ipykernel)",
   "language": "python",
   "name": "python3"
  },
  "language_info": {
   "codemirror_mode": {
    "name": "ipython",
    "version": 3
   },
   "file_extension": ".py",
   "mimetype": "text/x-python",
   "name": "python",
   "nbconvert_exporter": "python",
   "pygments_lexer": "ipython3",
   "version": "3.11.4"
  }
 },
 "nbformat": 4,
 "nbformat_minor": 5
}
