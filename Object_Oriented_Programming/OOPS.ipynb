{
 "cells": [
  {
   "cell_type": "markdown",
   "id": "404b9e9f-d07f-4bf5-9154-b0e7f34189db",
   "metadata": {},
   "source": [
    "class is blueprint and object stands for real world entity"
   ]
  },
  {
   "cell_type": "code",
   "execution_count": 55,
   "id": "ff0c40ec-2387-4fd5-a624-459972f02a8b",
   "metadata": {},
   "outputs": [],
   "source": [
    "class Test:\n",
    "    def __init__(self,stdid,phone_no,name,email):\n",
    "        self.stdid1 = stdid\n",
    "        self.phone_no1=phone_no\n",
    "        self.name1=name\n",
    "        self.email1=email\n",
    "    def innerfunc(self):\n",
    "        return self.stdid1,self.phone_no1,self.name1,self.email1"
   ]
  },
  {
   "cell_type": "code",
   "execution_count": 56,
   "id": "7d8811a1-a713-4eff-b2c8-ba134a1cefc4",
   "metadata": {},
   "outputs": [],
   "source": [
    "s1=Test(42,934813983,\"swayam\",\"swayam@gmail.com\")"
   ]
  },
  {
   "cell_type": "code",
   "execution_count": 57,
   "id": "6432c73d-0ae4-472b-9552-f564333b6f2e",
   "metadata": {},
   "outputs": [
    {
     "data": {
      "text/plain": [
       "(42, 934813983, 'swayam', 'swayam@gmail.com')"
      ]
     },
     "execution_count": 57,
     "metadata": {},
     "output_type": "execute_result"
    }
   ],
   "source": [
    "s1.innerfunc()"
   ]
  },
  {
   "cell_type": "code",
   "execution_count": 58,
   "id": "041b3cb3-70ac-4c3d-8d4f-23a6efb40fcc",
   "metadata": {},
   "outputs": [
    {
     "data": {
      "text/plain": [
       "42"
      ]
     },
     "execution_count": 58,
     "metadata": {},
     "output_type": "execute_result"
    }
   ],
   "source": [
    "s1.stdid1"
   ]
  },
  {
   "cell_type": "code",
   "execution_count": 59,
   "id": "7027cb07-60c1-4bb1-b360-16c755a812c3",
   "metadata": {},
   "outputs": [
    {
     "data": {
      "text/plain": [
       "934813983"
      ]
     },
     "execution_count": 59,
     "metadata": {},
     "output_type": "execute_result"
    }
   ],
   "source": [
    "s1.phone_no1"
   ]
  },
  {
   "cell_type": "markdown",
   "id": "f8f4da74-e31d-451d-8d4c-b9136790c19c",
   "metadata": {},
   "source": [
    "### ________________ Polymorphism_______________"
   ]
  },
  {
   "cell_type": "code",
   "execution_count": 60,
   "id": "02e9a239-29be-4d89-b60e-48d1a4b18b16",
   "metadata": {},
   "outputs": [],
   "source": [
    "class DataScience:\n",
    "    def syllabus(self):\n",
    "        print(\"this is the syllabus for data-science\")"
   ]
  },
  {
   "cell_type": "code",
   "execution_count": 61,
   "id": "958fd092-19bb-40ac-bb2f-18253a391085",
   "metadata": {},
   "outputs": [],
   "source": [
    "class WebDev:\n",
    "    def syllabus(self):\n",
    "        print(\"this is the syllabus for web-dev\")"
   ]
  },
  {
   "cell_type": "code",
   "execution_count": 62,
   "id": "1b7bba75-31d9-4599-90f5-47fda154ff06",
   "metadata": {},
   "outputs": [],
   "source": [
    "def polymorphism(class_obj):\n",
    "    for i in class_obj:\n",
    "        i.syllabus()"
   ]
  },
  {
   "cell_type": "code",
   "execution_count": 63,
   "id": "275f65e3-1d90-4369-9e2d-d9b5109793af",
   "metadata": {},
   "outputs": [],
   "source": [
    "web=WebDev()"
   ]
  },
  {
   "cell_type": "code",
   "execution_count": 64,
   "id": "7930e36c-0eb9-4cfe-b525-30df9f896a45",
   "metadata": {},
   "outputs": [],
   "source": [
    "data=DataScience()"
   ]
  },
  {
   "cell_type": "code",
   "execution_count": 65,
   "id": "421bc90f-7ec7-4776-bea5-5731e880beb9",
   "metadata": {},
   "outputs": [],
   "source": [
    "class_obj = [web,data]"
   ]
  },
  {
   "cell_type": "code",
   "execution_count": 66,
   "id": "76330f38-e383-45ba-8108-0b8ef7938dea",
   "metadata": {},
   "outputs": [
    {
     "name": "stdout",
     "output_type": "stream",
     "text": [
      "this is the syllabus for web-dev\n",
      "this is the syllabus for data-science\n"
     ]
    }
   ],
   "source": [
    "polymorphism(class_obj)"
   ]
  },
  {
   "cell_type": "markdown",
   "id": "c4fc0294-4780-4ea8-9dc3-6b6ab7b35b16",
   "metadata": {},
   "source": [
    "##### the same function prints different results or shows different beahviour according to the user data"
   ]
  },
  {
   "cell_type": "code",
   "execution_count": 67,
   "id": "7b908763-23a7-4f74-b4a0-59d21acdd165",
   "metadata": {},
   "outputs": [],
   "source": [
    "class Dog:\n",
    "    def move(self):\n",
    "        print(\"the dog is moving\")\n",
    "    def sound(self):\n",
    "        print(\"the dog is barking\")\n",
    "class Cat:\n",
    "    def move(self):\n",
    "        print(\"the cat is moving\")\n",
    "    def sound(self):\n",
    "        print(\"the cat is meowing\")"
   ]
  },
  {
   "cell_type": "code",
   "execution_count": 68,
   "id": "7892fbfa-0b56-4d37-8806-e9a281c56689",
   "metadata": {},
   "outputs": [],
   "source": [
    "def polymorphism(class_obj):\n",
    "    for i in class_obj:\n",
    "        i.move()\n",
    "        i.sound()"
   ]
  },
  {
   "cell_type": "code",
   "execution_count": 69,
   "id": "2339a694-0986-4dc8-930b-dcce43cfc910",
   "metadata": {},
   "outputs": [],
   "source": [
    "dog = Dog()\n",
    "cat = Cat()"
   ]
  },
  {
   "cell_type": "code",
   "execution_count": 70,
   "id": "39e6d237-8a7a-4336-aeb0-4b989039a130",
   "metadata": {},
   "outputs": [],
   "source": [
    "class_obj=[dog]"
   ]
  },
  {
   "cell_type": "code",
   "execution_count": 71,
   "id": "078a679d-d5c7-46c5-a992-a0e380d82713",
   "metadata": {},
   "outputs": [
    {
     "name": "stdout",
     "output_type": "stream",
     "text": [
      "the dog is moving\n",
      "the dog is barking\n"
     ]
    }
   ],
   "source": [
    "polymorphism(class_obj)"
   ]
  },
  {
   "cell_type": "markdown",
   "id": "15ccede8-687c-4ad6-8b0a-32f922cc4614",
   "metadata": {},
   "source": [
    "### ________________ Encapsulation _______________"
   ]
  },
  {
   "cell_type": "code",
   "execution_count": 72,
   "id": "52b5c3bc-bb53-4a06-a67c-26250282b69e",
   "metadata": {},
   "outputs": [],
   "source": [
    "class test:\n",
    "    def __init__ (self,a,b):\n",
    "        self.a=a\n",
    "        self.b=b"
   ]
  },
  {
   "cell_type": "code",
   "execution_count": 73,
   "id": "52de51f2-00d2-4f35-a1ba-d220e82008f6",
   "metadata": {},
   "outputs": [],
   "source": [
    "t =test(23,45)"
   ]
  },
  {
   "cell_type": "code",
   "execution_count": 74,
   "id": "ddb514a9-f1e9-4487-8d04-e1175fdf46f7",
   "metadata": {},
   "outputs": [
    {
     "data": {
      "text/plain": [
       "23"
      ]
     },
     "execution_count": 74,
     "metadata": {},
     "output_type": "execute_result"
    }
   ],
   "source": [
    "t.a"
   ]
  },
  {
   "cell_type": "code",
   "execution_count": 75,
   "id": "c8db5b18-789a-4629-a9e2-cb0dec05aa32",
   "metadata": {},
   "outputs": [],
   "source": [
    "t.a=2323"
   ]
  },
  {
   "cell_type": "code",
   "execution_count": 76,
   "id": "dd6a3b8d-e70b-4b83-962a-f199b1d9aeca",
   "metadata": {},
   "outputs": [
    {
     "data": {
      "text/plain": [
       "2323"
      ]
     },
     "execution_count": 76,
     "metadata": {},
     "output_type": "execute_result"
    }
   ],
   "source": [
    "t.a ## user is able to modify the values this is what we don't want"
   ]
  },
  {
   "cell_type": "markdown",
   "id": "e8a1eec4-9c3c-40e9-bc2c-88dc51e25683",
   "metadata": {},
   "source": [
    "### it prevents user from modifying the functions"
   ]
  },
  {
   "cell_type": "code",
   "execution_count": 1,
   "id": "acea6460-9b5e-4c42-92a4-4032826da443",
   "metadata": {},
   "outputs": [],
   "source": [
    "class car:\n",
    "    def __init__(self,year,make,model,speed):\n",
    "        self.__year=year\n",
    "        self.__make = make\n",
    "        self.__model= model\n",
    "        self.topspeed = speed\n",
    "    def show(self):\n",
    "        return self.__year,self.topspeed,self.__make,self.__model"
   ]
  },
  {
   "cell_type": "code",
   "execution_count": 78,
   "id": "6d97359e-dbc8-45ac-9fa5-6f51140765e6",
   "metadata": {},
   "outputs": [],
   "source": [
    "Car = car(2101,\"Honda\",\"Civic\",100)"
   ]
  },
  {
   "cell_type": "code",
   "execution_count": 79,
   "id": "acb938b4-4b53-404f-a5c1-5a165fd75908",
   "metadata": {},
   "outputs": [
    {
     "data": {
      "text/plain": [
       "100"
      ]
     },
     "execution_count": 79,
     "metadata": {},
     "output_type": "execute_result"
    }
   ],
   "source": [
    "Car.topspeed"
   ]
  },
  {
   "cell_type": "code",
   "execution_count": 80,
   "id": "7287df79-9995-4fdb-aadb-349886a246d5",
   "metadata": {},
   "outputs": [
    {
     "data": {
      "text/plain": [
       "(2101, 100, 'Honda', 'Civic')"
      ]
     },
     "execution_count": 80,
     "metadata": {},
     "output_type": "execute_result"
    }
   ],
   "source": [
    "Car.show()"
   ]
  },
  {
   "cell_type": "markdown",
   "id": "18c2fbf1-3aa4-47e4-a4c6-348880f7aa2b",
   "metadata": {},
   "source": [
    "###### we see the user cannot access the other variables like make ,model,year"
   ]
  },
  {
   "cell_type": "code",
   "execution_count": 81,
   "id": "2ea35a51-04f2-41b3-a436-1367d9512ded",
   "metadata": {},
   "outputs": [
    {
     "ename": "AttributeError",
     "evalue": "'car' object has no attribute 'year'",
     "output_type": "error",
     "traceback": [
      "\u001b[1;31m---------------------------------------------------------------------------\u001b[0m",
      "\u001b[1;31mAttributeError\u001b[0m                            Traceback (most recent call last)",
      "Cell \u001b[1;32mIn[81], line 1\u001b[0m\n\u001b[1;32m----> 1\u001b[0m \u001b[43mCar\u001b[49m\u001b[38;5;241;43m.\u001b[39;49m\u001b[43myear\u001b[49m\n",
      "\u001b[1;31mAttributeError\u001b[0m: 'car' object has no attribute 'year'"
     ]
    }
   ],
   "source": [
    "Car.year"
   ]
  },
  {
   "cell_type": "markdown",
   "id": "6b64af4d-c791-4e2b-96c6-6e618a307c0e",
   "metadata": {},
   "source": [
    "#### as we can see user does not have access to the year , make and model of the car as it has been encapsulated"
   ]
  },
  {
   "cell_type": "markdown",
   "id": "a0d41f33-6c6c-42d0-924a-88bd68fc24d7",
   "metadata": {},
   "source": [
    "### another way to change speed by the user and get the result ,but nothing else can be changed by the user"
   ]
  },
  {
   "cell_type": "code",
   "execution_count": 2,
   "id": "37b30148-e2d0-40ce-9773-ff1c762a9398",
   "metadata": {},
   "outputs": [],
   "source": [
    "class car:\n",
    "    def __init__(self,year,make,model,speed):\n",
    "        self.__year=year\n",
    "        self.__make = make\n",
    "        self.__model= model\n",
    "        self.__topspeed = speed\n",
    "    def set_speed(self,speed):\n",
    "        self.__topspeed = 0 if speed < 0 else speed\n",
    "    def get_speed(self):\n",
    "        return self.__topspeed"
   ]
  },
  {
   "cell_type": "code",
   "execution_count": 83,
   "id": "0cab8b47-e141-48ac-862f-0fc199b1b8f3",
   "metadata": {},
   "outputs": [],
   "source": [
    "Car = car(2101,\"Honda\",\"Civic\",100)"
   ]
  },
  {
   "cell_type": "code",
   "execution_count": 84,
   "id": "9864ba2e-afe0-4e0f-b729-ecc3cbbfcf77",
   "metadata": {},
   "outputs": [],
   "source": [
    "Car.set_speed(200)"
   ]
  },
  {
   "cell_type": "code",
   "execution_count": 85,
   "id": "386d7ded-bc48-41f2-98fa-f95ae668a4eb",
   "metadata": {},
   "outputs": [
    {
     "data": {
      "text/plain": [
       "200"
      ]
     },
     "execution_count": 85,
     "metadata": {},
     "output_type": "execute_result"
    }
   ],
   "source": [
    "Car.get_speed()"
   ]
  },
  {
   "cell_type": "markdown",
   "id": "1b8b2f54-d32d-438f-b068-c21b9d482694",
   "metadata": {},
   "source": [
    "### ________________ Inheritance _______________"
   ]
  },
  {
   "cell_type": "code",
   "execution_count": 86,
   "id": "1d5b9174-d29f-4c9e-8027-4c185018ebfe",
   "metadata": {},
   "outputs": [],
   "source": [
    "class test:\n",
    "    def test_meth(self):\n",
    "        return \"this is my first class\""
   ]
  },
  {
   "cell_type": "code",
   "execution_count": 87,
   "id": "9f2de988-ad96-45b2-8a51-75b6183d7773",
   "metadata": {},
   "outputs": [],
   "source": [
    "class child_test(test):\n",
    "    pass"
   ]
  },
  {
   "cell_type": "code",
   "execution_count": 88,
   "id": "39ccbbf6-7845-4c12-b1a0-bde3e20ac3a2",
   "metadata": {},
   "outputs": [],
   "source": [
    "child_test_obj = child_test() ## the object of child_test  here inherited the function from test class as we passed class test as argumnet\n",
    "# to the child_test class"
   ]
  },
  {
   "cell_type": "code",
   "execution_count": 89,
   "id": "d195e223-0dfa-4e6f-a79a-f9a6e692f18f",
   "metadata": {},
   "outputs": [
    {
     "data": {
      "text/plain": [
       "'this is my first class'"
      ]
     },
     "execution_count": 89,
     "metadata": {},
     "output_type": "execute_result"
    }
   ],
   "source": [
    "child_test_obj.test_meth()"
   ]
  },
  {
   "cell_type": "markdown",
   "id": "daa67136-2642-49be-b8ba-9af8a14c0aac",
   "metadata": {},
   "source": [
    "### ________________ Multilevel Inheritance _______________"
   ]
  },
  {
   "attachments": {
    "13eb29e8-44e4-46b9-a366-027098ecbb8d.png": {
     "image/png": "[encoded data removed]"
    }
   },
   "cell_type": "markdown",
   "id": "ae04a8ca-0f55-4c6a-99a7-3f3c30ea50b3",
   "metadata": {},
   "source": [
    "![image.png](attachment:13eb29e8-44e4-46b9-a366-027098ecbb8d.png)"
   ]
  },
  {
   "cell_type": "code",
   "execution_count": 90,
   "id": "6a1adbec-4868-4103-a34f-1bff4eb08d3a",
   "metadata": {},
   "outputs": [],
   "source": [
    "class class1:\n",
    "    def test_class1(self):\n",
    "        return \"this is a meth from class1\""
   ]
  },
  {
   "cell_type": "code",
   "execution_count": 91,
   "id": "a845248c-abe1-4981-87a5-dd8f1bf72705",
   "metadata": {},
   "outputs": [],
   "source": [
    "class class2(class1):\n",
    "    def test_class2(self):\n",
    "        return \"this is a meth from class2\""
   ]
  },
  {
   "cell_type": "code",
   "execution_count": 92,
   "id": "a975d82a-4e9b-4651-bed7-70b05a350887",
   "metadata": {},
   "outputs": [],
   "source": [
    "class class3(class2):\n",
    "    pass"
   ]
  },
  {
   "cell_type": "code",
   "execution_count": 93,
   "id": "b0a8572a-1cc6-4a9b-b614-2d670ee81b0c",
   "metadata": {},
   "outputs": [],
   "source": [
    "obj_class3 = class3()"
   ]
  },
  {
   "cell_type": "code",
   "execution_count": 94,
   "id": "c11f411c-0cb1-43ce-848c-f0f34b8c9b08",
   "metadata": {},
   "outputs": [
    {
     "data": {
      "text/plain": [
       "'this is a meth from class2'"
      ]
     },
     "execution_count": 94,
     "metadata": {},
     "output_type": "execute_result"
    }
   ],
   "source": [
    "obj_class3.test_class2()"
   ]
  },
  {
   "cell_type": "code",
   "execution_count": 95,
   "id": "a2eaf1ad-af13-4547-9e96-a51964b1e5b5",
   "metadata": {},
   "outputs": [
    {
     "data": {
      "text/plain": [
       "'this is a meth from class1'"
      ]
     },
     "execution_count": 95,
     "metadata": {},
     "output_type": "execute_result"
    }
   ],
   "source": [
    "obj_class3.test_class1()"
   ]
  },
  {
   "cell_type": "code",
   "execution_count": 96,
   "id": "9787593b-1192-4ba9-a4c6-d5b3b49f86e5",
   "metadata": {},
   "outputs": [],
   "source": [
    "obj_class2 = class2()\n"
   ]
  },
  {
   "cell_type": "code",
   "execution_count": 97,
   "id": "7c7c0155-a110-40a6-859e-c67c85f62f4c",
   "metadata": {},
   "outputs": [
    {
     "data": {
      "text/plain": [
       "'this is a meth from class2'"
      ]
     },
     "execution_count": 97,
     "metadata": {},
     "output_type": "execute_result"
    }
   ],
   "source": [
    "obj_class2.test_class2()"
   ]
  },
  {
   "cell_type": "code",
   "execution_count": 98,
   "id": "94026117-ba4f-4583-bc76-6c7b86eca9b6",
   "metadata": {},
   "outputs": [
    {
     "data": {
      "text/plain": [
       "'this is a meth from class1'"
      ]
     },
     "execution_count": 98,
     "metadata": {},
     "output_type": "execute_result"
    }
   ],
   "source": [
    "obj_class2.test_class1()"
   ]
  },
  {
   "cell_type": "markdown",
   "id": "14444736-1aa4-405f-86cb-f98dec17b72e",
   "metadata": {},
   "source": [
    "### ________________ Multiple Inheritance _______________"
   ]
  },
  {
   "attachments": {
    "8a3a843a-6acc-4958-a39d-85e088255857.png": {
     "image/png": "[encoded data removed]"
    }
   },
   "cell_type": "markdown",
   "id": "e6f81c04-b3bd-405e-ab2a-de61a72d1be0",
   "metadata": {},
   "source": [
    "![image.png](attachment:8a3a843a-6acc-4958-a39d-85e088255857.png)"
   ]
  },
  {
   "cell_type": "code",
   "execution_count": 99,
   "id": "43fe13aa-19c0-4bf8-ab74-3071e91d724c",
   "metadata": {},
   "outputs": [],
   "source": [
    "class class1:\n",
    "    def test_class1(self):\n",
    "        return \"this is a method from class1\""
   ]
  },
  {
   "cell_type": "code",
   "execution_count": 100,
   "id": "24a85384-2866-410c-8578-9cbf237dedde",
   "metadata": {},
   "outputs": [],
   "source": [
    "class class2:\n",
    "    def test_class2(self):\n",
    "        return \"this is a emthod from class2\""
   ]
  },
  {
   "cell_type": "code",
   "execution_count": 101,
   "id": "e19d0ce3-1e91-4a80-ba1d-ed229f4d62ac",
   "metadata": {},
   "outputs": [],
   "source": [
    "class class3(class1,class2):\n",
    "    pass"
   ]
  },
  {
   "cell_type": "code",
   "execution_count": 102,
   "id": "e0f35ec2-b866-4ce6-8ea5-ba1df14ea6a5",
   "metadata": {},
   "outputs": [],
   "source": [
    "obj_class3=class3()"
   ]
  },
  {
   "cell_type": "code",
   "execution_count": 103,
   "id": "23225a6e-de6b-4fcb-ab5d-f221022eae76",
   "metadata": {},
   "outputs": [
    {
     "data": {
      "text/plain": [
       "'this is a method from class1'"
      ]
     },
     "execution_count": 103,
     "metadata": {},
     "output_type": "execute_result"
    }
   ],
   "source": [
    "obj_class3.test_class1()"
   ]
  },
  {
   "cell_type": "code",
   "execution_count": 104,
   "id": "3eab1a7f-4717-45f8-b01d-b3622beee23b",
   "metadata": {},
   "outputs": [
    {
     "data": {
      "text/plain": [
       "'this is a emthod from class2'"
      ]
     },
     "execution_count": 104,
     "metadata": {},
     "output_type": "execute_result"
    }
   ],
   "source": [
    "obj_class3.test_class2()"
   ]
  },
  {
   "cell_type": "markdown",
   "id": "e284961c-218a-47c8-9054-f11257c8a963",
   "metadata": {},
   "source": [
    "### ________________ Abstarction_______________"
   ]
  },
  {
   "cell_type": "code",
   "execution_count": 4,
   "id": "0cf1a819-8480-4a43-b51e-0135c9e4818e",
   "metadata": {},
   "outputs": [],
   "source": [
    "import abc\n",
    "class details:\n",
    "  \n",
    "    def std_details(self):\n",
    "        return \"hey\"\n",
    "    @abc.abstractmethod\n",
    "    def std_subject(self):\n",
    "        pass"
   ]
  },
  {
   "cell_type": "code",
   "execution_count": 5,
   "id": "8abaf96e-10e0-4194-9c96-81c03e67f629",
   "metadata": {},
   "outputs": [],
   "source": [
    "class s1(details):\n",
    "    def std_details1(self):\n",
    "        print(\"the students s1 name is swayam\")\n",
    "    def std_subjects(self):\n",
    "        print(\"the student s1 learns maths\")\n",
    "class s2(details):\n",
    "    def std_details2(self):\n",
    "        print(\"the students s2 name is rahul\")\n",
    "    def std_subjects(self):\n",
    "        print(\"the students learns physics\")\n"
   ]
  },
  {
   "cell_type": "code",
   "execution_count": 6,
   "id": "d2d3b2d0-e7dc-4db0-a1d6-3bbddf5fcbf8",
   "metadata": {},
   "outputs": [],
   "source": [
    "s1_1=s1()"
   ]
  },
  {
   "cell_type": "code",
   "execution_count": 7,
   "id": "0eb50ce8-5bf2-435b-89df-d1b410456480",
   "metadata": {},
   "outputs": [],
   "source": [
    "s2_2=s2()"
   ]
  },
  {
   "cell_type": "code",
   "execution_count": 8,
   "id": "579e34f5-b266-4860-aeca-da04f8b1ce11",
   "metadata": {},
   "outputs": [
    {
     "data": {
      "text/plain": [
       "'hey'"
      ]
     },
     "execution_count": 8,
     "metadata": {},
     "output_type": "execute_result"
    }
   ],
   "source": [
    "s1_1.std_details()"
   ]
  },
  {
   "cell_type": "code",
   "execution_count": 9,
   "id": "287cb431-5b55-4ac4-8c8f-28b59f0c8c60",
   "metadata": {},
   "outputs": [
    {
     "name": "stdout",
     "output_type": "stream",
     "text": [
      "the students s1 name is swayam\n"
     ]
    }
   ],
   "source": [
    "s1_1.std_details1()"
   ]
  },
  {
   "cell_type": "code",
   "execution_count": 10,
   "id": "0933a45c-c5d2-45f5-bf5f-f4645b60b864",
   "metadata": {},
   "outputs": [
    {
     "name": "stdout",
     "output_type": "stream",
     "text": [
      "the student s1 learns maths\n"
     ]
    }
   ],
   "source": [
    "s1_1.std_subjects()"
   ]
  },
  {
   "cell_type": "code",
   "execution_count": 11,
   "id": "31553a89-73d4-413d-a980-efbf2476344f",
   "metadata": {},
   "outputs": [
    {
     "name": "stdout",
     "output_type": "stream",
     "text": [
      "the students learns physics\n"
     ]
    }
   ],
   "source": [
    "s2_2.std_subjects()"
   ]
  },
  {
   "cell_type": "code",
   "execution_count": 12,
   "id": "a452a4bd-05ed-45c4-a0c1-014684f7b048",
   "metadata": {},
   "outputs": [],
   "source": [
    "class_obj = details()"
   ]
  },
  {
   "cell_type": "code",
   "execution_count": 13,
   "id": "88e98c66-e3f0-43ba-bd95-8e9c7f76e552",
   "metadata": {},
   "outputs": [
    {
     "data": {
      "text/plain": [
       "'hey'"
      ]
     },
     "execution_count": 13,
     "metadata": {},
     "output_type": "execute_result"
    }
   ],
   "source": [
    "class_obj.std_details()"
   ]
  },
  {
   "cell_type": "code",
   "execution_count": 11,
   "id": "af958ce7-68cf-4422-92c5-87b6686e0a88",
   "metadata": {},
   "outputs": [
    {
     "name": "stdout",
     "output_type": "stream",
     "text": [
      "Hello, World!\n",
      "Instance Variable Value\n"
     ]
    }
   ],
   "source": [
    "class MyClass:\n",
    "    class_variable = \"Hello, World!\"\n",
    "    \n",
    "    def __init__(self, instance_variable):\n",
    "        self.instance_variable = instance_variable\n",
    "    \n",
    "    @classmethod\n",
    "    def class_method(cls):\n",
    "        return cls.class_variable\n",
    "    \n",
    "    @classmethod\n",
    "    def alternative_constructor(cls, value):\n",
    "        return cls(value)\n",
    "\n",
    "# Accessing the class method\n",
    "print(MyClass.class_method())  # Output: Hello, World!\n",
    "\n",
    "# Using the class method as an alternative constructor\n",
    "instance = MyClass.alternative_constructor(\"Instance Variable Value\")\n",
    "print(instance.instance_variable)  # Output: Instance Variable Value\n"
   ]
  },
  {
   "cell_type": "code",
   "execution_count": 15,
   "id": "1e64d49b-d5cd-40a8-be5c-d6c4faee3c01",
   "metadata": {},
   "outputs": [],
   "source": [
    "class Myclass:\n",
    "    class_variable=\"HEllo world\"\n",
    "\n",
    "    def __init__(self,name,age):\n",
    "        self.name = name\n",
    "        self.age = age\n",
    "        \n",
    "    def variable(self):\n",
    "        return self.age,self.name\n",
    "        \n",
    "        "
   ]
  },
  {
   "cell_type": "code",
   "execution_count": 16,
   "id": "a3d26ea3-030f-41eb-bbb1-9ad345582eda",
   "metadata": {},
   "outputs": [],
   "source": [
    "cobj = Myclass(\"swayam\",21)"
   ]
  },
  {
   "cell_type": "code",
   "execution_count": 17,
   "id": "c1a877c7-50dc-4690-8166-e7ed8d7b80de",
   "metadata": {},
   "outputs": [
    {
     "data": {
      "text/plain": [
       "(21, 'swayam')"
      ]
     },
     "execution_count": 17,
     "metadata": {},
     "output_type": "execute_result"
    }
   ],
   "source": [
    "cobj.variable()"
   ]
  },
  {
   "cell_type": "code",
   "execution_count": 18,
   "id": "7e0297a9-3e40-4a5a-a46b-34a42bfc3a80",
   "metadata": {},
   "outputs": [
    {
     "data": {
      "text/plain": [
       "<function __main__.Myclass.variable(self)>"
      ]
     },
     "execution_count": 18,
     "metadata": {},
     "output_type": "execute_result"
    }
   ],
   "source": [
    "Myclass.variable"
   ]
  },
  {
   "cell_type": "code",
   "execution_count": 19,
   "id": "45331250-da75-4ef0-aa77-9d4fbe57d8fc",
   "metadata": {},
   "outputs": [],
   "source": [
    "class Myclass:\n",
    "    class_variable=\"HEllo world\"\n",
    "\n",
    "    def __init__(self,name,age):\n",
    "        self.name = name\n",
    "        self.age = age\n",
    "        \n",
    "    def variable(self):\n",
    "        return self.age,self.name\n",
    "        \n",
    "    @classmethod\n",
    "    def class_method(cls,name,age):\n",
    "        return cls(name,age)\n",
    "        "
   ]
  },
  {
   "cell_type": "code",
   "execution_count": 20,
   "id": "e9deafa9-cfa9-46bb-977a-fefffdcd1f3f",
   "metadata": {},
   "outputs": [
    {
     "data": {
      "text/plain": [
       "<__main__.Myclass at 0x20fbbe210d0>"
      ]
     },
     "execution_count": 20,
     "metadata": {},
     "output_type": "execute_result"
    }
   ],
   "source": [
    "Myclass.class_method(\"swayam\",21)  #"
   ]
  },
  {
   "cell_type": "code",
   "execution_count": 21,
   "id": "3415f2a1-d0c2-4458-a11e-431b67b7e805",
   "metadata": {},
   "outputs": [],
   "source": [
    "obj=Myclass.class_method(\"swayam\",21)"
   ]
  },
  {
   "cell_type": "code",
   "execution_count": 22,
   "id": "0e811e16-fb56-4c6f-8bad-5e016ce3bf27",
   "metadata": {},
   "outputs": [
    {
     "data": {
      "text/plain": [
       "'swayam'"
      ]
     },
     "execution_count": 22,
     "metadata": {},
     "output_type": "execute_result"
    }
   ],
   "source": [
    "obj.name"
   ]
  },
  {
   "cell_type": "code",
   "execution_count": 23,
   "id": "4284e53f-647f-4bc9-9eb7-50c14b914a52",
   "metadata": {},
   "outputs": [
    {
     "data": {
      "text/plain": [
       "(21, 'swayam')"
      ]
     },
     "execution_count": 23,
     "metadata": {},
     "output_type": "execute_result"
    }
   ],
   "source": [
    "obj.variable()"
   ]
  },
  {
   "cell_type": "markdown",
   "id": "05301704-c4f0-4871-abc6-ab463802df0e",
   "metadata": {},
   "source": [
    "## ________________ Methods_______________"
   ]
  },
  {
   "cell_type": "markdown",
   "id": "7d767bd2-8e46-4367-b6ad-2d1e24ab1c92",
   "metadata": {},
   "source": [
    "##### _________________________ Class Methods____________________"
   ]
  },
  {
   "cell_type": "code",
   "execution_count": 62,
   "id": "2c04eca9-038d-40e1-959c-34b93874cfd4",
   "metadata": {},
   "outputs": [],
   "source": [
    "class Learning_methods:\n",
    "    mobile_num= 9348139639\n",
    "    def __init__(self,name,email):\n",
    "        self.name =  name\n",
    "        self.email = email\n",
    "    @classmethod\n",
    "    def details(cls,name,email):\n",
    "        return cls(name,email)\n",
    "    def view_details(self):\n",
    "        print(self.name,self.email)"
   ]
  },
  {
   "cell_type": "code",
   "execution_count": 63,
   "id": "3efeea6f-5df2-4083-b2d8-32163c607273",
   "metadata": {},
   "outputs": [
    {
     "data": {
      "text/plain": [
       "9348139639"
      ]
     },
     "execution_count": 63,
     "metadata": {},
     "output_type": "execute_result"
    }
   ],
   "source": [
    "Learning_methods.mobile_num"
   ]
  },
  {
   "cell_type": "code",
   "execution_count": 64,
   "id": "4db88363-a738-4cc9-8902-f537d988fca4",
   "metadata": {},
   "outputs": [
    {
     "data": {
      "text/plain": [
       "<__main__.Learning_methods at 0x20fbcbc2b90>"
      ]
     },
     "execution_count": 64,
     "metadata": {},
     "output_type": "execute_result"
    }
   ],
   "source": [
    "Learning_methods.details(\"swayam\",\"swayam@gmail.com\")"
   ]
  },
  {
   "cell_type": "code",
   "execution_count": 65,
   "id": "8a9f4e44-d2a0-4fb7-b07e-c111a0228c06",
   "metadata": {},
   "outputs": [],
   "source": [
    "lm = Learning_methods.details(\"swayam\",\"swayam@gmail.com\")"
   ]
  },
  {
   "cell_type": "code",
   "execution_count": 66,
   "id": "3619de34-d8a4-47f6-9629-c29a6454e5a6",
   "metadata": {},
   "outputs": [
    {
     "data": {
      "text/plain": [
       "'swayam'"
      ]
     },
     "execution_count": 66,
     "metadata": {},
     "output_type": "execute_result"
    }
   ],
   "source": [
    "lm.name"
   ]
  },
  {
   "cell_type": "code",
   "execution_count": 68,
   "id": "fb462c2a-10a7-4d3b-bd67-4edd15ecaeb6",
   "metadata": {},
   "outputs": [
    {
     "name": "stdout",
     "output_type": "stream",
     "text": [
      "swayam swayam@gmail.com\n"
     ]
    }
   ],
   "source": [
    "lm.view_details()"
   ]
  },
  {
   "cell_type": "code",
   "execution_count": 73,
   "id": "022d2bca-fa37-4796-91ec-5a6617774346",
   "metadata": {},
   "outputs": [],
   "source": [
    "lm1 = Learning_methods(\"swayam\",\"swayam@gmail.com\")"
   ]
  },
  {
   "cell_type": "code",
   "execution_count": 74,
   "id": "cb262d5f-c2df-4e2d-9106-9b62e004a38d",
   "metadata": {},
   "outputs": [
    {
     "data": {
      "text/plain": [
       "'swayam'"
      ]
     },
     "execution_count": 74,
     "metadata": {},
     "output_type": "execute_result"
    }
   ],
   "source": [
    "lm1.name"
   ]
  },
  {
   "cell_type": "code",
   "execution_count": 75,
   "id": "7ed1c3d2-f95e-4b2f-8559-b6cd665d9f4d",
   "metadata": {},
   "outputs": [
    {
     "name": "stdout",
     "output_type": "stream",
     "text": [
      "Buddy is barking.\n",
      "Daisy is barking.\n",
      "Buddy is now 5 years old.\n",
      "Daisy is now 6 years old.\n"
     ]
    }
   ],
   "source": [
    "##INSTANCE METHODS\n",
    "class Dog:\n",
    "    def __init__(self, name, age):\n",
    "        self.name = name  # Instance variable\n",
    "        self.age = age  # Instance variable\n",
    "\n",
    "    def bark(self):\n",
    "        return f\"{self.name} is barking.\"\n",
    "\n",
    "    def get_older(self, years):\n",
    "        self.age += years\n",
    "        return f\"{self.name} is now {self.age} years old.\"\n",
    "\n",
    "# Creating instances of Dog\n",
    "dog1 = Dog(\"Buddy\", 3)\n",
    "dog2 = Dog(\"Daisy\", 5)\n",
    "\n",
    "# Calling instance methods on the instances\n",
    "print(dog1.bark())  # Output: Buddy is barking.\n",
    "print(dog2.bark())  # Output: Daisy is barking.\n",
    "\n",
    "print(dog1.get_older(2))  # Output: Buddy is now 5 years old.\n",
    "print(dog2.get_older(1))  # Output: Daisy is now 6 years old.\n"
   ]
  },
  {
   "cell_type": "code",
   "execution_count": 86,
   "id": "e4c3ff39-164c-4c65-9f8f-67bddcc4b9e2",
   "metadata": {},
   "outputs": [
    {
     "name": "stdout",
     "output_type": "stream",
     "text": [
      "There are 0 dogs.\n",
      "There are 2 dogs.\n",
      "Bella\n",
      "0\n",
      "There are 3 dogs.\n"
     ]
    }
   ],
   "source": [
    "##CLASS METHODS\n",
    "class Dog:\n",
    "    population = 0  # Class variable\n",
    "\n",
    "    def __init__(self, name, age):\n",
    "        self.name = name\n",
    "        self.age = age\n",
    "        Dog.population += 1  # Increment the population count when a new instance is created\n",
    "\n",
    "    @classmethod\n",
    "    def get_population(cls):\n",
    "        return f\"There are {cls.population} dogs.\"\n",
    "\n",
    "    @classmethod\n",
    "    def create_puppy(cls, name):\n",
    "        return cls(name, 0)  # Return a new instance of Dog with age 0\n",
    "\n",
    "# Using class methods\n",
    "print(Dog.get_population())  # Output: There are 0 dogs.\n",
    "\n",
    "# Creating instances of Dog\n",
    "dog1 = Dog(\"Buddy\", 3)\n",
    "dog2 = Dog(\"Daisy\", 5)\n",
    "\n",
    "print(Dog.get_population())  # Output: There are 2 dogs.\n",
    "\n",
    "# Creating a puppy using the class method\n",
    "puppy = Dog.create_puppy(\"Bella\")\n",
    "print(puppy.name)  # Output: Bella\n",
    "print(puppy.age)  # Output: 0\n",
    "print(Dog.get_population())  # Output: There are 3 dogs.\n"
   ]
  },
  {
   "cell_type": "code",
   "execution_count": 87,
   "id": "7d47ca6b-4a18-43df-b77f-a3f80dff8c65",
   "metadata": {},
   "outputs": [
    {
     "data": {
      "text/plain": [
       "<__main__.Dog at 0x20fbc83fe50>"
      ]
     },
     "execution_count": 87,
     "metadata": {},
     "output_type": "execute_result"
    }
   ],
   "source": [
    "dog1.create_puppy(\"caesar\")"
   ]
  },
  {
   "cell_type": "markdown",
   "id": "96cdfabc-1195-4b8a-8106-acbd4afbda43",
   "metadata": {},
   "source": [
    "# Key Differences\n",
    "## Instance Methods:\n",
    "\n",
    "#### 1.Access instance-specific data via self.\n",
    "#### 2.Can modify the state of the specific instance.\n",
    "#### 3.Called on an instance of the class.\n",
    "#### 4.Example: dog1.bark(), dog2.get_older(1).\n",
    "\n",
    "## Class Methods:\n",
    "\n",
    "#### 1.Access class-specific data via cls.\n",
    "#### 2.Can modify the state that affects all instances of the class.\n",
    "#### 3.Called on the class itself.\n",
    "#### 4.Example: Dog.get_population(), Dog.create_puppy(\"Bella\")."
   ]
  },
  {
   "cell_type": "code",
   "execution_count": 204,
   "id": "172cdf9f-e059-4204-90aa-54bcb379b54b",
   "metadata": {},
   "outputs": [],
   "source": [
    "class LearningClassMethods:\n",
    "    mob_num = 9348139639\n",
    "    def __init__(self,name,email):\n",
    "        self.name = name\n",
    "        self.email = email\n",
    "    def change_mobnum(self,new_num):\n",
    "        self.mob_num = new_num\n",
    "    @classmethod    \n",
    "    def change_mobnumber(cls,new_num):\n",
    "        LearningClassMethods.mob_num = new_num\n",
    "    @classmethod\n",
    "    def class_methods(cls,name ,email):\n",
    "        print(f\"My name is {name}\")\n",
    "        print(f\"my mobile no is {LearningClassMethods.mob_num}\")\n",
    "        print(f\"my email id is {email}\")\n",
    "        return cls(name,email)\n",
    "    def show_details(self):\n",
    "        print(self.name,self.email,self.mob_num)"
   ]
  },
  {
   "cell_type": "code",
   "execution_count": 205,
   "id": "bf286ef3-f0ff-46a9-b266-7886f7be5d44",
   "metadata": {},
   "outputs": [],
   "source": [
    "class_obj = LearningClassMethods(\"swayam\",\"swayam@gmail.com\")"
   ]
  },
  {
   "cell_type": "code",
   "execution_count": 206,
   "id": "7abff00f-d580-4fca-b2cf-fe25a157e0cf",
   "metadata": {},
   "outputs": [
    {
     "name": "stdout",
     "output_type": "stream",
     "text": [
      "swayam swayam@gmail.com 9348139639\n"
     ]
    }
   ],
   "source": [
    "class_obj.show_details()"
   ]
  },
  {
   "cell_type": "code",
   "execution_count": 207,
   "id": "0f7ec073-8323-43a3-be7f-3a4e477210cd",
   "metadata": {},
   "outputs": [
    {
     "data": {
      "text/plain": [
       "'swayam'"
      ]
     },
     "execution_count": 207,
     "metadata": {},
     "output_type": "execute_result"
    }
   ],
   "source": [
    "class_obj.name"
   ]
  },
  {
   "cell_type": "code",
   "execution_count": 208,
   "id": "013b2404-1302-411b-9022-cb90994ed46e",
   "metadata": {},
   "outputs": [],
   "source": [
    "class_obj.change_mobnum(3543534)"
   ]
  },
  {
   "cell_type": "code",
   "execution_count": 209,
   "id": "be377c73-e495-474e-8ce6-96c518dc517d",
   "metadata": {},
   "outputs": [
    {
     "name": "stdout",
     "output_type": "stream",
     "text": [
      "swayam swayam@gmail.com 3543534\n"
     ]
    }
   ],
   "source": [
    "class_obj.show_details()"
   ]
  },
  {
   "cell_type": "code",
   "execution_count": 210,
   "id": "3fb9e713-9f0e-415e-899e-2d6d133ceed2",
   "metadata": {},
   "outputs": [],
   "source": [
    "class_obj1 = LearningClassMethods(\"swarup\",\"swarup@gmail.com\")"
   ]
  },
  {
   "cell_type": "code",
   "execution_count": 211,
   "id": "118842ba-b4c2-4724-9171-16b2863412c1",
   "metadata": {},
   "outputs": [
    {
     "name": "stdout",
     "output_type": "stream",
     "text": [
      "swarup swarup@gmail.com 9348139639\n"
     ]
    }
   ],
   "source": [
    "class_obj1.show_details()"
   ]
  },
  {
   "cell_type": "code",
   "execution_count": 212,
   "id": "ae6446fc-9668-4e6e-8e3f-12599eb5ef5f",
   "metadata": {},
   "outputs": [
    {
     "name": "stdout",
     "output_type": "stream",
     "text": [
      "My name is barik\n",
      "my mobile no is 9348139639\n",
      "my email id is barik@gmail.com\n"
     ]
    }
   ],
   "source": [
    "class_obj2 = LearningClassMethods.class_methods(\"barik\",\"barik@gmail.com\")"
   ]
  },
  {
   "cell_type": "code",
   "execution_count": 213,
   "id": "2103041a-7b98-48f8-ab3d-7c906d5c86ad",
   "metadata": {},
   "outputs": [],
   "source": [
    "LearningClassMethods.change_mobnumber(214324)"
   ]
  },
  {
   "cell_type": "code",
   "execution_count": 214,
   "id": "600ae268-ae96-47d9-abc3-cff16334424b",
   "metadata": {},
   "outputs": [
    {
     "name": "stdout",
     "output_type": "stream",
     "text": [
      "My name is barik\n",
      "my mobile no is 214324\n",
      "my email id is barik@gmail.com\n"
     ]
    }
   ],
   "source": [
    "class_obj2 = LearningClassMethods.class_methods(\"barik\",\"barik@gmail.com\")"
   ]
  },
  {
   "cell_type": "code",
   "execution_count": 215,
   "id": "a323c897-53ef-4487-ad49-66c6a6d96df2",
   "metadata": {},
   "outputs": [
    {
     "data": {
      "text/plain": [
       "'barik'"
      ]
     },
     "execution_count": 215,
     "metadata": {},
     "output_type": "execute_result"
    }
   ],
   "source": [
    "class_obj2.name"
   ]
  },
  {
   "cell_type": "code",
   "execution_count": 202,
   "id": "1827a1b2-7db5-49a3-8056-3ede6267db97",
   "metadata": {},
   "outputs": [
    {
     "name": "stdout",
     "output_type": "stream",
     "text": [
      "swayam swayam@gmail.com 3543534\n"
     ]
    }
   ],
   "source": [
    "class_obj.show_details()"
   ]
  },
  {
   "cell_type": "code",
   "execution_count": 203,
   "id": "5f3094c4-0cda-45d8-b321-11552426c63b",
   "metadata": {},
   "outputs": [
    {
     "name": "stdout",
     "output_type": "stream",
     "text": [
      "swarup swarup@gmail.com 214324\n"
     ]
    }
   ],
   "source": [
    "class_obj1.show_details()"
   ]
  },
  {
   "cell_type": "markdown",
   "id": "b1615591-962b-483f-be52-1e6978882e51",
   "metadata": {},
   "source": [
    "### we can also add a new function outside of the class using class methods"
   ]
  },
  {
   "cell_type": "code",
   "execution_count": 216,
   "id": "17b2ab10-a681-4744-9545-f3c2b856cb4b",
   "metadata": {},
   "outputs": [],
   "source": [
    "class LearningClassMethods2:\n",
    "    mob_num = 9348139639\n",
    "    def __init__(self,name,email):\n",
    "        self.name = name\n",
    "        self.email = email\n",
    "    def change_mobnum(self,new_num):\n",
    "        self.mob_num = new_num\n",
    "    @classmethod    \n",
    "    def change_mobnumber(cls,new_num):\n",
    "        LearningClassMethods.mob_num = new_num\n",
    "    @classmethod\n",
    "    def class_methods(cls,name ,email):\n",
    "        print(f\"My name is {name}\")\n",
    "        print(f\"my mobile no is {LearningClassMethods.mob_num}\")\n",
    "        print(f\"my email id is {email}\")\n",
    "        return cls(name,email)\n",
    "    def show_details(self):\n",
    "        print(self.name,self.email,self.mob_num)"
   ]
  },
  {
   "cell_type": "code",
   "execution_count": 217,
   "id": "2598f7dd-2632-49bd-9113-110328526c9b",
   "metadata": {},
   "outputs": [],
   "source": [
    "def add_stdid(self,stdid):\n",
    "    print(self.stdid)"
   ]
  },
  {
   "attachments": {
    "6f7ab43f-c4a5-4207-823d-1f6c54b7188e.png": {
     "image/png": "[encoded data removed]"
    }
   },
   "cell_type": "markdown",
   "id": "ed54905e-9d19-4f25-8a3a-7cf4a7fe526d",
   "metadata": {},
   "source": [
    "![image.png](attachment:6f7ab43f-c4a5-4207-823d-1f6c54b7188e.png)"
   ]
  },
  {
   "cell_type": "markdown",
   "id": "83e817b0-f540-41f8-8bf8-7fda169702ab",
   "metadata": {},
   "source": [
    "#### after adding the class method function we can see the changes for the class LearningCLassMethods"
   ]
  },
  {
   "cell_type": "code",
   "execution_count": 219,
   "id": "51b28748-684b-4b46-9387-6c358c8c48ef",
   "metadata": {},
   "outputs": [],
   "source": [
    "LearningClassMethods2.add_stdid =  classmethod(add_stdid)"
   ]
  },
  {
   "attachments": {
    "d67ce383-2e72-4671-b9e4-c77368b6f39b.png": {
     "image/png": "[encoded data removed]"
    }
   },
   "cell_type": "markdown",
   "id": "8a27865c-3310-4ccb-bad1-e733ce45735f",
   "metadata": {},
   "source": [
    "![image.png](attachment:d67ce383-2e72-4671-b9e4-c77368b6f39b.png)"
   ]
  },
  {
   "cell_type": "markdown",
   "id": "6e125c77-3c91-4cae-be0f-04d61b83904d",
   "metadata": {},
   "source": [
    "#### we can see there is additon of an external function into the LearningClassMethods2 due to the usage of classmethod fucntion"
   ]
  },
  {
   "cell_type": "markdown",
   "id": "de656e35-2bd5-478f-aa5c-1a8b667dfb19",
   "metadata": {},
   "source": [
    "## Static Methods"
   ]
  },
  {
   "cell_type": "code",
   "execution_count": 221,
   "id": "9705d20a-ff6a-4f34-ad88-8f9d9fffc039",
   "metadata": {},
   "outputs": [],
   "source": [
    "class Static_Methods:\n",
    "    def __init__(self,name,email):\n",
    "        self.name = name\n",
    "        self.email = email\n",
    "    @staticmethod\n",
    "    def methods(List_teachers):\n",
    "        print(List_teachers)"
   ]
  },
  {
   "cell_type": "code",
   "execution_count": 222,
   "id": "ffb04cf8-0304-4f71-8701-9295ef40317c",
   "metadata": {},
   "outputs": [
    {
     "name": "stdout",
     "output_type": "stream",
     "text": [
      "['swayam', 'Rahul', 'Hitesh']\n"
     ]
    }
   ],
   "source": [
    "Static_Methods.methods([\"swayam\",\"Rahul\",\"Hitesh\"])"
   ]
  },
  {
   "cell_type": "markdown",
   "id": "acda5d93-8813-4ca1-95f9-2caae5e8351f",
   "metadata": {},
   "source": [
    "### static methods prevents using same thing again and again , so uses memory efficiently"
   ]
  },
  {
   "cell_type": "markdown",
   "id": "e4728468-6e21-4e1c-83d9-bcde5c8f37a1",
   "metadata": {},
   "source": [
    "## Sepcial (Magic/Dunder) Methods\n",
    "#### methods that start and end with double underscore"
   ]
  },
  {
   "cell_type": "code",
   "execution_count": 223,
   "id": "1c93468d-ea17-4cd7-8407-3237fdc8123c",
   "metadata": {},
   "outputs": [
    {
     "data": {
      "text/plain": [
       "['__abs__',\n",
       " '__add__',\n",
       " '__and__',\n",
       " '__bool__',\n",
       " '__ceil__',\n",
       " '__class__',\n",
       " '__delattr__',\n",
       " '__dir__',\n",
       " '__divmod__',\n",
       " '__doc__',\n",
       " '__eq__',\n",
       " '__float__',\n",
       " '__floor__',\n",
       " '__floordiv__',\n",
       " '__format__',\n",
       " '__ge__',\n",
       " '__getattribute__',\n",
       " '__getnewargs__',\n",
       " '__getstate__',\n",
       " '__gt__',\n",
       " '__hash__',\n",
       " '__index__',\n",
       " '__init__',\n",
       " '__init_subclass__',\n",
       " '__int__',\n",
       " '__invert__',\n",
       " '__le__',\n",
       " '__lshift__',\n",
       " '__lt__',\n",
       " '__mod__',\n",
       " '__mul__',\n",
       " '__ne__',\n",
       " '__neg__',\n",
       " '__new__',\n",
       " '__or__',\n",
       " '__pos__',\n",
       " '__pow__',\n",
       " '__radd__',\n",
       " '__rand__',\n",
       " '__rdivmod__',\n",
       " '__reduce__',\n",
       " '__reduce_ex__',\n",
       " '__repr__',\n",
       " '__rfloordiv__',\n",
       " '__rlshift__',\n",
       " '__rmod__',\n",
       " '__rmul__',\n",
       " '__ror__',\n",
       " '__round__',\n",
       " '__rpow__',\n",
       " '__rrshift__',\n",
       " '__rshift__',\n",
       " '__rsub__',\n",
       " '__rtruediv__',\n",
       " '__rxor__',\n",
       " '__setattr__',\n",
       " '__sizeof__',\n",
       " '__str__',\n",
       " '__sub__',\n",
       " '__subclasshook__',\n",
       " '__truediv__',\n",
       " '__trunc__',\n",
       " '__xor__',\n",
       " 'as_integer_ratio',\n",
       " 'bit_count',\n",
       " 'bit_length',\n",
       " 'conjugate',\n",
       " 'denominator',\n",
       " 'from_bytes',\n",
       " 'imag',\n",
       " 'numerator',\n",
       " 'real',\n",
       " 'to_bytes']"
      ]
     },
     "execution_count": 223,
     "metadata": {},
     "output_type": "execute_result"
    }
   ],
   "source": [
    "dir(int)"
   ]
  },
  {
   "cell_type": "code",
   "execution_count": 225,
   "id": "f1e3fc13-70f2-4ce7-b47e-6219fe7be772",
   "metadata": {},
   "outputs": [
    {
     "data": {
      "text/plain": [
       "['__add__',\n",
       " '__class__',\n",
       " '__contains__',\n",
       " '__delattr__',\n",
       " '__dir__',\n",
       " '__doc__',\n",
       " '__eq__',\n",
       " '__format__',\n",
       " '__ge__',\n",
       " '__getattribute__',\n",
       " '__getitem__',\n",
       " '__getnewargs__',\n",
       " '__getstate__',\n",
       " '__gt__',\n",
       " '__hash__',\n",
       " '__init__',\n",
       " '__init_subclass__',\n",
       " '__iter__',\n",
       " '__le__',\n",
       " '__len__',\n",
       " '__lt__',\n",
       " '__mod__',\n",
       " '__mul__',\n",
       " '__ne__',\n",
       " '__new__',\n",
       " '__reduce__',\n",
       " '__reduce_ex__',\n",
       " '__repr__',\n",
       " '__rmod__',\n",
       " '__rmul__',\n",
       " '__setattr__',\n",
       " '__sizeof__',\n",
       " '__str__',\n",
       " '__subclasshook__',\n",
       " 'capitalize',\n",
       " 'casefold',\n",
       " 'center',\n",
       " 'count',\n",
       " 'encode',\n",
       " 'endswith',\n",
       " 'expandtabs',\n",
       " 'find',\n",
       " 'format',\n",
       " 'format_map',\n",
       " 'index',\n",
       " 'isalnum',\n",
       " 'isalpha',\n",
       " 'isascii',\n",
       " 'isdecimal',\n",
       " 'isdigit',\n",
       " 'isidentifier',\n",
       " 'islower',\n",
       " 'isnumeric',\n",
       " 'isprintable',\n",
       " 'isspace',\n",
       " 'istitle',\n",
       " 'isupper',\n",
       " 'join',\n",
       " 'ljust',\n",
       " 'lower',\n",
       " 'lstrip',\n",
       " 'maketrans',\n",
       " 'partition',\n",
       " 'removeprefix',\n",
       " 'removesuffix',\n",
       " 'replace',\n",
       " 'rfind',\n",
       " 'rindex',\n",
       " 'rjust',\n",
       " 'rpartition',\n",
       " 'rsplit',\n",
       " 'rstrip',\n",
       " 'split',\n",
       " 'splitlines',\n",
       " 'startswith',\n",
       " 'strip',\n",
       " 'swapcase',\n",
       " 'title',\n",
       " 'translate',\n",
       " 'upper',\n",
       " 'zfill']"
      ]
     },
     "execution_count": 225,
     "metadata": {},
     "output_type": "execute_result"
    }
   ],
   "source": [
    "dir(str) #magic functions"
   ]
  },
  {
   "cell_type": "code",
   "execution_count": 226,
   "id": "3d40d90b-7d7f-4823-b332-19da2e7a126b",
   "metadata": {},
   "outputs": [],
   "source": [
    "a=100"
   ]
  },
  {
   "cell_type": "code",
   "execution_count": 227,
   "id": "b2279916-a836-4216-9a7a-ed07d995dac1",
   "metadata": {},
   "outputs": [
    {
     "data": {
      "text/plain": [
       "105"
      ]
     },
     "execution_count": 227,
     "metadata": {},
     "output_type": "execute_result"
    }
   ],
   "source": [
    "a.__add__(5)"
   ]
  },
  {
   "cell_type": "code",
   "execution_count": 233,
   "id": "11c35ac5-a2a3-42e7-8c44-c8a4a05d27bb",
   "metadata": {},
   "outputs": [],
   "source": [
    "class dunder:\n",
    "    def __new__(cls): ## magic function we donot call it directly\n",
    "        print(\"this is my new\")\n",
    "    def __init__(self):\n",
    "        print(\"this is my init\")\n",
    "        self.mob_num = 3543543"
   ]
  },
  {
   "cell_type": "code",
   "execution_count": 234,
   "id": "3d93d807-e402-4e6b-9882-c817678dcce5",
   "metadata": {},
   "outputs": [
    {
     "name": "stdout",
     "output_type": "stream",
     "text": [
      "this is my new\n"
     ]
    }
   ],
   "source": [
    "sw = dunder()"
   ]
  },
  {
   "cell_type": "markdown",
   "id": "0d2105f1-acfb-481d-81c5-b2306cdffaf9",
   "metadata": {},
   "source": [
    "### Property Decorators\n",
    "##### this allows us to access private and public variables"
   ]
  },
  {
   "cell_type": "code",
   "execution_count": 313,
   "id": "10479695-3ba6-4150-809f-4f232c19dc75",
   "metadata": {},
   "outputs": [],
   "source": [
    "## we will go through basic encapsulation\n",
    "class prop_deco:\n",
    "    def __init__(self,course_price,course_name):\n",
    "        self.__course_price = course_price\n",
    "        self.course_name = course_name"
   ]
  },
  {
   "cell_type": "code",
   "execution_count": 314,
   "id": "316f4a7c-f575-406d-b6b5-e1f479389022",
   "metadata": {},
   "outputs": [],
   "source": [
    "obj = prop_deco(3600,\"gfg\")"
   ]
  },
  {
   "cell_type": "code",
   "execution_count": 315,
   "id": "44f4b30c-d13d-49f2-9446-649d7cbad4b9",
   "metadata": {},
   "outputs": [
    {
     "ename": "AttributeError",
     "evalue": "'prop_deco' object has no attribute 'course_price'",
     "output_type": "error",
     "traceback": [
      "\u001b[1;31m---------------------------------------------------------------------------\u001b[0m",
      "\u001b[1;31mAttributeError\u001b[0m                            Traceback (most recent call last)",
      "Cell \u001b[1;32mIn[315], line 1\u001b[0m\n\u001b[1;32m----> 1\u001b[0m \u001b[43mobj\u001b[49m\u001b[38;5;241;43m.\u001b[39;49m\u001b[43mcourse_price\u001b[49m \u001b[38;5;66;03m## beacuse this is encapsulated we cannnot access it\u001b[39;00m\n",
      "\u001b[1;31mAttributeError\u001b[0m: 'prop_deco' object has no attribute 'course_price'"
     ]
    }
   ],
   "source": [
    "obj.course_price ## beacuse this is encapsulated we cannnot access it"
   ]
  },
  {
   "cell_type": "code",
   "execution_count": 316,
   "id": "f0a15a4c-84ac-482c-bd0d-3fcbe8844586",
   "metadata": {},
   "outputs": [
    {
     "data": {
      "text/plain": [
       "3600"
      ]
     },
     "execution_count": 316,
     "metadata": {},
     "output_type": "execute_result"
    }
   ],
   "source": [
    "## if as the owner of the class i do want to access it, ica using the object\n",
    "obj._prop_deco__course_price"
   ]
  },
  {
   "cell_type": "code",
   "execution_count": 317,
   "id": "87bad667-9334-4d8c-9541-5a03b19738b0",
   "metadata": {},
   "outputs": [
    {
     "data": {
      "text/plain": [
       "'gfg'"
      ]
     },
     "execution_count": 317,
     "metadata": {},
     "output_type": "execute_result"
    }
   ],
   "source": [
    "# the one which is not encapsulated can easily be accessed\n",
    "obj.course_name"
   ]
  },
  {
   "cell_type": "markdown",
   "id": "0f3bcf83-8287-498c-a724-6d61e4a6fdd9",
   "metadata": {},
   "source": [
    "## now if we want use to also access something that is private we use property decorators"
   ]
  },
  {
   "cell_type": "code",
   "execution_count": 318,
   "id": "f99b3de4-e987-4105-8278-122f93800e37",
   "metadata": {},
   "outputs": [],
   "source": [
    "class prop_deco:\n",
    "    def __init__(self,course_price,course_name):\n",
    "        self.__course_price = course_price\n",
    "        self.course_name = course_name\n",
    "    @property\n",
    "    def course_price_access(self):\n",
    "        return self.__course_price"
   ]
  },
  {
   "cell_type": "code",
   "execution_count": 319,
   "id": "ed560813-9cc8-476c-a05a-a7c19fd05abc",
   "metadata": {},
   "outputs": [],
   "source": [
    "obj1 = prop_deco(3437,\"gfg\")"
   ]
  },
  {
   "cell_type": "code",
   "execution_count": 320,
   "id": "d1187c53-2cf1-4798-8e68-72c81929fbb2",
   "metadata": {},
   "outputs": [
    {
     "data": {
      "text/plain": [
       "3437"
      ]
     },
     "execution_count": 320,
     "metadata": {},
     "output_type": "execute_result"
    }
   ],
   "source": [
    "obj1.course_price_access ## without using the class name we are able to see the private variable"
   ]
  },
  {
   "cell_type": "code",
   "execution_count": 321,
   "id": "b844a77c-440d-448c-8abd-d422e348ed76",
   "metadata": {},
   "outputs": [],
   "source": [
    "## setter\n",
    "class prop_deco:\n",
    "    def __init__(self,course_price,course_name):\n",
    "        self.__course_price = course_price\n",
    "        self.course_name = course_name\n",
    "    @property\n",
    "    def course_price_access(self):\n",
    "        return self.__course_price\n",
    "    @course_price_access.setter\n",
    "    def course_price_set(self,price):\n",
    "        if price<=3600:\n",
    "            pass\n",
    "        else:\n",
    "            self.__course_price  = price"
   ]
  },
  {
   "cell_type": "code",
   "execution_count": 322,
   "id": "cf24beac-8f68-4bda-8236-70955a7f8761",
   "metadata": {},
   "outputs": [],
   "source": [
    "obj2 = prop_deco(3232,\"gfg\")"
   ]
  },
  {
   "cell_type": "code",
   "execution_count": 323,
   "id": "e76fdc85-a791-465a-9156-557d4984dc4a",
   "metadata": {},
   "outputs": [],
   "source": [
    "obj2.course_price_set = 2300"
   ]
  },
  {
   "cell_type": "code",
   "execution_count": 324,
   "id": "42de97c5-d5c5-4ead-9140-f1f661d4fdcf",
   "metadata": {},
   "outputs": [
    {
     "data": {
      "text/plain": [
       "3232"
      ]
     },
     "execution_count": 324,
     "metadata": {},
     "output_type": "execute_result"
    }
   ],
   "source": [
    "obj2.course_price_access"
   ]
  },
  {
   "cell_type": "code",
   "execution_count": 325,
   "id": "11f00fb3-e4d5-4bae-8b25-dc64f4656e58",
   "metadata": {},
   "outputs": [],
   "source": [
    "obj2.course_price_set = 23000"
   ]
  },
  {
   "cell_type": "code",
   "execution_count": 326,
   "id": "78bac61f-b47e-4132-becb-7dbdbf8f066b",
   "metadata": {},
   "outputs": [
    {
     "data": {
      "text/plain": [
       "23000"
      ]
     },
     "execution_count": 326,
     "metadata": {},
     "output_type": "execute_result"
    }
   ],
   "source": [
    "obj2.course_price_access"
   ]
  },
  {
   "cell_type": "code",
   "execution_count": 327,
   "id": "3bea6372-a687-4edb-b2fb-1bb3a5b8ba34",
   "metadata": {},
   "outputs": [],
   "source": [
    "## deleter\n",
    "class prop_deco:\n",
    "    def __init__(self,course_price,course_name):\n",
    "        self.__course_price = course_price\n",
    "        self.course_name = course_name\n",
    "    @property\n",
    "    def course_price_access(self):\n",
    "        return self.__course_price\n",
    "    @course_price_access.setter\n",
    "    def course_price_set(self,price):\n",
    "        if price<=3600:\n",
    "            pass\n",
    "        else:\n",
    "            self.__course_price  = price\n",
    "    @course_price_access.deleter\n",
    "    def course_price_delete(self):\n",
    "        del self.__course_price"
   ]
  },
  {
   "cell_type": "code",
   "execution_count": 328,
   "id": "1c9a9543-a429-4dcc-a276-1eeadbcbc133",
   "metadata": {},
   "outputs": [],
   "source": [
    "obj3 = prop_deco(12432,\"gfg\")"
   ]
  },
  {
   "cell_type": "code",
   "execution_count": 329,
   "id": "d241fd05-2a8d-461b-bdd2-93aae94efd20",
   "metadata": {},
   "outputs": [
    {
     "data": {
      "text/plain": [
       "12432"
      ]
     },
     "execution_count": 329,
     "metadata": {},
     "output_type": "execute_result"
    }
   ],
   "source": [
    "obj3.course_price_delete"
   ]
  },
  {
   "cell_type": "code",
   "execution_count": 330,
   "id": "33bc056e-ca0f-4585-8e48-b0f24435a7fc",
   "metadata": {},
   "outputs": [],
   "source": [
    "del obj3.course_price_delete"
   ]
  },
  {
   "cell_type": "code",
   "execution_count": 331,
   "id": "c181b63f-59b9-45dc-b50f-e3ad60175fbd",
   "metadata": {},
   "outputs": [
    {
     "ename": "AttributeError",
     "evalue": "'prop_deco' object has no attribute '_prop_deco__course_price'",
     "output_type": "error",
     "traceback": [
      "\u001b[1;31m---------------------------------------------------------------------------\u001b[0m",
      "\u001b[1;31mAttributeError\u001b[0m                            Traceback (most recent call last)",
      "Cell \u001b[1;32mIn[331], line 1\u001b[0m\n\u001b[1;32m----> 1\u001b[0m \u001b[43mobj3\u001b[49m\u001b[38;5;241;43m.\u001b[39;49m\u001b[43mcourse_price_access\u001b[49m \u001b[38;5;66;03m## error beacuse we deleted \u001b[39;00m\n",
      "Cell \u001b[1;32mIn[327], line 8\u001b[0m, in \u001b[0;36mprop_deco.course_price_access\u001b[1;34m(self)\u001b[0m\n\u001b[0;32m      6\u001b[0m \u001b[38;5;129m@property\u001b[39m\n\u001b[0;32m      7\u001b[0m \u001b[38;5;28;01mdef\u001b[39;00m \u001b[38;5;21mcourse_price_access\u001b[39m(\u001b[38;5;28mself\u001b[39m):\n\u001b[1;32m----> 8\u001b[0m     \u001b[38;5;28;01mreturn\u001b[39;00m \u001b[38;5;28;43mself\u001b[39;49m\u001b[38;5;241;43m.\u001b[39;49m\u001b[43m__course_price\u001b[49m\n",
      "\u001b[1;31mAttributeError\u001b[0m: 'prop_deco' object has no attribute '_prop_deco__course_price'"
     ]
    }
   ],
   "source": [
    "obj3.course_price_access ## error beacuse we deleted "
   ]
  },
  {
   "cell_type": "code",
   "execution_count": null,
   "id": "cd1d587e-ceff-4786-900f-517280cb0c8a",
   "metadata": {},
   "outputs": [],
   "source": []
  }
 ],
 "metadata": {
  "kernelspec": {
   "display_name": "Python 3 (ipykernel)",
   "language": "python",
   "name": "python3"
  },
  "language_info": {
   "codemirror_mode": {
    "name": "ipython",
    "version": 3
   },
   "file_extension": ".py",
   "mimetype": "text/x-python",
   "name": "python",
   "nbconvert_exporter": "python",
   "pygments_lexer": "ipython3",
   "version": "3.12.4"
  }
 },
 "nbformat": 4,
 "nbformat_minor": 5
}
