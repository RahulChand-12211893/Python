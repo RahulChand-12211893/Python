{
 "cells": [
  {
   "cell_type": "code",
   "execution_count": 1,
   "id": "368416ea",
   "metadata": {},
   "outputs": [],
   "source": [
    "class decorator_Class:\n",
    "    def __init__(self,og_func):\n",
    "        self.og_func=og_func\n",
    "    def __call__(self,*args,**kwargs):\n",
    "        print(\"hello,Welcome to the hood bro\")\n",
    "        self.og_func()\n",
    "        print(\"thank you for trusting us my g\")\n",
    "    "
   ]
  },
  {
   "cell_type": "code",
   "execution_count": 2,
   "id": "4f829bab",
   "metadata": {},
   "outputs": [],
   "source": [
    "import my_calculator as calc"
   ]
  },
  {
   "cell_type": "code",
   "execution_count": 3,
   "id": "6af84716",
   "metadata": {},
   "outputs": [],
   "source": [
    "@decorator_Class\n",
    "def okay():\n",
    "    a=10\n",
    "    b=20\n",
    "    print(calc.add(a,b))"
   ]
  },
  {
   "cell_type": "code",
   "execution_count": 4,
   "id": "27a8bc19",
   "metadata": {},
   "outputs": [
    {
     "name": "stdout",
     "output_type": "stream",
     "text": [
      "hello,Welcome to the hood bro\n",
      "30\n",
      "thank you for trusting us my g\n"
     ]
    }
   ],
   "source": [
    "okay()"
   ]
  },
  {
   "cell_type": "code",
   "execution_count": 5,
   "id": "87a153b4",
   "metadata": {},
   "outputs": [],
   "source": [
    "def decorator_function(og_function):\n",
    "    def wrapper_function(*args,**kwargs):\n",
    "        print(\"welcome to the hood bruh\")\n",
    "        og_function(*args,**kwargs)\n",
    "        print(\"good night my g\")\n",
    "    return wrapper_func"
   ]
  },
  {
   "cell_type": "code",
   "execution_count": null,
   "id": "c32e5499",
   "metadata": {},
   "outputs": [],
   "source": []
  }
 ],
 "metadata": {
  "kernelspec": {
   "display_name": "Python 3 (ipykernel)",
   "language": "python",
   "name": "python3"
  },
  "language_info": {
   "codemirror_mode": {
    "name": "ipython",
    "version": 3
   },
   "file_extension": ".py",
   "mimetype": "text/x-python",
   "name": "python",
   "nbconvert_exporter": "python",
   "pygments_lexer": "ipython3",
   "version": "3.11.4"
  }
 },
 "nbformat": 4,
 "nbformat_minor": 5
}
