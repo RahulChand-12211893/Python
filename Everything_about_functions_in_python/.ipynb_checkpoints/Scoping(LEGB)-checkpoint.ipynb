{
 "cells": [
  {
   "cell_type": "markdown",
   "id": "11628277",
   "metadata": {},
   "source": [
    "''' LEGB: Local -----> Enclosing -----> Global -----> Built-in'''"
   ]
  },
  {
   "cell_type": "markdown",
   "id": "5bd8cacd",
   "metadata": {},
   "source": [
    "python checks variables from local scope to built-in scope"
   ]
  },
  {
   "cell_type": "code",
   "execution_count": 1,
   "id": "c2638492",
   "metadata": {},
   "outputs": [],
   "source": [
    "def test():\n",
    "    y = 'local y'\n",
    "    print(y)"
   ]
  },
  {
   "cell_type": "code",
   "execution_count": 2,
   "id": "7a93235d",
   "metadata": {},
   "outputs": [
    {
     "name": "stdout",
     "output_type": "stream",
     "text": [
      "local y\n"
     ]
    }
   ],
   "source": [
    "test()"
   ]
  },
  {
   "cell_type": "code",
   "execution_count": 3,
   "id": "e192632e",
   "metadata": {},
   "outputs": [],
   "source": [
    "x='global x'\n",
    "def test():\n",
    "    y = 'local y'\n",
    "    #print(y)\n",
    "    print(x)"
   ]
  },
  {
   "cell_type": "code",
   "execution_count": 4,
   "id": "4c12abd6",
   "metadata": {},
   "outputs": [
    {
     "name": "stdout",
     "output_type": "stream",
     "text": [
      "global x\n"
     ]
    }
   ],
   "source": [
    "test()"
   ]
  },
  {
   "cell_type": "code",
   "execution_count": 6,
   "id": "b5b0e332",
   "metadata": {},
   "outputs": [
    {
     "ename": "NameError",
     "evalue": "name 'y' is not defined",
     "output_type": "error",
     "traceback": [
      "\u001b[1;31m---------------------------------------------------------------------------\u001b[0m",
      "\u001b[1;31mNameError\u001b[0m                                 Traceback (most recent call last)",
      "Cell \u001b[1;32mIn[6], line 1\u001b[0m\n\u001b[1;32m----> 1\u001b[0m \u001b[38;5;28mprint\u001b[39m(y)\n",
      "\u001b[1;31mNameError\u001b[0m: name 'y' is not defined"
     ]
    }
   ],
   "source": [
    "print(y) ## y is local variable so its scope is determined within the test function"
   ]
  },
  {
   "cell_type": "code",
   "execution_count": 7,
   "id": "267bcbd4",
   "metadata": {},
   "outputs": [
    {
     "name": "stdout",
     "output_type": "stream",
     "text": [
      "global x\n"
     ]
    }
   ],
   "source": [
    "print(x)"
   ]
  },
  {
   "cell_type": "code",
   "execution_count": 9,
   "id": "2fbd6838",
   "metadata": {},
   "outputs": [],
   "source": [
    "x='global x'\n",
    "def test():\n",
    "    x = 'local x'\n",
    "    print(x)"
   ]
  },
  {
   "cell_type": "code",
   "execution_count": 10,
   "id": "c380e425",
   "metadata": {},
   "outputs": [
    {
     "name": "stdout",
     "output_type": "stream",
     "text": [
      "local x\n"
     ]
    }
   ],
   "source": [
    "test() ## local here has overwriten global "
   ]
  },
  {
   "cell_type": "code",
   "execution_count": 11,
   "id": "4db91764",
   "metadata": {},
   "outputs": [
    {
     "name": "stdout",
     "output_type": "stream",
     "text": [
      "global x\n"
     ]
    }
   ],
   "source": [
    "print(x) ##it printed x outside of the test function"
   ]
  },
  {
   "cell_type": "code",
   "execution_count": 12,
   "id": "1ae3aa7d",
   "metadata": {},
   "outputs": [],
   "source": [
    "x='global x'\n",
    "def test():\n",
    "    global x\n",
    "    x = 'local x'\n",
    "    print(x)"
   ]
  },
  {
   "cell_type": "code",
   "execution_count": 13,
   "id": "2629bb1b",
   "metadata": {},
   "outputs": [
    {
     "name": "stdout",
     "output_type": "stream",
     "text": [
      "local x\n"
     ]
    }
   ],
   "source": [
    "test()"
   ]
  },
  {
   "cell_type": "code",
   "execution_count": 15,
   "id": "d804111e",
   "metadata": {},
   "outputs": [
    {
     "name": "stdout",
     "output_type": "stream",
     "text": [
      "local x\n"
     ]
    }
   ],
   "source": [
    "print(x) ## here because we used global keyword the x within the test function has overwritten the value of actual x(older global value) outside the function"
   ]
  },
  {
   "cell_type": "markdown",
   "id": "f3160108",
   "metadata": {},
   "source": [
    "we can only call a variable outside a function if we use a global keyword"
   ]
  },
  {
   "cell_type": "code",
   "execution_count": 17,
   "id": "aabab25b",
   "metadata": {},
   "outputs": [],
   "source": [
    "def test(z):\n",
    "    x = 'local x'\n",
    "    print(z)"
   ]
  },
  {
   "cell_type": "code",
   "execution_count": 18,
   "id": "5a836a16",
   "metadata": {},
   "outputs": [
    {
     "name": "stdout",
     "output_type": "stream",
     "text": [
      "local z\n"
     ]
    }
   ],
   "source": [
    "test('local z')"
   ]
  },
  {
   "cell_type": "code",
   "execution_count": 20,
   "id": "97dca045",
   "metadata": {},
   "outputs": [
    {
     "ename": "NameError",
     "evalue": "name 'z' is not defined",
     "output_type": "error",
     "traceback": [
      "\u001b[1;31m---------------------------------------------------------------------------\u001b[0m",
      "\u001b[1;31mNameError\u001b[0m                                 Traceback (most recent call last)",
      "Cell \u001b[1;32mIn[20], line 1\u001b[0m\n\u001b[1;32m----> 1\u001b[0m z\n",
      "\u001b[1;31mNameError\u001b[0m: name 'z' is not defined"
     ]
    }
   ],
   "source": [
    "z ## fixed within its local scope"
   ]
  },
  {
   "cell_type": "code",
   "execution_count": 21,
   "id": "41735ee8",
   "metadata": {},
   "outputs": [],
   "source": [
    "def func(a,b):\n",
    "    print(min(a,b)) ## min here is a built in function"
   ]
  },
  {
   "cell_type": "code",
   "execution_count": 22,
   "id": "f77f48b6",
   "metadata": {},
   "outputs": [
    {
     "name": "stdout",
     "output_type": "stream",
     "text": [
      "10\n"
     ]
    }
   ],
   "source": [
    "func(10,21)"
   ]
  },
  {
   "cell_type": "code",
   "execution_count": 23,
   "id": "114016d3",
   "metadata": {},
   "outputs": [
    {
     "name": "stdout",
     "output_type": "stream",
     "text": [
      "['ArithmeticError', 'AssertionError', 'AttributeError', 'BaseException', 'BaseExceptionGroup', 'BlockingIOError', 'BrokenPipeError', 'BufferError', 'BytesWarning', 'ChildProcessError', 'ConnectionAbortedError', 'ConnectionError', 'ConnectionRefusedError', 'ConnectionResetError', 'DeprecationWarning', 'EOFError', 'Ellipsis', 'EncodingWarning', 'EnvironmentError', 'Exception', 'ExceptionGroup', 'False', 'FileExistsError', 'FileNotFoundError', 'FloatingPointError', 'FutureWarning', 'GeneratorExit', 'IOError', 'ImportError', 'ImportWarning', 'IndentationError', 'IndexError', 'InterruptedError', 'IsADirectoryError', 'KeyError', 'KeyboardInterrupt', 'LookupError', 'MemoryError', 'ModuleNotFoundError', 'NameError', 'None', 'NotADirectoryError', 'NotImplemented', 'NotImplementedError', 'OSError', 'OverflowError', 'PendingDeprecationWarning', 'PermissionError', 'ProcessLookupError', 'RecursionError', 'ReferenceError', 'ResourceWarning', 'RuntimeError', 'RuntimeWarning', 'StopAsyncIteration', 'StopIteration', 'SyntaxError', 'SyntaxWarning', 'SystemError', 'SystemExit', 'TabError', 'TimeoutError', 'True', 'TypeError', 'UnboundLocalError', 'UnicodeDecodeError', 'UnicodeEncodeError', 'UnicodeError', 'UnicodeTranslateError', 'UnicodeWarning', 'UserWarning', 'ValueError', 'Warning', 'WindowsError', 'ZeroDivisionError', '__IPYTHON__', '__build_class__', '__debug__', '__doc__', '__import__', '__loader__', '__name__', '__package__', '__spec__', 'abs', 'aiter', 'all', 'anext', 'any', 'ascii', 'bin', 'bool', 'breakpoint', 'bytearray', 'bytes', 'callable', 'chr', 'classmethod', 'compile', 'complex', 'copyright', 'credits', 'delattr', 'dict', 'dir', 'display', 'divmod', 'enumerate', 'eval', 'exec', 'execfile', 'filter', 'float', 'format', 'frozenset', 'get_ipython', 'getattr', 'globals', 'hasattr', 'hash', 'help', 'hex', 'id', 'input', 'int', 'isinstance', 'issubclass', 'iter', 'len', 'license', 'list', 'locals', 'map', 'max', 'memoryview', 'min', 'next', 'object', 'oct', 'open', 'ord', 'pow', 'print', 'property', 'range', 'repr', 'reversed', 'round', 'runfile', 'set', 'setattr', 'slice', 'sorted', 'staticmethod', 'str', 'sum', 'super', 'tuple', 'type', 'vars', 'zip']\n"
     ]
    }
   ],
   "source": [
    "import builtins\n",
    "print(dir(builtins))"
   ]
  },
  {
   "cell_type": "markdown",
   "id": "cc083349",
   "metadata": {},
   "source": [
    "we have to be careful as python allows us to override the built-in functions because it satrts searching from \n",
    "##### local-->enclosing--->global--->built-in"
   ]
  },
  {
   "cell_type": "code",
   "execution_count": 24,
   "id": "321bf1d0",
   "metadata": {},
   "outputs": [],
   "source": [
    "#for example\n",
    "def min():\n",
    "    pass\n",
    "def test(a,b):\n",
    "    print(min(a,b))"
   ]
  },
  {
   "cell_type": "code",
   "execution_count": 25,
   "id": "fb0b80d0",
   "metadata": {},
   "outputs": [
    {
     "ename": "TypeError",
     "evalue": "min() takes 0 positional arguments but 2 were given",
     "output_type": "error",
     "traceback": [
      "\u001b[1;31m---------------------------------------------------------------------------\u001b[0m",
      "\u001b[1;31mTypeError\u001b[0m                                 Traceback (most recent call last)",
      "Cell \u001b[1;32mIn[25], line 1\u001b[0m\n\u001b[1;32m----> 1\u001b[0m test(\u001b[38;5;241m10\u001b[39m,\u001b[38;5;241m20\u001b[39m)\n",
      "Cell \u001b[1;32mIn[24], line 5\u001b[0m, in \u001b[0;36mtest\u001b[1;34m(a, b)\u001b[0m\n\u001b[0;32m      4\u001b[0m \u001b[38;5;28;01mdef\u001b[39;00m \u001b[38;5;21mtest\u001b[39m(a,b):\n\u001b[1;32m----> 5\u001b[0m     \u001b[38;5;28mprint\u001b[39m(\u001b[38;5;28mmin\u001b[39m(a,b))\n",
      "\u001b[1;31mTypeError\u001b[0m: min() takes 0 positional arguments but 2 were given"
     ]
    }
   ],
   "source": [
    "test(10,20)  ## error because we override the actual min function "
   ]
  },
  {
   "cell_type": "code",
   "execution_count": 1,
   "id": "3d36015c",
   "metadata": {},
   "outputs": [],
   "source": [
    "##restart the kernel an don't execute the above statements\n",
    "def funct(a,b):\n",
    "    print(min(a,b))"
   ]
  },
  {
   "cell_type": "code",
   "execution_count": 3,
   "id": "e1088cdf",
   "metadata": {},
   "outputs": [
    {
     "name": "stdout",
     "output_type": "stream",
     "text": [
      "10\n"
     ]
    }
   ],
   "source": [
    "funct(10,20)  ## it works fine because now out python is using the built in scope rathter than seacrhing in the global scope"
   ]
  },
  {
   "cell_type": "markdown",
   "id": "2eae426d",
   "metadata": {},
   "source": [
    "#### Enclosing variables"
   ]
  },
  {
   "cell_type": "code",
   "execution_count": 9,
   "id": "fcdafaab",
   "metadata": {},
   "outputs": [],
   "source": [
    "def outerfunc():\n",
    "    x=\"outer x\"\n",
    "    def innerfunc():\n",
    "        x=\"inner x\"\n",
    "        print(x)\n",
    "    innerfunc()\n",
    "    print(x)"
   ]
  },
  {
   "cell_type": "code",
   "execution_count": 10,
   "id": "59500210",
   "metadata": {},
   "outputs": [
    {
     "name": "stdout",
     "output_type": "stream",
     "text": [
      "inner x\n",
      "outer x\n"
     ]
    }
   ],
   "source": [
    "outerfunc()"
   ]
  },
  {
   "cell_type": "code",
   "execution_count": 11,
   "id": "ad4a891f",
   "metadata": {},
   "outputs": [],
   "source": [
    "def outerfunc():\n",
    "    x=\"outer x\"\n",
    "    def innerfunc():\n",
    "#         x=\"inner x\"\n",
    "        print(x)\n",
    "    innerfunc()\n",
    "    print(x)"
   ]
  },
  {
   "cell_type": "code",
   "execution_count": 13,
   "id": "74bb2611",
   "metadata": {},
   "outputs": [
    {
     "name": "stdout",
     "output_type": "stream",
     "text": [
      "outer x\n",
      "outer x\n"
     ]
    }
   ],
   "source": [
    "outerfunc() \n",
    "#in this case innerfunc tried searching for x in local scope than went to global and then found thhe local x enclosed within the outerfunc"
   ]
  },
  {
   "cell_type": "markdown",
   "id": "18790685",
   "metadata": {},
   "source": [
    "### In Python, the nonlocal keyword is used to indicate that a variable is not local to the current function's scope but is also not a global variable."
   ]
  },
  {
   "cell_type": "code",
   "execution_count": 25,
   "id": "77dead17",
   "metadata": {},
   "outputs": [
    {
     "name": "stdout",
     "output_type": "stream",
     "text": [
      "inner x\n",
      "inner x\n",
      "inner x\n"
     ]
    }
   ],
   "source": [
    "def outerfunc():\n",
    "    x=\"outer x\"\n",
    "    def innerfunc():\n",
    "        nonlocal x\n",
    "        x=\"inner x\"\n",
    "        print(x)\n",
    "    innerfunc()\n",
    "    print(x)\n",
    "\n",
    "outerfunc()\n",
    "print(x)"
   ]
  },
  {
   "cell_type": "code",
   "execution_count": 15,
   "id": "6a160f8d",
   "metadata": {},
   "outputs": [
    {
     "name": "stdout",
     "output_type": "stream",
     "text": [
      "inner x\n",
      "inner x\n"
     ]
    }
   ],
   "source": [
    "outerfunc() \n",
    "#the nonlocal statemnt overrides the enclosing scope"
   ]
  },
  {
   "cell_type": "code",
   "execution_count": 24,
   "id": "d699da48",
   "metadata": {},
   "outputs": [
    {
     "name": "stdout",
     "output_type": "stream",
     "text": [
      "inner x\n",
      "outer x\n",
      "inner x\n"
     ]
    }
   ],
   "source": [
    "def outerfunc():\n",
    "    x=\"outer x\"\n",
    "    def innerfunc():\n",
    "        global x#making this global doesnot do anything because it follows legb rule\n",
    "        ##only works if we print after the outerfunc\n",
    "        x=\"inner x\"\n",
    "        print(x)\n",
    "    innerfunc()\n",
    "    print(x)\n",
    "\n",
    "outerfunc()\n",
    "print(x)"
   ]
  },
  {
   "cell_type": "code",
   "execution_count": 17,
   "id": "84cdb971",
   "metadata": {},
   "outputs": [
    {
     "name": "stdout",
     "output_type": "stream",
     "text": [
      "inner x\n",
      "outer x\n"
     ]
    }
   ],
   "source": [
    "outerfunc()"
   ]
  },
  {
   "cell_type": "code",
   "execution_count": 22,
   "id": "5d3e1af2",
   "metadata": {},
   "outputs": [
    {
     "name": "stdout",
     "output_type": "stream",
     "text": [
      "inner x\n",
      "outer x\n",
      "global x\n"
     ]
    }
   ],
   "source": [
    "x='global x'#global x\n",
    "def outerfunc():\n",
    "    x=\"outer x\"\n",
    "    def innerfunc():\n",
    "        x=\"inner x\"\n",
    "        print(x)\n",
    "    innerfunc()\n",
    "    print(x)\n",
    "outerfunc()\n",
    "print(x)"
   ]
  },
  {
   "cell_type": "markdown",
   "id": "3f03ddfa",
   "metadata": {},
   "source": [
    "### play with the legb rule by commenting out any of the prin statements"
   ]
  },
  {
   "cell_type": "code",
   "execution_count": 23,
   "id": "df811afd",
   "metadata": {},
   "outputs": [
    {
     "name": "stdout",
     "output_type": "stream",
     "text": [
      "inner x\n",
      "global x\n",
      "global x\n"
     ]
    }
   ],
   "source": [
    "x='global x'#global x\n",
    "def outerfunc():\n",
    "#     x=\"outer x\"\n",
    "    def innerfunc():\n",
    "        x=\"inner x\"\n",
    "        print(x)\n",
    "    innerfunc()\n",
    "    print(x)\n",
    "outerfunc()\n",
    "print(x)"
   ]
  },
  {
   "cell_type": "code",
   "execution_count": null,
   "id": "598117aa",
   "metadata": {},
   "outputs": [],
   "source": []
  }
 ],
 "metadata": {
  "kernelspec": {
   "display_name": "Python 3 (ipykernel)",
   "language": "python",
   "name": "python3"
  },
  "language_info": {
   "codemirror_mode": {
    "name": "ipython",
    "version": 3
   },
   "file_extension": ".py",
   "mimetype": "text/x-python",
   "name": "python",
   "nbconvert_exporter": "python",
   "pygments_lexer": "ipython3",
   "version": "3.11.4"
  }
 },
 "nbformat": 4,
 "nbformat_minor": 5
}
