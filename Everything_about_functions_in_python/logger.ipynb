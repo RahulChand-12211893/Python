{
 "cells": [
  {
   "cell_type": "code",
   "execution_count": 1,
   "id": "44f2050f-412e-4aba-b6ea-78d9388160d2",
   "metadata": {
    "tags": []
   },
   "outputs": [],
   "source": [
    "import logging\n",
    "logger1=logging.getLogger(__name__)\n",
    "logger1.setLevel(logging.DEBUG)\n",
    "formatter=logging.Formatter(\"%(asctime)s:%(name)s\")\n",
    "file_handler=logging.FileHandler(\"logging_first_time.log\")\n",
    "logger1.addHandler(file_handler)"
   ]
  },
  {
   "cell_type": "code",
   "execution_count": null,
   "id": "5a564758-cfa8-4b8d-a28f-6c2b16a15787",
   "metadata": {},
   "outputs": [],
   "source": []
  }
 ],
 "metadata": {
  "kernelspec": {
   "display_name": "Python 3 (ipykernel)",
   "language": "python",
   "name": "python3"
  },
  "language_info": {
   "codemirror_mode": {
    "name": "ipython",
    "version": 3
   },
   "file_extension": ".py",
   "mimetype": "text/x-python",
   "name": "python",
   "nbconvert_exporter": "python",
   "pygments_lexer": "ipython3",
   "version": "3.11.7"
  }
 },
 "nbformat": 4,
 "nbformat_minor": 5
}
