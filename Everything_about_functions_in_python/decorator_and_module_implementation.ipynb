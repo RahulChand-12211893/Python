{
 "cells": [
  {
   "cell_type": "code",
   "execution_count": 1,
   "id": "26db95a5",
   "metadata": {},
   "outputs": [],
   "source": [
    "class decorator_Class:\n",
    "    def __init__(self,og_func):\n",
    "        self.og_func=og_func\n",
    "    def __call__(self,*args,**kwargs):\n",
    "        print(\"hello,Welcome to the hood bro\")\n",
    "        self.og_func()\n",
    "        print(\"thank you for trusting us my g\")\n",
    "    "
   ]
  },
  {
   "cell_type": "code",
   "execution_count": 2,
   "id": "42cf3526",
   "metadata": {},
   "outputs": [],
   "source": [
    "import my_calculator as calc"
   ]
  },
  {
   "cell_type": "code",
   "execution_count": 3,
   "id": "5f4c0ff3",
   "metadata": {},
   "outputs": [],
   "source": [
    "@decorator_Class\n",
    "def okay():\n",
    "    a=10\n",
    "    b=20\n",
    "    print(calc.add(a,b))"
   ]
  },
  {
   "cell_type": "code",
   "execution_count": 4,
   "id": "d989bb4d",
   "metadata": {},
   "outputs": [
    {
     "name": "stdout",
     "output_type": "stream",
     "text": [
      "hello,Welcome to the hood bro\n",
      "30\n",
      "thank you for trusting us my g\n"
     ]
    }
   ],
   "source": [
    "okay()"
   ]
  },
  {
   "cell_type": "code",
   "execution_count": 13,
   "id": "890a84c1",
   "metadata": {},
   "outputs": [
    {
     "name": "stdout",
     "output_type": "stream",
     "text": [
      "welcome to the hood bruh\n",
      "30\n",
      "good night my g\n"
     ]
    }
   ],
   "source": [
    "def decorator_function(og_function):\n",
    "    def wrapper_function(*args,**kwargs):\n",
    "        print(\"welcome to the hood bruh\")\n",
    "        og_function(*args,**kwargs)\n",
    "        print(\"good night my g\")\n",
    "    return wrapper_function\n",
    "# def okay():\n",
    "#     a=10\n",
    "#     b=20\n",
    "#     print(calc.add(a,b))\n",
    "# decorator=decorator_function(okay)\n",
    "# decorator()"
   ]
  },
  {
   "cell_type": "code",
   "execution_count": 17,
   "id": "0356f007",
   "metadata": {},
   "outputs": [
    {
     "data": {
      "text/plain": [
       "' def okay():\\n    a=10\\n    b=20\\n    print(calc.add(a,b))\\ndecorator=decorator_function(okay)\\ndecorator()'"
      ]
     },
     "execution_count": 17,
     "metadata": {},
     "output_type": "execute_result"
    }
   ],
   "source": [
    "@decorator_function\n",
    "def okay():\n",
    "    a=10\n",
    "    b=20\n",
    "    print(calc.add(a,b))  \n",
    "'''\n",
    "same as \n",
    "def okay():\n",
    "    a=10\n",
    "    b=20\n",
    "    print(calc.add(a,b))\n",
    "decorator=decorator_function(okay)\n",
    "decorator()'''"
   ]
  },
  {
   "cell_type": "code",
   "execution_count": 18,
   "id": "5d9d1ede",
   "metadata": {},
   "outputs": [
    {
     "name": "stdout",
     "output_type": "stream",
     "text": [
      "welcome to the hood bruh\n",
      "30\n",
      "good night my g\n"
     ]
    }
   ],
   "source": [
    "okay()"
   ]
  },
  {
   "cell_type": "code",
   "execution_count": null,
   "id": "86fa6d8d",
   "metadata": {},
   "outputs": [],
   "source": []
  }
 ],
 "metadata": {
  "kernelspec": {
   "display_name": "Python 3 (ipykernel)",
   "language": "python",
   "name": "python3"
  },
  "language_info": {
   "codemirror_mode": {
    "name": "ipython",
    "version": 3
   },
   "file_extension": ".py",
   "mimetype": "text/x-python",
   "name": "python",
   "nbconvert_exporter": "python",
   "pygments_lexer": "ipython3",
   "version": "3.11.7"
  }
 },
 "nbformat": 4,
 "nbformat_minor": 5
}
