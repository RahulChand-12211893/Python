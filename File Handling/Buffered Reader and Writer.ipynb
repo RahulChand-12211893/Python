{
 "cells": [
  {
   "cell_type": "code",
   "execution_count": 1,
   "id": "8bcedd18-07db-4c03-ab2a-468e8427fed6",
   "metadata": {},
   "outputs": [],
   "source": [
    "import io"
   ]
  },
  {
   "cell_type": "code",
   "execution_count": 8,
   "id": "5306fc2a-da18-4b84-82c9-af3fd85d6c2e",
   "metadata": {},
   "outputs": [],
   "source": [
    "with open(\"test1.txt\",\"wb\") as f:\n",
    "    file = io.BufferedWriter(f)\n",
    "    file.write(b\"this is my first line \\n\")\n",
    "    file.write(b\"this is my second line\")\n",
    "    file.flush() #similar to f.close()"
   ]
  },
  {
   "cell_type": "code",
   "execution_count": 9,
   "id": "93a65d0f-259f-461c-9928-28c0bf3ec180",
   "metadata": {},
   "outputs": [
    {
     "name": "stdout",
     "output_type": "stream",
     "text": [
      "b'this is my first line \\nthis is my second line'\n"
     ]
    }
   ],
   "source": [
    "with open(\"test1.txt\",\"rb\") as f:\n",
    "    file = io.BufferedReader(f)\n",
    "    data = file.read()\n",
    "    print(data)"
   ]
  },
  {
   "cell_type": "code",
   "execution_count": 3,
   "id": "11b3c334-8db0-4f3e-9ae2-957063af5604",
   "metadata": {},
   "outputs": [],
   "source": [
    "import pandas as pd"
   ]
  },
  {
   "cell_type": "code",
   "execution_count": 5,
   "id": "f5beabb9-cac5-4ce8-9f51-b5a56c17d07a",
   "metadata": {},
   "outputs": [
    {
     "ename": "SyntaxError",
     "evalue": "incomplete input (4069480945.py, line 1)",
     "output_type": "error",
     "traceback": [
      "\u001b[1;36m  Cell \u001b[1;32mIn[5], line 1\u001b[1;36m\u001b[0m\n\u001b[1;33m    pd.read_csv(\u001b[0m\n\u001b[1;37m                ^\u001b[0m\n\u001b[1;31mSyntaxError\u001b[0m\u001b[1;31m:\u001b[0m incomplete input\n"
     ]
    }
   ],
   "source": [
    "pd.read_csv()"
   ]
  },
  {
   "cell_type": "code",
   "execution_count": null,
   "id": "4fda0956-8125-4b77-8fb9-27b4b212751b",
   "metadata": {},
   "outputs": [],
   "source": []
  }
 ],
 "metadata": {
  "kernelspec": {
   "display_name": "Python 3 (ipykernel)",
   "language": "python",
   "name": "python3"
  },
  "language_info": {
   "codemirror_mode": {
    "name": "ipython",
    "version": 3
   },
   "file_extension": ".py",
   "mimetype": "text/x-python",
   "name": "python",
   "nbconvert_exporter": "python",
   "pygments_lexer": "ipython3",
   "version": "3.11.7"
  }
 },
 "nbformat": 4,
 "nbformat_minor": 5
}
