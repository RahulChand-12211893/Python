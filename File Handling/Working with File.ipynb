{
 "cells": [
  {
   "cell_type": "code",
   "execution_count": 8,
   "id": "4bec5c58-13be-4a49-b0ca-8eecdbba1fbd",
   "metadata": {},
   "outputs": [],
   "source": [
    "f = open(\"test.txt\",'w')"
   ]
  },
  {
   "cell_type": "code",
   "execution_count": 2,
   "id": "04f6c937-e170-4a79-a395-768a8d30e8e7",
   "metadata": {},
   "outputs": [
    {
     "data": {
      "text/plain": [
       "'C:\\\\Users\\\\hp\\\\OneDrive\\\\codes\\\\python\\\\File Handling'"
      ]
     },
     "execution_count": 2,
     "metadata": {},
     "output_type": "execute_result"
    }
   ],
   "source": [
    "pwd"
   ]
  },
  {
   "cell_type": "code",
   "execution_count": 3,
   "id": "f2d1c4a6-5d32-4c05-a525-a2263523fc6b",
   "metadata": {},
   "outputs": [
    {
     "name": "stdout",
     "output_type": "stream",
     "text": [
      " Volume in drive C has no label.\n",
      " Volume Serial Number is 3815-7176\n",
      "\n",
      " Directory of C:\\Users\\hp\\OneDrive\\codes\\python\\File Handling\n",
      "\n",
      "06/10/2024  05:59 PM    <DIR>          .\n",
      "06/10/2024  05:59 PM    <DIR>          ..\n",
      "06/10/2024  05:59 PM    <DIR>          .ipynb_checkpoints\n",
      "06/10/2024  05:59 PM                 0 test.txt\n",
      "06/10/2024  05:59 PM                72 Working with File.ipynb\n",
      "               2 File(s)             72 bytes\n",
      "               3 Dir(s)  40,872,988,672 bytes free\n"
     ]
    }
   ],
   "source": [
    "ls"
   ]
  },
  {
   "cell_type": "code",
   "execution_count": 7,
   "id": "28b5c3ce-058d-424b-a868-264ac29cc358",
   "metadata": {},
   "outputs": [
    {
     "name": "stdout",
     "output_type": "stream",
     "text": [
      "C:\\Users\\hp\\OneDrive\\codes\\python\\File Handling\\nf\n"
     ]
    }
   ],
   "source": [
    "cd nf"
   ]
  },
  {
   "cell_type": "code",
   "execution_count": 9,
   "id": "1214a81d-329d-45e5-b4b6-5e468fedef85",
   "metadata": {},
   "outputs": [
    {
     "data": {
      "text/plain": [
       "'C:\\\\Users\\\\hp\\\\OneDrive\\\\codes\\\\python\\\\File Handling\\\\nf'"
      ]
     },
     "execution_count": 9,
     "metadata": {},
     "output_type": "execute_result"
    }
   ],
   "source": [
    "pwd"
   ]
  },
  {
   "cell_type": "code",
   "execution_count": 10,
   "id": "bf5d54d7-20ed-47bd-ba5f-3491fd89a1c4",
   "metadata": {},
   "outputs": [
    {
     "name": "stdout",
     "output_type": "stream",
     "text": [
      " Volume in drive C has no label.\n",
      " Volume Serial Number is 3815-7176\n",
      "\n",
      " Directory of C:\\Users\\hp\\OneDrive\\codes\\python\\File Handling\\nf\n",
      "\n",
      "06/10/2024  06:01 PM    <DIR>          .\n",
      "06/10/2024  06:01 PM    <DIR>          ..\n",
      "06/10/2024  06:01 PM                 0 test.txt\n",
      "               1 File(s)              0 bytes\n",
      "               2 Dir(s)  40,872,603,648 bytes free\n"
     ]
    }
   ],
   "source": [
    "ls"
   ]
  },
  {
   "cell_type": "code",
   "execution_count": 21,
   "id": "b7a4894e-8f10-47e4-a49d-dffa35ea7758",
   "metadata": {},
   "outputs": [],
   "source": [
    "f.write(\"this is my first file to write\")\n",
    "f.close()"
   ]
  },
  {
   "cell_type": "code",
   "execution_count": 102,
   "id": "ad3f1c64-74be-4875-be33-279056897421",
   "metadata": {},
   "outputs": [],
   "source": [
    "f = open(\"test.txt\",'w')"
   ]
  },
  {
   "cell_type": "code",
   "execution_count": 103,
   "id": "5dd1c1ad-c5ea-4324-b274-e81eba555092",
   "metadata": {},
   "outputs": [
    {
     "data": {
      "text/plain": [
       "48"
      ]
     },
     "execution_count": 103,
     "metadata": {},
     "output_type": "execute_result"
    }
   ],
   "source": [
    "f.write(\"i am  writting into the file for the second time\")  ## write truncates the file first and then starts writting in it"
   ]
  },
  {
   "cell_type": "code",
   "execution_count": 104,
   "id": "7a43b897-f36b-42ab-ad2d-210f6f2d65fc",
   "metadata": {},
   "outputs": [],
   "source": [
    "f.close()"
   ]
  },
  {
   "cell_type": "code",
   "execution_count": 105,
   "id": "7cfb0375-ce99-46a9-8041-12ce23584363",
   "metadata": {},
   "outputs": [],
   "source": [
    "f1=open(\"test1.txt\",'w')"
   ]
  },
  {
   "cell_type": "code",
   "execution_count": 106,
   "id": "cb515a8d-4d56-4427-a16b-1fa4a472a74f",
   "metadata": {},
   "outputs": [
    {
     "data": {
      "text/plain": [
       "588"
      ]
     },
     "execution_count": 106,
     "metadata": {},
     "output_type": "execute_result"
    }
   ],
   "source": [
    "f1.write(\"Grad Student at Monash University, Australia with subjects focused on Machine Learning, Natural Language Processing, Data Science, Big Data. He is actively working in research and has published research papers in the field of neural networks, forecasting, and image processing. He has experience of being a technical coordinator in Google Developers Group. He has also worked as a research intern at the Indian Institute of Technology (IIT Jammu). He has been working on ML (as an intern + Full-time)  for the last 3.5 years. He also working as a Teaching Associate at Monash University. \")"
   ]
  },
  {
   "cell_type": "code",
   "execution_count": 107,
   "id": "e9d54b7c-4056-46ba-9fc0-ec85d642cb42",
   "metadata": {},
   "outputs": [],
   "source": [
    "f1.close() ## never forget to close"
   ]
  },
  {
   "cell_type": "code",
   "execution_count": 108,
   "id": "de6a9f82-e00c-47c8-84ae-dd526c6ae4d7",
   "metadata": {},
   "outputs": [],
   "source": [
    "f1=open(\"test1.txt\",'a') ## this doesnot truncate the values , only append the values"
   ]
  },
  {
   "cell_type": "code",
   "execution_count": 109,
   "id": "1ff54a69-9c0b-4102-82ab-ba38a06bd2bb",
   "metadata": {},
   "outputs": [
    {
     "data": {
      "text/plain": [
       "26"
      ]
     },
     "execution_count": 109,
     "metadata": {},
     "output_type": "execute_result"
    }
   ],
   "source": [
    "f1.write(\"great i appended something\")"
   ]
  },
  {
   "cell_type": "code",
   "execution_count": 110,
   "id": "349525e2-ab8e-4d12-b405-7b7f602c10a7",
   "metadata": {},
   "outputs": [],
   "source": [
    "f1.close()"
   ]
  },
  {
   "cell_type": "code",
   "execution_count": 111,
   "id": "de3be51e-404b-4b10-9b3e-4fb26dfa71c6",
   "metadata": {},
   "outputs": [],
   "source": [
    "f1=open(\"test1.txt\",\"r\")"
   ]
  },
  {
   "cell_type": "code",
   "execution_count": 112,
   "id": "d25a8072-4668-4dde-92f8-2adf11d1949f",
   "metadata": {},
   "outputs": [
    {
     "data": {
      "text/plain": [
       "'Grad Student at Monash University, Australia with subjects focused on Machine Learning, Natural Language Processing, Data Science, Big Data. He is actively working in research and has published research papers in the field of neural networks, forecasting, and image processing. He has experience of being a technical coordinator in Google Developers Group. He has also worked as a research intern at the Indian Institute of Technology (IIT Jammu). He has been working on ML (as an intern + Full-time)  for the last 3.5 years. He also working as a Teaching Associate at Monash University. great i appended something'"
      ]
     },
     "execution_count": 112,
     "metadata": {},
     "output_type": "execute_result"
    }
   ],
   "source": [
    "f1.read()"
   ]
  },
  {
   "cell_type": "code",
   "execution_count": 113,
   "id": "7b1fba7b-f898-4dcc-bf68-1cde6d955210",
   "metadata": {},
   "outputs": [
    {
     "data": {
      "text/plain": [
       "''"
      ]
     },
     "execution_count": 113,
     "metadata": {},
     "output_type": "execute_result"
    }
   ],
   "source": [
    "f1.readline()"
   ]
  },
  {
   "cell_type": "code",
   "execution_count": 114,
   "id": "3212bb72-f6b9-4155-8b2d-def70863915f",
   "metadata": {},
   "outputs": [
    {
     "data": {
      "text/plain": [
       "0"
      ]
     },
     "execution_count": 114,
     "metadata": {},
     "output_type": "execute_result"
    }
   ],
   "source": [
    "f1.seek(0) ## changes the cursor positon"
   ]
  },
  {
   "cell_type": "code",
   "execution_count": 115,
   "id": "ea71d6d5-e45f-41d2-a09b-0b7191a51e71",
   "metadata": {},
   "outputs": [
    {
     "data": {
      "text/plain": [
       "'Grad Student at Monash University, Australia with subjects focused on Machine Learning, Natural Language Processing, Data Science, Big Data. He is actively working in research and has published research papers in the field of neural networks, forecasting, and image processing. He has experience of being a technical coordinator in Google Developers Group. He has also worked as a research intern at the Indian Institute of Technology (IIT Jammu). He has been working on ML (as an intern + Full-time)  for the last 3.5 years. He also working as a Teaching Associate at Monash University. great i appended something'"
      ]
     },
     "execution_count": 115,
     "metadata": {},
     "output_type": "execute_result"
    }
   ],
   "source": [
    "f1.readline()"
   ]
  },
  {
   "cell_type": "code",
   "execution_count": 116,
   "id": "23d7e9c5-1202-4d63-943e-cce2635316ad",
   "metadata": {},
   "outputs": [
    {
     "data": {
      "text/plain": [
       "20"
      ]
     },
     "execution_count": 116,
     "metadata": {},
     "output_type": "execute_result"
    }
   ],
   "source": [
    "f1.seek(20)"
   ]
  },
  {
   "cell_type": "code",
   "execution_count": 117,
   "id": "9c472f38-9f0b-4796-a49c-7b2d2500dcd1",
   "metadata": {},
   "outputs": [
    {
     "data": {
      "text/plain": [
       "'sh University, Australia with subjects focused on Machine Learning, Natural Language Processing, Data Science, Big Data. He is actively working in research and has published research papers in the field of neural networks, forecasting, and image processing. He has experience of being a technical coordinator in Google Developers Group. He has also worked as a research intern at the Indian Institute of Technology (IIT Jammu). He has been working on ML (as an intern + Full-time)  for the last 3.5 years. He also working as a Teaching Associate at Monash University. great i appended something'"
      ]
     },
     "execution_count": 117,
     "metadata": {},
     "output_type": "execute_result"
    }
   ],
   "source": [
    "f1.read()"
   ]
  },
  {
   "cell_type": "code",
   "execution_count": 120,
   "id": "5e113d9a-eac0-4982-a360-65fc1431bd48",
   "metadata": {},
   "outputs": [],
   "source": [
    "f1=open(\"test1.txt\",\"r\")"
   ]
  },
  {
   "cell_type": "code",
   "execution_count": 121,
   "id": "548735e4-2fcc-432a-a992-3ac33caae804",
   "metadata": {},
   "outputs": [
    {
     "name": "stdout",
     "output_type": "stream",
     "text": [
      "Grad Student at Monash University, Australia with subjects focused on Machine Learning, Natural Language Processing, Data Science, Big Data. He is actively working in research and has published research papers in the field of neural networks, forecasting, and image processing. He has experience of being a technical coordinator in Google Developers Group. He has also worked as a research intern at the Indian Institute of Technology (IIT Jammu). He has been working on ML (as an intern + Full-time)  for the last 3.5 years. He also working as a Teaching Associate at Monash University. great i appended something\n"
     ]
    }
   ],
   "source": [
    "for i in f1:\n",
    "    print(i)"
   ]
  },
  {
   "cell_type": "code",
   "execution_count": 122,
   "id": "acca2e8e-ea04-4677-b221-cba8dc9e77da",
   "metadata": {},
   "outputs": [],
   "source": [
    "f1.close()"
   ]
  },
  {
   "cell_type": "code",
   "execution_count": 123,
   "id": "a8efa82a-4e67-40d7-9709-9e0b3e1028c1",
   "metadata": {},
   "outputs": [
    {
     "data": {
      "text/plain": [
       "614"
      ]
     },
     "execution_count": 123,
     "metadata": {},
     "output_type": "execute_result"
    }
   ],
   "source": [
    "import os\n",
    "os.path.getsize(\"test1.txt\")"
   ]
  },
  {
   "cell_type": "code",
   "execution_count": 124,
   "id": "0db873a3-e9cf-4c4c-be9b-db3236c6094e",
   "metadata": {},
   "outputs": [],
   "source": [
    "os.remove(\"test1.txt\")"
   ]
  },
  {
   "cell_type": "code",
   "execution_count": 125,
   "id": "2ff12864-e1d8-4adf-8ac7-47bcf52d9b41",
   "metadata": {},
   "outputs": [],
   "source": [
    "f1=open(\"test1.txt\",\"w\")"
   ]
  },
  {
   "cell_type": "code",
   "execution_count": 126,
   "id": "05655c6d-4206-41ee-86ba-ea87684edf17",
   "metadata": {},
   "outputs": [
    {
     "data": {
      "text/plain": [
       "614"
      ]
     },
     "execution_count": 126,
     "metadata": {},
     "output_type": "execute_result"
    }
   ],
   "source": [
    "f1.write(\"Grad Student at Monash University, Australia with subjects focused on Machine Learning, Natural Language Processing, Data Science, Big Data. He is actively working in research and has published research papers in the field of neural networks, forecasting, and image processing. He has experience of being a technical coordinator in Google Developers Group. He has also worked as a research intern at the Indian Institute of Technology (IIT Jammu). He has been working on ML (as an intern + Full-time)  for the last 3.5 years. He also working as a Teaching Associate at Monash University. great i appended something\")"
   ]
  },
  {
   "cell_type": "code",
   "execution_count": 127,
   "id": "e5e00875-feae-4423-a604-37ab7ed30f0f",
   "metadata": {},
   "outputs": [],
   "source": [
    "f1.close()"
   ]
  },
  {
   "cell_type": "code",
   "execution_count": 128,
   "id": "feba9c87-9fca-40be-b3dc-d57bdd8ee856",
   "metadata": {},
   "outputs": [],
   "source": [
    "os.rename(\"test1.txt\",\"new_file.txt\")"
   ]
  },
  {
   "cell_type": "code",
   "execution_count": 136,
   "id": "b9d33e9b-f5c1-46a8-8862-8f215ac023a2",
   "metadata": {},
   "outputs": [],
   "source": [
    "import shutil"
   ]
  },
  {
   "cell_type": "code",
   "execution_count": 137,
   "id": "1c9e954f-7cb2-491d-80c1-6cfd1cd3e38b",
   "metadata": {},
   "outputs": [
    {
     "data": {
      "text/plain": [
       "'copy_file.txt'"
      ]
     },
     "execution_count": 137,
     "metadata": {},
     "output_type": "execute_result"
    }
   ],
   "source": [
    "shutil.copy(\"new_file.txt\",\"copy_file.txt\")"
   ]
  },
  {
   "cell_type": "code",
   "execution_count": 138,
   "id": "d622553e-9027-442b-8daa-544a1fa9277d",
   "metadata": {},
   "outputs": [],
   "source": [
    "f1.close()"
   ]
  },
  {
   "cell_type": "code",
   "execution_count": 151,
   "id": "0e5f955d-daf8-4a7e-af01-818d86a3369f",
   "metadata": {},
   "outputs": [],
   "source": [
    "with open(\"new_file.txt\",\"w\") as f2:\n",
    "    f2.write(\"Grad Student at Monash University, Australia with subjects focused on Machine Learning, Natural Language Processing, Data Science, Big Data. He is actively working in research and has published research papers in the field of neural networks, forecasting, and image processing. He has experience of being a technical coordinator in Google Developers Group. He has also worked as a research intern at the Indian Institute of Technology (IIT Jammu). He has been working on ML (as an intern + Full-time)  for the last 3.5 years. He also working as a Teaching Associate at Monash University. great i appended something\")"
   ]
  },
  {
   "cell_type": "code",
   "execution_count": 153,
   "id": "d5ff3119-0de4-4b24-8286-be08dc0b0192",
   "metadata": {},
   "outputs": [],
   "source": [
    "f2.close()"
   ]
  },
  {
   "cell_type": "code",
   "execution_count": 159,
   "id": "100cb2b5-b9bb-40d5-90fb-a836886be83b",
   "metadata": {},
   "outputs": [],
   "source": [
    "fd = open('data2.txt','w')\n",
    "txt = fd.write(\"Coronavirus disease 2019 (COVID-19) is a contagious disease caused by severe acute respiratory syndrome coronavirus 2 (SARS-CoV-2). The first known case was identified in Wuhan, China, in December 2019.[7] The disease has since spread worldwide, leading to an ongoing pandemic.[8]\\n\\nSymptoms of COVID-19 are variable, but often include fever,[9] cough, headache,[10] fatigue, breathing difficulties, and loss of smell and taste.[11][12][13] Symptoms may begin one to fourteen days after exposure to the virus. At least a third of people who are infected do not develop noticeable symptoms.[14] Of those people who develop symptoms noticeable enough to be classed as patients, most (81%) develop mild to moderate symptoms (up to mild pneumonia), while 14% develop severe symptoms (dyspnea, hypoxia, or more than 50% lung involvement on imaging), and 5% suffer critical symptoms (respiratory failure, shock, or multi-organ dysfunction).[15] Older people are at a higher risk of developing severe symptoms. Some people continue to experience a range of effects (long COVID) for months after recovery, and damage to organs has been observed.[16] Multi-year studies are underway to further investigate the long-term effects of the disease.[16]\\n\\nCOVID-19 transmits when people breathe in air contaminated by droplets and small airborne particles containing the virus. The risk of breathing these in is highest when people are in close proximity, but they can be inhaled over longer distances, particularly indoors. Transmission can also occur if splashed or sprayed with contaminated fluids in the eyes, nose or mouth, and, rarely, via contaminated surfaces. People remain contagious for up to 20 days, and can spread the virus even if they do not develop symptoms.[17][18]\\n\\nSeveral testing methods have been developed to diagnose the disease. The standard diagnostic method is by detection of the virus' nucleic acid by real-time reverse transcription polymerase chain reaction (rRT-PCR), transcription-mediated amplification (TMA), or by reverse transcription loop-mediated isothermal amplification (RT-LAMP) from a nasopharyngeal swab.\\n\\nPreventive measures include physical or social distancing, quarantining, ventilation of indoor spaces, covering coughs and sneezes, hand washing, and keeping unwashed hands away from the face. The use of face masks or coverings has been recommended in public settings to minimise the risk of transmissions.\\n\\nWhile work is underway to develop drugs that inhibit the virus (and several vaccines for it have been approved and distributed in various countries, which have since initiated mass vaccination campaigns), the primary treatment is symptomatic. Management involves the treatment of symptoms, supportive care, isolation, and experimental measures.\")\n",
    "fd.close()"
   ]
  },
  {
   "cell_type": "code",
   "execution_count": 161,
   "id": "53600c36-21af-413b-a282-aac128e4b55d",
   "metadata": {},
   "outputs": [],
   "source": [
    "fd = open('data2.txt','r')\n",
    "txt = fd.read()\n",
    "fd.close()"
   ]
  },
  {
   "cell_type": "code",
   "execution_count": 162,
   "id": "9a435531-be1b-458b-8bbd-d8e9af818a0e",
   "metadata": {},
   "outputs": [
    {
     "data": {
      "text/plain": [
       "\"Coronavirus disease 2019 (COVID-19) is a contagious disease caused by severe acute respiratory syndrome coronavirus 2 (SARS-CoV-2). The first known case was identified in Wuhan, China, in December 2019.[7] The disease has since spread worldwide, leading to an ongoing pandemic.[8]\\n\\nSymptoms of COVID-19 are variable, but often include fever,[9] cough, headache,[10] fatigue, breathing difficulties, and loss of smell and taste.[11][12][13] Symptoms may begin one to fourteen days after exposure to the virus. At least a third of people who are infected do not develop noticeable symptoms.[14] Of those people who develop symptoms noticeable enough to be classed as patients, most (81%) develop mild to moderate symptoms (up to mild pneumonia), while 14% develop severe symptoms (dyspnea, hypoxia, or more than 50% lung involvement on imaging), and 5% suffer critical symptoms (respiratory failure, shock, or multi-organ dysfunction).[15] Older people are at a higher risk of developing severe symptoms. Some people continue to experience a range of effects (long COVID) for months after recovery, and damage to organs has been observed.[16] Multi-year studies are underway to further investigate the long-term effects of the disease.[16]\\n\\nCOVID-19 transmits when people breathe in air contaminated by droplets and small airborne particles containing the virus. The risk of breathing these in is highest when people are in close proximity, but they can be inhaled over longer distances, particularly indoors. Transmission can also occur if splashed or sprayed with contaminated fluids in the eyes, nose or mouth, and, rarely, via contaminated surfaces. People remain contagious for up to 20 days, and can spread the virus even if they do not develop symptoms.[17][18]\\n\\nSeveral testing methods have been developed to diagnose the disease. The standard diagnostic method is by detection of the virus' nucleic acid by real-time reverse transcription polymerase chain reaction (rRT-PCR), transcription-mediated amplification (TMA), or by reverse transcription loop-mediated isothermal amplification (RT-LAMP) from a nasopharyngeal swab.\\n\\nPreventive measures include physical or social distancing, quarantining, ventilation of indoor spaces, covering coughs and sneezes, hand washing, and keeping unwashed hands away from the face. The use of face masks or coverings has been recommended in public settings to minimise the risk of transmissions.\\n\\nWhile work is underway to develop drugs that inhibit the virus (and several vaccines for it have been approved and distributed in various countries, which have since initiated mass vaccination campaigns), the primary treatment is symptomatic. Management involves the treatment of symptoms, supportive care, isolation, and experimental measures.\""
      ]
     },
     "execution_count": 162,
     "metadata": {},
     "output_type": "execute_result"
    }
   ],
   "source": [
    "txt"
   ]
  },
  {
   "cell_type": "code",
   "execution_count": 163,
   "id": "3e57e8bc-7b59-4889-bd32-2e7df1c62c64",
   "metadata": {},
   "outputs": [
    {
     "name": "stdout",
     "output_type": "stream",
     "text": [
      "Coronavirus disease 2019 (COVID-19) is a contagious disease caused by severe acute respiratory syndrome coronavirus 2 (SARS-CoV-2). The first known case was identified in Wuhan, China, in December 2019. The disease has since spread worldwide, leading to an ongoing pandemic.\n",
      "\n",
      "Symptoms of COVID-19 are variable, but often include fever, cough, headache, fatigue, breathing difficulties, and loss of smell and taste. Symptoms may begin one to fourteen days after exposure to the virus. At least a third of people who are infected do not develop noticeable symptoms. Of those people who develop symptoms noticeable enough to be classed as patients, most (81%) develop mild to moderate symptoms (up to mild pneumonia), while 14% develop severe symptoms (dyspnea, hypoxia, or more than 50% lung involvement on imaging), and 5% suffer critical symptoms (respiratory failure, shock, or multi-organ dysfunction). Older people are at a higher risk of developing severe symptoms. Some people continue to experience a range of effects (long COVID) for months after recovery, and damage to organs has been observed. Multi-year studies are underway to further investigate the long-term effects of the disease.\n",
      "\n",
      "COVID-19 transmits when people breathe in air contaminated by droplets and small airborne particles containing the virus. The risk of breathing these in is highest when people are in close proximity, but they can be inhaled over longer distances, particularly indoors. Transmission can also occur if splashed or sprayed with contaminated fluids in the eyes, nose or mouth, and, rarely, via contaminated surfaces. People remain contagious for up to 20 days, and can spread the virus even if they do not develop symptoms.\n",
      "\n",
      "Several testing methods have been developed to diagnose the disease. The standard diagnostic method is by detection of the virus' nucleic acid by real-time reverse transcription polymerase chain reaction (rRT-PCR), transcription-mediated amplification (TMA), or by reverse transcription loop-mediated isothermal amplification (RT-LAMP) from a nasopharyngeal swab.\n",
      "\n",
      "Preventive measures include physical or social distancing, quarantining, ventilation of indoor spaces, covering coughs and sneezes, hand washing, and keeping unwashed hands away from the face. The use of face masks or coverings has been recommended in public settings to minimise the risk of transmissions.\n",
      "\n",
      "While work is underway to develop drugs that inhibit the virus (and several vaccines for it have been approved and distributed in various countries, which have since initiated mass vaccination campaigns), the primary treatment is symptomatic. Management involves the treatment of symptoms, supportive care, isolation, and experimental measures.\n"
     ]
    }
   ],
   "source": [
    "for i in range(7,19):\n",
    "    pattern = \"[\" + str(i) + \"]\"\n",
    "    txt = txt.replace(pattern , \"\")\n",
    "    \n",
    "print(txt)\n"
   ]
  },
  {
   "cell_type": "code",
   "execution_count": 164,
   "id": "be7eb4c5-b245-4d41-b768-bd572cc623fe",
   "metadata": {},
   "outputs": [
    {
     "name": "stdout",
     "output_type": "stream",
     "text": [
      "Coronavirus disease 2019 (COVID-19) is a contagious disease caused by severe acute respiratory syndrome coronavirus 2 (SARS-CoV-2). The first known case was identified in Wuhan, China, in December 2019. The disease has since spread worldwide, leading to an ongoing pandemic.\n",
      "\n",
      "Symptoms of COVID-19 are variable, but often include fever, cough, headache, fatigue, breathing difficulties, and loss of smell and taste. Symptoms may begin one to fourteen days after exposure to the virus. At least a third of people who are infected do not develop noticeable symptoms. Of those people who develop symptoms noticeable enough to be classed as patients, most (81) develop mild to moderate symptoms (up to mild pneumonia), while 14 develop severe symptoms (dyspnea, hypoxia, or more than 50 lung involvement on imaging), and 5 suffer critical symptoms (respiratory failure, shock, or multi-organ dysfunction). Older people are at a higher risk of developing severe symptoms. Some people continue to experience a range of effects (long COVID) for months after recovery, and damage to organs has been observed. Multi-year studies are underway to further investigate the long-term effects of the disease.\n",
      "\n",
      "COVID-19 transmits when people breathe in air contaminated by droplets and small airborne particles containing the virus. The risk of breathing these in is highest when people are in close proximity, but they can be inhaled over longer distances, particularly indoors. Transmission can also occur if splashed or sprayed with contaminated fluids in the eyes, nose or mouth, and, rarely, via contaminated surfaces. People remain contagious for up to 20 days, and can spread the virus even if they do not develop symptoms.\n",
      "\n",
      "Several testing methods have been developed to diagnose the disease. The standard diagnostic method is by detection of the virus' nucleic acid by real-time reverse transcription polymerase chain reaction (rRT-PCR), transcription-mediated amplification (TMA), or by reverse transcription loop-mediated isothermal amplification (RT-LAMP) from a nasopharyngeal swab.\n",
      "\n",
      "Preventive measures include physical or social distancing, quarantining, ventilation of indoor spaces, covering coughs and sneezes, hand washing, and keeping unwashed hands away from the face. The use of face masks or coverings has been recommended in public settings to minimise the risk of transmissions.\n",
      "\n",
      "While work is underway to develop drugs that inhibit the virus (and several vaccines for it have been approved and distributed in various countries, which have since initiated mass vaccination campaigns), the primary treatment is symptomatic. Management involves the treatment of symptoms, supportive care, isolation, and experimental measures.\n"
     ]
    }
   ],
   "source": [
    "for i in \"!@#$%^\":\n",
    "    txt = txt.replace(i , \"\")\n",
    "print(txt)\n"
   ]
  },
  {
   "cell_type": "code",
   "execution_count": 168,
   "id": "b47ffae3-32ff-4d8f-a9d8-85164f7ec990",
   "metadata": {},
   "outputs": [],
   "source": [
    "with open(\"dataProcessing.txt\",\"w\") as f2:\n",
    "    f2.write('''Coronavirus disease 2019 (COVID-19) is a contagious disease caused by severe acute respiratory syndrome coronavirus 2 (SARS-CoV-2). The first known case was identified in Wuhan, China, in December 2019.[7] The disease has since spread worldwide, leading to an ongoing pandemic.[8]\n",
    "            Symptoms of COVID-19 are variable, but often include fever,[9] cough, headache,[10] fatigue, breathing difficulties, and loss of smell and taste.[11][12][13] Symptoms may begin one to fourteen days after exposure to the virus. At least a third of people who are infected do not develop noticeable symptoms.[14] Of those people who develop symptoms noticeable enough to be classed as patients, \n",
    "            most (81%) develop mild to moderate symptoms (up to mild pneumonia), while 14% develop severe symptoms (dyspnea, hypoxia, or more than 50% lung involvement on imaging), and 5% suffer critical symptoms (respiratory failure, shock, or multi-organ dysfunction).[15] Older people are at a higher risk of developing severe symptoms. Some people continue to experience a range of effects (long COVID) for months after recovery, and damage to organs has been observed.[16] Multi-year studies are underway to further investigate the long-term effects of the disease.[16]COVID-19 transmits when people breathe in air contaminated by droplets and small airborne particles containing the virus. The risk of breathing these in is highest when people are in close proximity, but they can be inhaled over longer distances, particularly indoors. Transmission can also occur if splashed or sprayed with contaminated fluids in the eyes, nose or mouth, and, rarely, via contaminated surfaces. People remain contagious for up to 20 days, and can spread the virus even if they do not develop symptoms.[17][18]\n",
    "            Several testing methods have been developed to diagnose the disease. The standard diagnostic method is by detection of the virus' nucleic acid by real-time reverse transcription polymerase chain reaction (rRT-PCR), transcription-mediated amplification (TMA), or by reverse transcription loop-mediated isothermal amplification (RT-LAMP) from a nasopharyngeal swab.Preventive measures include physical or social distancing, quarantining, ventilation of indoor spaces, covering coughs and sneezes, hand washing, and keeping unwashed hands away from the face. The use of face masks or coverings has been recommended in public settings to minimise the risk of transmissions.\n",
    "            While work is underway to develop drugs that inhibit the virus (and several vaccines for it have been approved and distributed in various countries, which have since initiated mass vaccination campaigns), the primary treatment is symptomatic. Management involves the treatment of symptoms, supportive care, isolation, and experimental measures.''')"
   ]
  },
  {
   "cell_type": "code",
   "execution_count": 169,
   "id": "b5199153-ae08-4f8c-a9cb-bc0dfe7e83e5",
   "metadata": {},
   "outputs": [],
   "source": [
    "f2.close()"
   ]
  },
  {
   "cell_type": "code",
   "execution_count": 174,
   "id": "28120e4b-6308-498e-850c-2d265345d1ed",
   "metadata": {},
   "outputs": [
    {
     "name": "stdout",
     "output_type": "stream",
     "text": [
      "Coronavirus disease 2019 (COVID-19) is a contagious disease caused by severe acute respiratory syndrome coronavirus 2 (SARS-CoV-2). The first known case was identified in Wuhan, China, in December 2019.[7] The disease has since spread worldwide, leading to an ongoing pandemic.[8]\n",
      "            Symptoms of COVID-19 are variable, but often include fever,[9] cough, headache,[10] fatigue, breathing difficulties, and loss of smell and taste.[11][12][13] Symptoms may begin one to fourteen days after exposure to the virus. At least a third of people who are infected do not develop noticeable symptoms.[14] Of those people who develop symptoms noticeable enough to be classed as patients, \n",
      "            most (81%) develop mild to moderate symptoms (up to mild pneumonia), while 14% develop severe symptoms (dyspnea, hypoxia, or more than 50% lung involvement on imaging), and 5% suffer critical symptoms (respiratory failure, shock, or multi-organ dysfunction).[15] Older people are at a higher risk of developing severe symptoms. Some people continue to experience a range of effects (long COVID) for months after recovery, and damage to organs has been observed.[16] Multi-year studies are underway to further investigate the long-term effects of the disease.[16]COVID-19 transmits when people breathe in air contaminated by droplets and small airborne particles containing the virus. The risk of breathing these in is highest when people are in close proximity, but they can be inhaled over longer distances, particularly indoors. Transmission can also occur if splashed or sprayed with contaminated fluids in the eyes, nose or mouth, and, rarely, via contaminated surfaces. People remain contagious for up to 20 days, and can spread the virus even if they do not develop symptoms.[17][18]\n",
      "            Several testing methods have been developed to diagnose the disease. The standard diagnostic method is by detection of the virus' nucleic acid by real-time reverse transcription polymerase chain reaction (rRT-PCR), transcription-mediated amplification (TMA), or by reverse transcription loop-mediated isothermal amplification (RT-LAMP) from a nasopharyngeal swab.Preventive measures include physical or social distancing, quarantining, ventilation of indoor spaces, covering coughs and sneezes, hand washing, and keeping unwashed hands away from the face. The use of face masks or coverings has been recommended in public settings to minimise the risk of transmissions.\n",
      "            While work is underway to develop drugs that inhibit the virus (and several vaccines for it have been approved and distributed in various countries, which have since initiated mass vaccination campaigns), the primary treatment is symptomatic. Management involves the treatment of symptoms, supportive care, isolation, and experimental measures.\n"
     ]
    }
   ],
   "source": [
    "with open(\"dataProcessing.txt\",\"r\") as f2:\n",
    "    text=f2.read()\n",
    "    print(text)"
   ]
  },
  {
   "cell_type": "markdown",
   "id": "b5ac948e-b88b-43e3-9dfc-cd33e3bb24d8",
   "metadata": {},
   "source": [
    "#### Counting no of pragraphs"
   ]
  },
  {
   "cell_type": "code",
   "execution_count": 183,
   "id": "7a8078bb-185a-4c8f-872f-8218c807d4f6",
   "metadata": {},
   "outputs": [],
   "source": [
    "para = text.split(\"\\n\")"
   ]
  },
  {
   "cell_type": "code",
   "execution_count": 184,
   "id": "666c7ee0-efb1-4b68-a19d-1fad73733ed7",
   "metadata": {},
   "outputs": [
    {
     "data": {
      "text/plain": [
       "5"
      ]
     },
     "execution_count": 184,
     "metadata": {},
     "output_type": "execute_result"
    }
   ],
   "source": [
    "len(para)"
   ]
  },
  {
   "cell_type": "markdown",
   "id": "195e80c6-9a55-4ab1-9acc-3dc64697db94",
   "metadata": {},
   "source": [
    "#### Counting no of lines"
   ]
  },
  {
   "cell_type": "code",
   "execution_count": 185,
   "id": "75a9fc50-2c5a-4d82-94b1-3859b65da1d2",
   "metadata": {},
   "outputs": [],
   "source": [
    "lines = text.split(\".\")"
   ]
  },
  {
   "cell_type": "code",
   "execution_count": 188,
   "id": "141ccf6b-77f3-4fb0-af48-545a26bfb2c4",
   "metadata": {},
   "outputs": [
    {
     "data": {
      "text/plain": [
       "21"
      ]
     },
     "execution_count": 188,
     "metadata": {},
     "output_type": "execute_result"
    }
   ],
   "source": [
    "len(lines)"
   ]
  },
  {
   "cell_type": "markdown",
   "id": "ee8bbb73-3f77-4820-876e-e0574c6277f4",
   "metadata": {},
   "source": [
    "#### Counting no of words"
   ]
  },
  {
   "cell_type": "code",
   "execution_count": 189,
   "id": "4e2b5de0-bd18-4cbe-b080-66115622cd99",
   "metadata": {},
   "outputs": [],
   "source": [
    "words = text.split(\" \")"
   ]
  },
  {
   "cell_type": "code",
   "execution_count": 190,
   "id": "ea6fcd14-778a-453c-99e5-1f98ad6e467f",
   "metadata": {},
   "outputs": [
    {
     "name": "stdout",
     "output_type": "stream",
     "text": [
      "['Coronavirus', 'disease', '2019', '(COVID-19)', 'is', 'a', 'contagious', 'disease', 'caused', 'by', 'severe', 'acute', 'respiratory', 'syndrome', 'coronavirus', '2', '(SARS-CoV-2).', 'The', 'first', 'known', 'case', 'was', 'identified', 'in', 'Wuhan,', 'China,', 'in', 'December', '2019.[7]', 'The', 'disease', 'has', 'since', 'spread', 'worldwide,', 'leading', 'to', 'an', 'ongoing', 'pandemic.[8]\\n', '', '', '', '', '', '', '', '', '', '', '', 'Symptoms', 'of', 'COVID-19', 'are', 'variable,', 'but', 'often', 'include', 'fever,[9]', 'cough,', 'headache,[10]', 'fatigue,', 'breathing', 'difficulties,', 'and', 'loss', 'of', 'smell', 'and', 'taste.[11][12][13]', 'Symptoms', 'may', 'begin', 'one', 'to', 'fourteen', 'days', 'after', 'exposure', 'to', 'the', 'virus.', 'At', 'least', 'a', 'third', 'of', 'people', 'who', 'are', 'infected', 'do', 'not', 'develop', 'noticeable', 'symptoms.[14]', 'Of', 'those', 'people', 'who', 'develop', 'symptoms', 'noticeable', 'enough', 'to', 'be', 'classed', 'as', 'patients,', '\\n', '', '', '', '', '', '', '', '', '', '', '', 'most', '(81%)', 'develop', 'mild', 'to', 'moderate', 'symptoms', '(up', 'to', 'mild', 'pneumonia),', 'while', '14%', 'develop', 'severe', 'symptoms', '(dyspnea,', 'hypoxia,', 'or', 'more', 'than', '50%', 'lung', 'involvement', 'on', 'imaging),', 'and', '5%', 'suffer', 'critical', 'symptoms', '(respiratory', 'failure,', 'shock,', 'or', 'multi-organ', 'dysfunction).[15]', 'Older', 'people', 'are', 'at', 'a', 'higher', 'risk', 'of', 'developing', 'severe', 'symptoms.', 'Some', 'people', 'continue', 'to', 'experience', 'a', 'range', 'of', 'effects', '(long', 'COVID)', 'for', 'months', 'after', 'recovery,', 'and', 'damage', 'to', 'organs', 'has', 'been', 'observed.[16]', 'Multi-year', 'studies', 'are', 'underway', 'to', 'further', 'investigate', 'the', 'long-term', 'effects', 'of', 'the', 'disease.[16]COVID-19', 'transmits', 'when', 'people', 'breathe', 'in', 'air', 'contaminated', 'by', 'droplets', 'and', 'small', 'airborne', 'particles', 'containing', 'the', 'virus.', 'The', 'risk', 'of', 'breathing', 'these', 'in', 'is', 'highest', 'when', 'people', 'are', 'in', 'close', 'proximity,', 'but', 'they', 'can', 'be', 'inhaled', 'over', 'longer', 'distances,', 'particularly', 'indoors.', 'Transmission', 'can', 'also', 'occur', 'if', 'splashed', 'or', 'sprayed', 'with', 'contaminated', 'fluids', 'in', 'the', 'eyes,', 'nose', 'or', 'mouth,', 'and,', 'rarely,', 'via', 'contaminated', 'surfaces.', 'People', 'remain', 'contagious', 'for', 'up', 'to', '20', 'days,', 'and', 'can', 'spread', 'the', 'virus', 'even', 'if', 'they', 'do', 'not', 'develop', 'symptoms.[17][18]\\n', '', '', '', '', '', '', '', '', '', '', '', 'Several', 'testing', 'methods', 'have', 'been', 'developed', 'to', 'diagnose', 'the', 'disease.', 'The', 'standard', 'diagnostic', 'method', 'is', 'by', 'detection', 'of', 'the', \"virus'\", 'nucleic', 'acid', 'by', 'real-time', 'reverse', 'transcription', 'polymerase', 'chain', 'reaction', '(rRT-PCR),', 'transcription-mediated', 'amplification', '(TMA),', 'or', 'by', 'reverse', 'transcription', 'loop-mediated', 'isothermal', 'amplification', '(RT-LAMP)', 'from', 'a', 'nasopharyngeal', 'swab.Preventive', 'measures', 'include', 'physical', 'or', 'social', 'distancing,', 'quarantining,', 'ventilation', 'of', 'indoor', 'spaces,', 'covering', 'coughs', 'and', 'sneezes,', 'hand', 'washing,', 'and', 'keeping', 'unwashed', 'hands', 'away', 'from', 'the', 'face.', 'The', 'use', 'of', 'face', 'masks', 'or', 'coverings', 'has', 'been', 'recommended', 'in', 'public', 'settings', 'to', 'minimise', 'the', 'risk', 'of', 'transmissions.\\n', '', '', '', '', '', '', '', '', '', '', '', 'While', 'work', 'is', 'underway', 'to', 'develop', 'drugs', 'that', 'inhibit', 'the', 'virus', '(and', 'several', 'vaccines', 'for', 'it', 'have', 'been', 'approved', 'and', 'distributed', 'in', 'various', 'countries,', 'which', 'have', 'since', 'initiated', 'mass', 'vaccination', 'campaigns),', 'the', 'primary', 'treatment', 'is', 'symptomatic.', 'Management', 'involves', 'the', 'treatment', 'of', 'symptoms,', 'supportive', 'care,', 'isolation,', 'and', 'experimental', 'measures.']\n"
     ]
    }
   ],
   "source": [
    "print(words)"
   ]
  },
  {
   "cell_type": "code",
   "execution_count": 191,
   "id": "f9c08951-dc3d-4291-a4eb-9c8646354458",
   "metadata": {},
   "outputs": [
    {
     "data": {
      "text/plain": [
       "446"
      ]
     },
     "execution_count": 191,
     "metadata": {},
     "output_type": "execute_result"
    }
   ],
   "source": [
    "len(words)"
   ]
  },
  {
   "cell_type": "code",
   "execution_count": 197,
   "id": "028cfe6b-7e04-40dd-a10b-884bcf024ca2",
   "metadata": {},
   "outputs": [],
   "source": [
    "for i in range(7,19):\n",
    "    pattern = \"[\"+ str(i) + \"]\"\n",
    "    text = text.replace(pattern,\"\")"
   ]
  },
  {
   "cell_type": "code",
   "execution_count": 199,
   "id": "35cd4a0b-129e-4037-82d3-3df3bfc76cff",
   "metadata": {},
   "outputs": [
    {
     "data": {
      "text/plain": [
       "\"Coronavirus disease 2019 (COVID-19) is a contagious disease caused by severe acute respiratory syndrome coronavirus 2 (SARS-CoV-2). The first known case was identified in Wuhan, China, in December 2019. The disease has since spread worldwide, leading to an ongoing pandemic.\\n            Symptoms of COVID-19 are variable, but often include fever, cough, headache, fatigue, breathing difficulties, and loss of smell and taste. Symptoms may begin one to fourteen days after exposure to the virus. At least a third of people who are infected do not develop noticeable symptoms. Of those people who develop symptoms noticeable enough to be classed as patients, \\n            most (81%) develop mild to moderate symptoms (up to mild pneumonia), while 14% develop severe symptoms (dyspnea, hypoxia, or more than 50% lung involvement on imaging), and 5% suffer critical symptoms (respiratory failure, shock, or multi-organ dysfunction). Older people are at a higher risk of developing severe symptoms. Some people continue to experience a range of effects (long COVID) for months after recovery, and damage to organs has been observed. Multi-year studies are underway to further investigate the long-term effects of the disease.COVID-19 transmits when people breathe in air contaminated by droplets and small airborne particles containing the virus. The risk of breathing these in is highest when people are in close proximity, but they can be inhaled over longer distances, particularly indoors. Transmission can also occur if splashed or sprayed with contaminated fluids in the eyes, nose or mouth, and, rarely, via contaminated surfaces. People remain contagious for up to 20 days, and can spread the virus even if they do not develop symptoms.\\n            Several testing methods have been developed to diagnose the disease. The standard diagnostic method is by detection of the virus' nucleic acid by real-time reverse transcription polymerase chain reaction (rRT-PCR), transcription-mediated amplification (TMA), or by reverse transcription loop-mediated isothermal amplification (RT-LAMP) from a nasopharyngeal swab.Preventive measures include physical or social distancing, quarantining, ventilation of indoor spaces, covering coughs and sneezes, hand washing, and keeping unwashed hands away from the face. The use of face masks or coverings has been recommended in public settings to minimise the risk of transmissions.\\n            While work is underway to develop drugs that inhibit the virus (and several vaccines for it have been approved and distributed in various countries, which have since initiated mass vaccination campaigns), the primary treatment is symptomatic. Management involves the treatment of symptoms, supportive care, isolation, and experimental measures.\""
      ]
     },
     "execution_count": 199,
     "metadata": {},
     "output_type": "execute_result"
    }
   ],
   "source": [
    "text"
   ]
  },
  {
   "cell_type": "code",
   "execution_count": 200,
   "id": "13f81ac5-1153-4b67-8d19-6b183b3db0a7",
   "metadata": {},
   "outputs": [],
   "source": [
    "text = text.replace(\"\\n\",\" \")"
   ]
  },
  {
   "cell_type": "code",
   "execution_count": 201,
   "id": "50827bca-7df7-4c3b-aba0-080cef5870fe",
   "metadata": {},
   "outputs": [
    {
     "data": {
      "text/plain": [
       "\"Coronavirus disease 2019 (COVID-19) is a contagious disease caused by severe acute respiratory syndrome coronavirus 2 (SARS-CoV-2). The first known case was identified in Wuhan, China, in December 2019. The disease has since spread worldwide, leading to an ongoing pandemic.             Symptoms of COVID-19 are variable, but often include fever, cough, headache, fatigue, breathing difficulties, and loss of smell and taste. Symptoms may begin one to fourteen days after exposure to the virus. At least a third of people who are infected do not develop noticeable symptoms. Of those people who develop symptoms noticeable enough to be classed as patients,              most (81%) develop mild to moderate symptoms (up to mild pneumonia), while 14% develop severe symptoms (dyspnea, hypoxia, or more than 50% lung involvement on imaging), and 5% suffer critical symptoms (respiratory failure, shock, or multi-organ dysfunction). Older people are at a higher risk of developing severe symptoms. Some people continue to experience a range of effects (long COVID) for months after recovery, and damage to organs has been observed. Multi-year studies are underway to further investigate the long-term effects of the disease.COVID-19 transmits when people breathe in air contaminated by droplets and small airborne particles containing the virus. The risk of breathing these in is highest when people are in close proximity, but they can be inhaled over longer distances, particularly indoors. Transmission can also occur if splashed or sprayed with contaminated fluids in the eyes, nose or mouth, and, rarely, via contaminated surfaces. People remain contagious for up to 20 days, and can spread the virus even if they do not develop symptoms.             Several testing methods have been developed to diagnose the disease. The standard diagnostic method is by detection of the virus' nucleic acid by real-time reverse transcription polymerase chain reaction (rRT-PCR), transcription-mediated amplification (TMA), or by reverse transcription loop-mediated isothermal amplification (RT-LAMP) from a nasopharyngeal swab.Preventive measures include physical or social distancing, quarantining, ventilation of indoor spaces, covering coughs and sneezes, hand washing, and keeping unwashed hands away from the face. The use of face masks or coverings has been recommended in public settings to minimise the risk of transmissions.             While work is underway to develop drugs that inhibit the virus (and several vaccines for it have been approved and distributed in various countries, which have since initiated mass vaccination campaigns), the primary treatment is symptomatic. Management involves the treatment of symptoms, supportive care, isolation, and experimental measures.\""
      ]
     },
     "execution_count": 201,
     "metadata": {},
     "output_type": "execute_result"
    }
   ],
   "source": [
    "text"
   ]
  },
  {
   "cell_type": "code",
   "execution_count": 204,
   "id": "18979fa7-f98f-4424-859b-2a1d040dfa08",
   "metadata": {},
   "outputs": [],
   "source": [
    "text = text.replace(\"             \",\"\")"
   ]
  },
  {
   "cell_type": "code",
   "execution_count": 205,
   "id": "850c086b-9b24-408d-b32f-8dde185e0637",
   "metadata": {},
   "outputs": [
    {
     "data": {
      "text/plain": [
       "\"Coronavirus disease 2019 (COVID-19) is a contagious disease caused by severe acute respiratory syndrome coronavirus 2 (SARS-CoV-2). The first known case was identified in Wuhan, China, in December 2019. The disease has since spread worldwide, leading to an ongoing pandemic.  Symptoms of COVID-19 are variable, but often include fever, cough, headache, fatigue, breathing difficulties, and loss of smell and taste. Symptoms may begin one to fourteen days after exposure to the virus. At least a third of people who are infected do not develop noticeable symptoms. Of those people who develop symptoms noticeable enough to be classed as patients,   most (81%) develop mild to moderate symptoms (up to mild pneumonia), while 14% develop severe symptoms (dyspnea, hypoxia, or more than 50% lung involvement on imaging), and 5% suffer critical symptoms (respiratory failure, shock, or multi-organ dysfunction). Older people are at a higher risk of developing severe symptoms. Some people continue to experience a range of effects (long COVID) for months after recovery, and damage to organs has been observed. Multi-year studies are underway to further investigate the long-term effects of the disease.COVID-19 transmits when people breathe in air contaminated by droplets and small airborne particles containing the virus. The risk of breathing these in is highest when people are in close proximity, but they can be inhaled over longer distances, particularly indoors. Transmission can also occur if splashed or sprayed with contaminated fluids in the eyes, nose or mouth, and, rarely, via contaminated surfaces. People remain contagious for up to 20 days, and can spread the virus even if they do not develop symptoms.  Several testing methods have been developed to diagnose the disease. The standard diagnostic method is by detection of the virus' nucleic acid by real-time reverse transcription polymerase chain reaction (rRT-PCR), transcription-mediated amplification (TMA), or by reverse transcription loop-mediated isothermal amplification (RT-LAMP) from a nasopharyngeal swab.Preventive measures include physical or social distancing, quarantining, ventilation of indoor spaces, covering coughs and sneezes, hand washing, and keeping unwashed hands away from the face. The use of face masks or coverings has been recommended in public settings to minimise the risk of transmissions.  While work is underway to develop drugs that inhibit the virus (and several vaccines for it have been approved and distributed in various countries, which have since initiated mass vaccination campaigns), the primary treatment is symptomatic. Management involves the treatment of symptoms, supportive care, isolation, and experimental measures.\""
      ]
     },
     "execution_count": 205,
     "metadata": {},
     "output_type": "execute_result"
    }
   ],
   "source": [
    "text"
   ]
  },
  {
   "cell_type": "code",
   "execution_count": 206,
   "id": "a3aaffd1-3446-4afd-8de3-718c65aa4119",
   "metadata": {},
   "outputs": [],
   "source": [
    "f2.close()"
   ]
  },
  {
   "cell_type": "code",
   "execution_count": 207,
   "id": "021719b2-3a87-47e2-8932-bfd17d40181b",
   "metadata": {},
   "outputs": [],
   "source": [
    "with open(\"dataProcessing.txt\",\"w\") as f2:\n",
    "    f2.write('''Coronavirus disease 2019 (COVID-19) is a contagious disease caused by severe acute respiratory syndrome coronavirus 2 (SARS-CoV-2). The first known case was identified in Wuhan, China, in December 2019.[7] The disease has since spread worldwide, leading to an ongoing pandemic.[8]\n",
    "            Symptoms of COVID-19 are variable, but often include fever,[9] cough, headache,[10] fatigue, breathing difficulties, and loss of smell and taste.[11][12][13] Symptoms may begin one to fourteen days after exposure to the virus. At least a third of people who are infected do not develop noticeable symptoms.[14] Of those people who develop symptoms noticeable enough to be classed as patients, \n",
    "            most (81%) develop mild to moderate symptoms (up to mild pneumonia), while 14% develop severe symptoms (dyspnea, hypoxia, or more than 50% lung involvement on imaging), and 5% suffer critical symptoms (respiratory failure, shock, or multi-organ dysfunction).[15] Older people are at a higher risk of developing severe symptoms. Some people continue to experience a range of effects (long COVID) for months after recovery, and damage to organs has been observed.[16] Multi-year studies are underway to further investigate the long-term effects of the disease.[16]COVID-19 transmits when people breathe in air contaminated by droplets and small airborne particles containing the virus. The risk of breathing these in is highest when people are in close proximity, but they can be inhaled over longer distances, particularly indoors. Transmission can also occur if splashed or sprayed with contaminated fluids in the eyes, nose or mouth, and, rarely, via contaminated surfaces. People remain contagious for up to 20 days, and can spread the virus even if they do not develop symptoms.[17][18]\n",
    "            Several testing methods have been developed to diagnose the disease. The standard diagnostic method is by detection of the virus' nucleic acid by real-time reverse transcription polymerase chain reaction (rRT-PCR), transcription-mediated amplification (TMA), or by reverse transcription loop-mediated isothermal amplification (RT-LAMP) from a nasopharyngeal swab.Preventive measures include physical or social distancing, quarantining, ventilation of indoor spaces, covering coughs and sneezes, hand washing, and keeping unwashed hands away from the face. The use of face masks or coverings has been recommended in public settings to minimise the risk of transmissions.\n",
    "            While work is underway to develop drugs that inhibit the virus (and several vaccines for it have been approved and distributed in various countries, which have since initiated mass vaccination campaigns), the primary treatment is symptomatic. Management involves the treatment of symptoms, supportive care, isolation, and experimental measures.''')\n",
    "\n",
    "with open(\"dataProcessing.txt\", \"r+\") as f2:  # Open file in read and write mode\n",
    "    text = f2.read()\n",
    "    for i in range(7, 19):\n",
    "        pattern = \"[\" + str(i) + \"]\"\n",
    "        text = text.replace(pattern, \"\")\n",
    "    text = text.replace(\"\\n\", \" \")\n",
    "    text = text.replace(\"             \", \"\")\n",
    "    f2.seek(0)  # Move the file cursor to the beginning of the file # important step\n",
    "    f2.write(text)  # Write the modified text back to the file"
   ]
  },
  {
   "cell_type": "code",
   "execution_count": 208,
   "id": "420dea09-8c59-441d-a9b4-954234d455a5",
   "metadata": {},
   "outputs": [],
   "source": [
    "f2.close()"
   ]
  },
  {
   "cell_type": "code",
   "execution_count": null,
   "id": "9f7fc805-4cb5-483d-9eb3-887a74155bf6",
   "metadata": {},
   "outputs": [],
   "source": []
  }
 ],
 "metadata": {
  "kernelspec": {
   "display_name": "Python 3 (ipykernel)",
   "language": "python",
   "name": "python3"
  },
  "language_info": {
   "codemirror_mode": {
    "name": "ipython",
    "version": 3
   },
   "file_extension": ".py",
   "mimetype": "text/x-python",
   "name": "python",
   "nbconvert_exporter": "python",
   "pygments_lexer": "ipython3",
   "version": "3.11.7"
  }
 },
 "nbformat": 4,
 "nbformat_minor": 5
}
