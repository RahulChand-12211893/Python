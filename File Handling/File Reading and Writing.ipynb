{
 "cells": [
  {
   "cell_type": "code",
   "execution_count": 6,
   "id": "5a2a05a9-8a5c-45cc-9949-66228c71e8ac",
   "metadata": {},
   "outputs": [],
   "source": [
    "data ={\n",
    "    \"name\": \"swayam\",\n",
    "    \"email\": \"swayam@gmail.com\",\n",
    "    \"no\":3543543,\n",
    "    \"subject\":[\"ds\",\"ml\",\"webdev\"]\n",
    "}"
   ]
  },
  {
   "cell_type": "markdown",
   "id": "d61a2851-61ff-428d-b67e-48525a9a2a9d",
   "metadata": {},
   "source": [
    "##### the above data format is json (JavaScript Object Notation"
   ]
  },
  {
   "cell_type": "markdown",
   "id": "7f9f2444-68b6-49e8-aa3b-56e8790c8f9c",
   "metadata": {},
   "source": [
    "#### JSON (JAVASCRIPT OBJECT NOTATION)"
   ]
  },
  {
   "cell_type": "code",
   "execution_count": 17,
   "id": "85a92cea-6963-443d-acd9-1987b8d136fc",
   "metadata": {},
   "outputs": [],
   "source": [
    "import json"
   ]
  },
  {
   "cell_type": "code",
   "execution_count": 18,
   "id": "1e71169f-f61c-4c16-bd79-1c8f932205f5",
   "metadata": {},
   "outputs": [],
   "source": [
    "with open(\"data.json\",\"w\") as f:\n",
    "    json.dump(data,f) ## writing data"
   ]
  },
  {
   "cell_type": "code",
   "execution_count": 19,
   "id": "fab56cb9-6330-48f7-97a0-558219fd124a",
   "metadata": {},
   "outputs": [],
   "source": [
    "with open(\"data.json\",\"r\") as f:\n",
    "    data1=json.load(f) # reading data"
   ]
  },
  {
   "cell_type": "code",
   "execution_count": 20,
   "id": "e907f039-1b52-4daa-8d5b-df324a9bdfa6",
   "metadata": {},
   "outputs": [
    {
     "data": {
      "text/plain": [
       "{'name': 'swayam',\n",
       " 'email': 'swayam@gmail.com',\n",
       " 'no': 3543543,\n",
       " 'subject': ['ds', 'ml', 'webdev']}"
      ]
     },
     "execution_count": 20,
     "metadata": {},
     "output_type": "execute_result"
    }
   ],
   "source": [
    "data1"
   ]
  },
  {
   "cell_type": "markdown",
   "id": "fe537bff-6ed2-4187-b483-1e51235c7da3",
   "metadata": {},
   "source": [
    "#### CSV (COMMA SEPARTED VALUES)"
   ]
  },
  {
   "cell_type": "code",
   "execution_count": 21,
   "id": "c48a286f-6240-49bb-82ed-9a297bb736f6",
   "metadata": {},
   "outputs": [],
   "source": [
    "import csv"
   ]
  },
  {
   "cell_type": "code",
   "execution_count": 22,
   "id": "b0602963-1b30-4422-b588-d5492716a886",
   "metadata": {},
   "outputs": [],
   "source": [
    "data = [[\"name\",\"email_id\",\"phone_num\"],[\"swayam\",\"swayam@gmail.com\",\"35435\"],[\"swarup\",\"swarup@gmail.com\",\"3243243\"]]"
   ]
  },
  {
   "cell_type": "code",
   "execution_count": 34,
   "id": "412684a4-eb48-4d84-b56a-8b0066728203",
   "metadata": {},
   "outputs": [],
   "source": [
    "with open(\"data.csv\",\"w\",newline='') as f2:\n",
    "    writer = csv.writer(f2)\n",
    "    for i in data:\n",
    "        writer.writerow(i)"
   ]
  },
  {
   "cell_type": "code",
   "execution_count": 27,
   "id": "6ee94c0a-e22d-4868-b8f9-62bd871b4eca",
   "metadata": {},
   "outputs": [
    {
     "name": "stdout",
     "output_type": "stream",
     "text": [
      "['name', 'email_id', 'phone_num']\n",
      "['swayam', 'swayam@gmail.com', '35435']\n",
      "['swarup', 'swarup@gmail.com', '3243243']\n"
     ]
    }
   ],
   "source": [
    "with open(\"data.csv\",\"r\") as f3:\n",
    "    read_data = csv.reader(f3)\n",
    "    for i in read_data:\n",
    "        print(i)"
   ]
  },
  {
   "cell_type": "markdown",
   "id": "2d297cc7-a7c0-4832-a123-a16261bd6e7d",
   "metadata": {},
   "source": [
    "#### Binary Data"
   ]
  },
  {
   "cell_type": "code",
   "execution_count": 1,
   "id": "249decba-02d0-4aea-9867-9b709e2e4e4e",
   "metadata": {},
   "outputs": [],
   "source": [
    "with open(\"test4.bin\",\"wb\") as f:\n",
    "    f.write(b\"\\x06\")"
   ]
  },
  {
   "cell_type": "code",
   "execution_count": 3,
   "id": "8a3a1a99-2be1-47b3-8a4d-c366d8be34d5",
   "metadata": {},
   "outputs": [
    {
     "name": "stdout",
     "output_type": "stream",
     "text": [
      "b'\\x06'\n"
     ]
    }
   ],
   "source": [
    "with open(\"test4.bin\",\"rb\") as f:\n",
    "    print(f.read())"
   ]
  },
  {
   "cell_type": "code",
   "execution_count": null,
   "id": "90494cd1-2ccc-4709-a306-0821015282a4",
   "metadata": {},
   "outputs": [],
   "source": []
  }
 ],
 "metadata": {
  "kernelspec": {
   "display_name": "Python 3 (ipykernel)",
   "language": "python",
   "name": "python3"
  },
  "language_info": {
   "codemirror_mode": {
    "name": "ipython",
    "version": 3
   },
   "file_extension": ".py",
   "mimetype": "text/x-python",
   "name": "python",
   "nbconvert_exporter": "python",
   "pygments_lexer": "ipython3",
   "version": "3.11.7"
  }
 },
 "nbformat": 4,
 "nbformat_minor": 5
}
