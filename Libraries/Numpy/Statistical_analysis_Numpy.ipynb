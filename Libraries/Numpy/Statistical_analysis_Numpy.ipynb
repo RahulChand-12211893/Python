{
 "cells": [
  {
   "cell_type": "code",
   "execution_count": 3,
   "id": "09d9b9e5-962c-4f79-9733-7b370bd37e98",
   "metadata": {},
   "outputs": [],
   "source": [
    "import numpy as np"
   ]
  },
  {
   "cell_type": "markdown",
   "id": "016591e9-be62-42d5-90c0-0c1f85923a45",
   "metadata": {},
   "source": [
    "#### Data Centering "
   ]
  },
  {
   "cell_type": "code",
   "execution_count": 17,
   "id": "09318642-e5fe-48d0-bf40-69d5ffb870eb",
   "metadata": {},
   "outputs": [],
   "source": [
    "data = np.array([10,20,30,40,50])"
   ]
  },
  {
   "cell_type": "code",
   "execution_count": 7,
   "id": "304e6de3-3f7a-40e6-b15b-50671af324ad",
   "metadata": {},
   "outputs": [],
   "source": [
    "mean = data.mean()"
   ]
  },
  {
   "cell_type": "code",
   "execution_count": 9,
   "id": "dd6c8ad0-cbb5-49d5-8d59-3e82f499f112",
   "metadata": {},
   "outputs": [
    {
     "data": {
      "text/plain": [
       "np.float64(30.0)"
      ]
     },
     "execution_count": 9,
     "metadata": {},
     "output_type": "execute_result"
    }
   ],
   "source": [
    "mean"
   ]
  },
  {
   "cell_type": "code",
   "execution_count": 11,
   "id": "53356ef2-8066-484d-b245-b8830c871b89",
   "metadata": {},
   "outputs": [],
   "source": [
    "centered_data = data - mean"
   ]
  },
  {
   "cell_type": "code",
   "execution_count": 13,
   "id": "eae22109-788a-40b3-8de5-dd51d7c5a1cb",
   "metadata": {},
   "outputs": [
    {
     "data": {
      "text/plain": [
       "array([-20., -10.,   0.,  10.,  20.])"
      ]
     },
     "execution_count": 13,
     "metadata": {},
     "output_type": "execute_result"
    }
   ],
   "source": [
    "centered_data"
   ]
  },
  {
   "cell_type": "markdown",
   "id": "a1beead0-aac2-4cd7-ad2e-2cdc21535749",
   "metadata": {},
   "source": [
    "#### Data Standardization"
   ]
  },
  {
   "cell_type": "code",
   "execution_count": 20,
   "id": "fa585bd2-ac0c-4573-b9d7-5ee115ba6208",
   "metadata": {},
   "outputs": [],
   "source": [
    "std_dev = np.std(data)"
   ]
  },
  {
   "cell_type": "code",
   "execution_count": 24,
   "id": "15e737b7-ee03-4b04-adce-bb38e5d4bea0",
   "metadata": {},
   "outputs": [],
   "source": [
    "standardized_data = (data - mean)/std_dev"
   ]
  },
  {
   "cell_type": "code",
   "execution_count": 26,
   "id": "c4823162-a199-48ba-ac10-b9f01584dd1f",
   "metadata": {},
   "outputs": [
    {
     "data": {
      "text/plain": [
       "array([-1.41421356, -0.70710678,  0.        ,  0.70710678,  1.41421356])"
      ]
     },
     "execution_count": 26,
     "metadata": {},
     "output_type": "execute_result"
    }
   ],
   "source": [
    "standardized_data"
   ]
  },
  {
   "cell_type": "markdown",
   "id": "be127fce-5f6e-4e6f-bb07-da011170f6c7",
   "metadata": {},
   "source": [
    "#### Log Transformation"
   ]
  },
  {
   "cell_type": "code",
   "execution_count": 29,
   "id": "e26e1f34-1eea-4a3b-bd78-9d92b84e26e9",
   "metadata": {},
   "outputs": [],
   "source": [
    "log_transformed_data = np.log(data)"
   ]
  },
  {
   "cell_type": "code",
   "execution_count": 31,
   "id": "523f5cde-9251-4a09-8101-e0994ee42f1b",
   "metadata": {},
   "outputs": [
    {
     "data": {
      "text/plain": [
       "array([2.30258509, 2.99573227, 3.40119738, 3.68887945, 3.91202301])"
      ]
     },
     "execution_count": 31,
     "metadata": {},
     "output_type": "execute_result"
    }
   ],
   "source": [
    "log_transformed_data"
   ]
  },
  {
   "cell_type": "code",
   "execution_count": 33,
   "id": "87dd63d5-6efe-4547-8dba-33f11ac34237",
   "metadata": {},
   "outputs": [
    {
     "name": "stdout",
     "output_type": "stream",
     "text": [
      "Centred Data [-20. -10.   0.  10.  20.]\n",
      "Standardized Data [-1.41421356 -0.70710678  0.          0.70710678  1.41421356]\n",
      "Log Transformed Data [2.30258509 2.99573227 3.40119738 3.68887945 3.91202301]\n"
     ]
    }
   ],
   "source": [
    "print(\"Centred Data\",centered_data)\n",
    "print(\"Standardized Data\",standardized_data)\n",
    "print(\"Log Transformed Data\",log_transformed_data)"
   ]
  },
  {
   "cell_type": "code",
   "execution_count": null,
   "id": "77595770-22a2-4601-a7e4-0fce86129ead",
   "metadata": {},
   "outputs": [],
   "source": []
  }
 ],
 "metadata": {
  "kernelspec": {
   "display_name": "Python 3 (ipykernel)",
   "language": "python",
   "name": "python3"
  },
  "language_info": {
   "codemirror_mode": {
    "name": "ipython",
    "version": 3
   },
   "file_extension": ".py",
   "mimetype": "text/x-python",
   "name": "python",
   "nbconvert_exporter": "python",
   "pygments_lexer": "ipython3",
   "version": "3.11.7"
  }
 },
 "nbformat": 4,
 "nbformat_minor": 5
}
