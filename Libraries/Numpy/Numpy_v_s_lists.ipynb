{
  "nbformat": 4,
  "nbformat_minor": 0,
  "metadata": {
    "colab": {
      "provenance": []
    },
    "kernelspec": {
      "name": "python3",
      "display_name": "Python 3"
    },
    "language_info": {
      "name": "python"
    }
  },
  "cells": [
    {
      "cell_type": "markdown",
      "source": [
        "# Numpy v/s PythonLists"
      ],
      "metadata": {
        "id": "erTblSWfVIBG"
      }
    },
    {
      "cell_type": "code",
      "execution_count": 2,
      "metadata": {
        "colab": {
          "base_uri": "https://localhost:8080/"
        },
        "id": "nQc2EWHmT6a_",
        "outputId": "d23f6982-db9f-4aa1-f2c3-3da168af71c4"
      },
      "outputs": [
        {
          "output_type": "stream",
          "name": "stdout",
          "text": [
            "0.3457942008972168\n"
          ]
        }
      ],
      "source": [
        "import time\n",
        "a = [i for i in range(1000000)]\n",
        "b = [i for i  in range (1000000)]\n",
        "c = []\n",
        "start_time = time.time()\n",
        "for i in range(len(a)):\n",
        "    c.append(a[i]+b[i])\n",
        "print(time.time()-start_time)"
      ]
    },
    {
      "cell_type": "code",
      "source": [
        "import numpy as np\n",
        "a = np.array([i for i in range(1000000)])\n",
        "b = np.array([i for i  in range (1000000)])\n",
        "start_time = time.time()\n",
        "c = a+b\n",
        "print(time.time()-start_time)"
      ],
      "metadata": {
        "colab": {
          "base_uri": "https://localhost:8080/"
        },
        "id": "nQHcXyLcUdaB",
        "outputId": "2d0d9328-9320-4b2b-a3f5-5e716ded402f"
      },
      "execution_count": 3,
      "outputs": [
        {
          "output_type": "stream",
          "name": "stdout",
          "text": [
            "0.0025620460510253906\n"
          ]
        }
      ]
    },
    {
      "cell_type": "code",
      "source": [
        "# numpy is faster"
      ],
      "metadata": {
        "id": "Tzi5g3-uU0yt"
      },
      "execution_count": 6,
      "outputs": []
    },
    {
      "cell_type": "code",
      "source": [],
      "metadata": {
        "id": "_lu3Gb4MVBGp"
      },
      "execution_count": null,
      "outputs": []
    },
    {
      "cell_type": "markdown",
      "source": [
        "### Memory difference"
      ],
      "metadata": {
        "id": "K005E5LBVRMl"
      }
    },
    {
      "cell_type": "code",
      "source": [
        "import sys\n",
        "a = [i for i in range(1000000)]\n",
        "sys.getsizeof(a)"
      ],
      "metadata": {
        "colab": {
          "base_uri": "https://localhost:8080/"
        },
        "id": "MlgVKv6tVVHg",
        "outputId": "7343c52d-d429-40b6-f19d-1e0cfd849c2d"
      },
      "execution_count": 7,
      "outputs": [
        {
          "output_type": "execute_result",
          "data": {
            "text/plain": [
              "8448728"
            ]
          },
          "metadata": {},
          "execution_count": 7
        }
      ]
    },
    {
      "cell_type": "code",
      "source": [
        "a = np.array([i for i in range(1000000)])\n",
        "sys.getsizeof(a)"
      ],
      "metadata": {
        "colab": {
          "base_uri": "https://localhost:8080/"
        },
        "id": "EhOPceDWVbbJ",
        "outputId": "299f3be4-2c7a-4c4f-96a6-607721077fe6"
      },
      "execution_count": 8,
      "outputs": [
        {
          "output_type": "execute_result",
          "data": {
            "text/plain": [
              "8000112"
            ]
          },
          "metadata": {},
          "execution_count": 8
        }
      ]
    },
    {
      "cell_type": "code",
      "source": [
        "# numpy and lists are at similar memory consumption but we can change the datatypes in numpy for lesser space"
      ],
      "metadata": {
        "id": "SSUme2BwVhYG"
      },
      "execution_count": 9,
      "outputs": []
    },
    {
      "cell_type": "code",
      "source": [],
      "metadata": {
        "id": "J8CnqQbAVv_c"
      },
      "execution_count": null,
      "outputs": []
    }
  ]
}