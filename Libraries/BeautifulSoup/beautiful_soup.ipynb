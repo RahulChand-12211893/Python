{
 "cells": [
  {
   "cell_type": "code",
   "execution_count": 3,
   "id": "6e4f54cd-77a5-4fc9-997f-0495ee7529a1",
   "metadata": {},
   "outputs": [],
   "source": [
    "import requests\n",
    "from bs4 import BeautifulSoup as bs"
   ]
  },
  {
   "cell_type": "code",
   "execution_count": 4,
   "id": "b29a97a2-c6d0-4aac-bb62-faa0447f57a3",
   "metadata": {},
   "outputs": [
    {
     "name": "stdout",
     "output_type": "stream",
     "text": [
      "<html>\n",
      " <head>\n",
      "  <title>\n",
      "   HTML Example\n",
      "  </title>\n",
      " </head>\n",
      " <body>\n",
      "  <div align=\"middle\">\n",
      "   <h1>\n",
      "    HTML Webpage\n",
      "   </h1>\n",
      "   <p>\n",
      "    Link to more interesting example:\n",
      "    <a href=\"https://keithgalli.github.io/web-scraping/webpage.html\">\n",
      "     keithgalli.github.io/web-scraping/webpage.html\n",
      "    </a>\n",
      "   </p>\n",
      "  </div>\n",
      "  <h2>\n",
      "   A Header\n",
      "  </h2>\n",
      "  <p>\n",
      "   <i>\n",
      "    Some italicized text\n",
      "   </i>\n",
      "  </p>\n",
      "  <h2>\n",
      "   Another header\n",
      "  </h2>\n",
      "  <p id=\"paragraph-id\">\n",
      "   <b>\n",
      "    Some bold text\n",
      "   </b>\n",
      "  </p>\n",
      " </body>\n",
      "</html>\n",
      "\n"
     ]
    }
   ],
   "source": [
    "## load the webpage content\n",
    "r = requests.get(\"https://keithgalli.github.io/web-scraping/example.html\")\n",
    "\n",
    "## converting to a bs object\n",
    "soup = bs(r.content)\n",
    "\n",
    "#print out out html\n",
    "print(soup.prettify())"
   ]
  },
  {
   "cell_type": "code",
   "execution_count": 5,
   "id": "d1c550ec-832a-4813-b117-112f19507bbf",
   "metadata": {},
   "outputs": [],
   "source": [
    "first_header = soup.find_all(\"h2\") #we can also use find if we want somehing specific"
   ]
  },
  {
   "cell_type": "code",
   "execution_count": 6,
   "id": "c02dd5df-6e8a-4221-9731-52b2abdcff4d",
   "metadata": {},
   "outputs": [
    {
     "data": {
      "text/plain": [
       "[<h2>A Header</h2>, <h2>Another header</h2>]"
      ]
     },
     "execution_count": 6,
     "metadata": {},
     "output_type": "execute_result"
    }
   ],
   "source": [
    "first_header"
   ]
  },
  {
   "cell_type": "code",
   "execution_count": 7,
   "id": "885ebe4d-711c-4425-ac09-91188b7813d7",
   "metadata": {},
   "outputs": [],
   "source": [
    "first_header = soup.find_all([\"h1\",\"h2\"])"
   ]
  },
  {
   "cell_type": "code",
   "execution_count": 8,
   "id": "a9dc7157-1f3c-49d5-b378-5e8c66706afd",
   "metadata": {},
   "outputs": [
    {
     "data": {
      "text/plain": [
       "[<h1>HTML Webpage</h1>, <h2>A Header</h2>, <h2>Another header</h2>]"
      ]
     },
     "execution_count": 8,
     "metadata": {},
     "output_type": "execute_result"
    }
   ],
   "source": [
    "first_header"
   ]
  },
  {
   "cell_type": "code",
   "execution_count": 9,
   "id": "18b49fa2-15bf-44c6-ba9c-e09154859f60",
   "metadata": {},
   "outputs": [],
   "source": [
    "paragraph = soup.find_all(\"p\")"
   ]
  },
  {
   "cell_type": "code",
   "execution_count": 10,
   "id": "105ed874-303e-4ee5-b3a8-0080c4fc21d2",
   "metadata": {},
   "outputs": [
    {
     "data": {
      "text/plain": [
       "[<p>Link to more interesting example: <a href=\"https://keithgalli.github.io/web-scraping/webpage.html\">keithgalli.github.io/web-scraping/webpage.html</a></p>,\n",
       " <p><i>Some italicized text</i></p>,\n",
       " <p id=\"paragraph-id\"><b>Some bold text</b></p>]"
      ]
     },
     "execution_count": 10,
     "metadata": {},
     "output_type": "execute_result"
    }
   ],
   "source": [
    "paragraph"
   ]
  },
  {
   "cell_type": "code",
   "execution_count": 11,
   "id": "d77cc371-64df-4341-8fc3-6d19683d46c2",
   "metadata": {},
   "outputs": [],
   "source": [
    "body = soup.find(\"body\")\n",
    "div = body.find(\"div\")"
   ]
  },
  {
   "cell_type": "code",
   "execution_count": 12,
   "id": "3513b0c0-a126-4b88-8bdd-aacd6e45ae86",
   "metadata": {},
   "outputs": [
    {
     "data": {
      "text/plain": [
       "<div align=\"middle\">\n",
       "<h1>HTML Webpage</h1>\n",
       "<p>Link to more interesting example: <a href=\"https://keithgalli.github.io/web-scraping/webpage.html\">keithgalli.github.io/web-scraping/webpage.html</a></p>\n",
       "</div>"
      ]
     },
     "execution_count": 12,
     "metadata": {},
     "output_type": "execute_result"
    }
   ],
   "source": [
    "div"
   ]
  },
  {
   "cell_type": "code",
   "execution_count": 13,
   "id": "12bf5e27-86c5-498e-a618-3a47bb748ea6",
   "metadata": {},
   "outputs": [],
   "source": [
    "## search for speciifc strings\n",
    "# we used regex just to find a specific word\n",
    "import re\n",
    "string_search = soup.find_all(\"p\",string=re.compile(\"Some\"))"
   ]
  },
  {
   "cell_type": "code",
   "execution_count": 14,
   "id": "3a45db68-dee4-40d6-8f5a-a3fb6f103e31",
   "metadata": {},
   "outputs": [
    {
     "data": {
      "text/plain": [
       "[<p><i>Some italicized text</i></p>,\n",
       " <p id=\"paragraph-id\"><b>Some bold text</b></p>]"
      ]
     },
     "execution_count": 14,
     "metadata": {},
     "output_type": "execute_result"
    }
   ],
   "source": [
    "string_search"
   ]
  },
  {
   "cell_type": "markdown",
   "id": "2c36b9a0-b3de-4092-89ea-6bb9ab6ea545",
   "metadata": {},
   "source": [
    "## select method"
   ]
  },
  {
   "cell_type": "code",
   "execution_count": 16,
   "id": "0f0ebaa9-b439-479f-8eae-51270ebbd3bc",
   "metadata": {},
   "outputs": [
    {
     "name": "stdout",
     "output_type": "stream",
     "text": [
      "<body>\n",
      " <div align=\"middle\">\n",
      "  <h1>\n",
      "   HTML Webpage\n",
      "  </h1>\n",
      "  <p>\n",
      "   Link to more interesting example:\n",
      "   <a href=\"https://keithgalli.github.io/web-scraping/webpage.html\">\n",
      "    keithgalli.github.io/web-scraping/webpage.html\n",
      "   </a>\n",
      "  </p>\n",
      " </div>\n",
      " <h2>\n",
      "  A Header\n",
      " </h2>\n",
      " <p>\n",
      "  <i>\n",
      "   Some italicized text\n",
      "  </i>\n",
      " </p>\n",
      " <h2>\n",
      "  Another header\n",
      " </h2>\n",
      " <p id=\"paragraph-id\">\n",
      "  <b>\n",
      "   Some bold text\n",
      "  </b>\n",
      " </p>\n",
      "</body>\n",
      "\n"
     ]
    }
   ],
   "source": [
    "print(soup.body.prettify())"
   ]
  },
  {
   "cell_type": "code",
   "execution_count": 17,
   "id": "fa8978b0-7ef6-4f0e-a24f-cd0046dbf2f8",
   "metadata": {},
   "outputs": [
    {
     "data": {
      "text/plain": [
       "[<p>Link to more interesting example: <a href=\"https://keithgalli.github.io/web-scraping/webpage.html\">keithgalli.github.io/web-scraping/webpage.html</a></p>]"
      ]
     },
     "execution_count": 17,
     "metadata": {},
     "output_type": "execute_result"
    }
   ],
   "source": [
    "# here we want to select only pargarpah inside div\n",
    "content = soup.select(\"div p\")\n",
    "content "
   ]
  },
  {
   "cell_type": "code",
   "execution_count": 18,
   "id": "d11a89c2-0102-433f-99c3-2293faa49b64",
   "metadata": {},
   "outputs": [],
   "source": [
    "paragraphs = soup.select(\"h2 ~ p\") # ~ allows us to select atgss which are on the same level"
   ]
  },
  {
   "cell_type": "code",
   "execution_count": 19,
   "id": "068a5970-2fd3-453f-8e4f-3028a6d7c561",
   "metadata": {},
   "outputs": [
    {
     "data": {
      "text/plain": [
       "[<p><i>Some italicized text</i></p>,\n",
       " <p id=\"paragraph-id\"><b>Some bold text</b></p>]"
      ]
     },
     "execution_count": 19,
     "metadata": {},
     "output_type": "execute_result"
    }
   ],
   "source": [
    "paragraphs"
   ]
  },
  {
   "cell_type": "code",
   "execution_count": 20,
   "id": "7df00963-4296-4ec2-a547-9ed787beaeb4",
   "metadata": {},
   "outputs": [],
   "source": [
    "bold_text = soup.select(\"p#paragraph-id b\")"
   ]
  },
  {
   "cell_type": "code",
   "execution_count": 21,
   "id": "c186abca-c998-4fba-a557-66baeb20b101",
   "metadata": {},
   "outputs": [
    {
     "data": {
      "text/plain": [
       "[<b>Some bold text</b>]"
      ]
     },
     "execution_count": 21,
     "metadata": {},
     "output_type": "execute_result"
    }
   ],
   "source": [
    "bold_text"
   ]
  },
  {
   "cell_type": "code",
   "execution_count": 22,
   "id": "13d48124-2fb0-457d-99f0-2e28aa2e6a3e",
   "metadata": {},
   "outputs": [],
   "source": [
    "paragraphs = soup.select(\"body > p\") #only direce descendant are show  by using >"
   ]
  },
  {
   "cell_type": "code",
   "execution_count": 23,
   "id": "dd0c9179-b961-4969-95eb-3472f589a146",
   "metadata": {},
   "outputs": [
    {
     "data": {
      "text/plain": [
       "[<p><i>Some italicized text</i></p>,\n",
       " <p id=\"paragraph-id\"><b>Some bold text</b></p>]"
      ]
     },
     "execution_count": 23,
     "metadata": {},
     "output_type": "execute_result"
    }
   ],
   "source": [
    "paragraphs"
   ]
  },
  {
   "cell_type": "code",
   "execution_count": 24,
   "id": "ac645c9c-8318-4cbb-956b-4d11f255ea30",
   "metadata": {},
   "outputs": [],
   "source": [
    "## selecting elements with specific css property\n",
    "paragraphs = soup.select(\"[align= middle]\")"
   ]
  },
  {
   "cell_type": "code",
   "execution_count": 61,
   "id": "cfb2138b-4767-494a-968c-c45408ad60b3",
   "metadata": {},
   "outputs": [
    {
     "data": {
      "text/plain": [
       "<div align=\"middle\">\n",
       "<h1>HTML Webpage</h1>\n",
       "<p>Link to more interesting example: <a href=\"https://keithgalli.github.io/web-scraping/webpage.html\">keithgalli.github.io/web-scraping/webpage.html</a></p>\n",
       "</div>"
      ]
     },
     "execution_count": 61,
     "metadata": {},
     "output_type": "execute_result"
    }
   ],
   "source": [
    "paragraphs"
   ]
  },
  {
   "cell_type": "code",
   "execution_count": 26,
   "id": "93e5a42b-5eb5-4b78-8651-6b4195a6c42f",
   "metadata": {},
   "outputs": [
    {
     "data": {
      "text/plain": [
       "[<div align=\"middle\">\n",
       " <h1>HTML Webpage</h1>\n",
       " <p>Link to more interesting example: <a href=\"https://keithgalli.github.io/web-scraping/webpage.html\">keithgalli.github.io/web-scraping/webpage.html</a></p>\n",
       " </div>]"
      ]
     },
     "execution_count": 26,
     "metadata": {},
     "output_type": "execute_result"
    }
   ],
   "source": [
    "soup.select(\"div\") ## selcting the html property"
   ]
  },
  {
   "cell_type": "markdown",
   "id": "4e6c6e64-7a5b-4638-90e6-b8656e64ef22",
   "metadata": {},
   "source": [
    "## getting different properties of html"
   ]
  },
  {
   "cell_type": "code",
   "execution_count": 28,
   "id": "17ca937c-c93a-4a30-a0b7-17837f458ba1",
   "metadata": {},
   "outputs": [
    {
     "data": {
      "text/plain": [
       "'A Header'"
      ]
     },
     "execution_count": 28,
     "metadata": {},
     "output_type": "execute_result"
    }
   ],
   "source": [
    "header = soup.find(\"h2\")\n",
    "header.string"
   ]
  },
  {
   "cell_type": "markdown",
   "id": "b94ef094-e529-4eb0-bab3-21bcf0fa28eb",
   "metadata": {},
   "source": [
    "#### but if we use div.string we get none beacuse there many child tas which interefers with it the solution will be to use get_text"
   ]
  },
  {
   "cell_type": "code",
   "execution_count": 30,
   "id": "d185c812-a1e1-4a32-9f4d-dda40ae55370",
   "metadata": {},
   "outputs": [
    {
     "name": "stdout",
     "output_type": "stream",
     "text": [
      "<div align=\"middle\">\n",
      " <h1>\n",
      "  HTML Webpage\n",
      " </h1>\n",
      " <p>\n",
      "  Link to more interesting example:\n",
      "  <a href=\"https://keithgalli.github.io/web-scraping/webpage.html\">\n",
      "   keithgalli.github.io/web-scraping/webpage.html\n",
      "  </a>\n",
      " </p>\n",
      "</div>\n",
      "\n",
      "None\n"
     ]
    }
   ],
   "source": [
    "div = soup.find(\"div\")\n",
    "print(div.prettify())\n",
    "print(div.string)"
   ]
  },
  {
   "cell_type": "code",
   "execution_count": 31,
   "id": "de38dd6b-a4e0-4b3b-9dcb-41fcf7fb77c6",
   "metadata": {},
   "outputs": [
    {
     "name": "stdout",
     "output_type": "stream",
     "text": [
      "\n",
      "HTML Webpage\n",
      "Link to more interesting example: keithgalli.github.io/web-scraping/webpage.html\n",
      "\n"
     ]
    }
   ],
   "source": [
    "#using get_text\n",
    "print(div.get_text())"
   ]
  },
  {
   "cell_type": "code",
   "execution_count": 32,
   "id": "12dc916a-087a-4143-81fe-a2a480053a8c",
   "metadata": {},
   "outputs": [
    {
     "data": {
      "text/plain": [
       "'https://keithgalli.github.io/web-scraping/webpage.html'"
      ]
     },
     "execution_count": 32,
     "metadata": {},
     "output_type": "execute_result"
    }
   ],
   "source": [
    "link = soup.find(\"a\")\n",
    "link[\"href\"]"
   ]
  },
  {
   "cell_type": "code",
   "execution_count": 85,
   "id": "d2e6515d-f9ae-4f4b-9772-8d2e1b24003e",
   "metadata": {},
   "outputs": [],
   "source": [
    "paragraph = soup.select(\"p#paragraph-id\")"
   ]
  },
  {
   "cell_type": "code",
   "execution_count": 95,
   "id": "d92dee5f-0ad9-450e-ae74-15d615ad4167",
   "metadata": {},
   "outputs": [
    {
     "data": {
      "text/plain": [
       "[<p id=\"paragraph-id\"><b>Some bold text</b></p>]"
      ]
     },
     "execution_count": 95,
     "metadata": {},
     "output_type": "execute_result"
    }
   ],
   "source": [
    "paragraph"
   ]
  },
  {
   "cell_type": "code",
   "execution_count": 93,
   "id": "474144c0-b2b8-4eb2-a82e-d40032aeb5b9",
   "metadata": {},
   "outputs": [
    {
     "data": {
      "text/plain": [
       "'paragraph-id'"
      ]
     },
     "execution_count": 93,
     "metadata": {},
     "output_type": "execute_result"
    }
   ],
   "source": [
    "paragraph[0]['id']"
   ]
  },
  {
   "cell_type": "markdown",
   "id": "b9ba99b2-3f22-4e3c-88d0-3ef4885f71e5",
   "metadata": {},
   "source": [
    "#### Path Syntax"
   ]
  },
  {
   "cell_type": "code",
   "execution_count": 118,
   "id": "3d01010f-d3ab-46a6-be96-f327ecf20479",
   "metadata": {},
   "outputs": [
    {
     "data": {
      "text/plain": [
       "'keithgalli.github.io/web-scraping/webpage.html'"
      ]
     },
     "execution_count": 118,
     "metadata": {},
     "output_type": "execute_result"
    }
   ],
   "source": [
    "soup.body.div.p.a.string"
   ]
  },
  {
   "cell_type": "code",
   "execution_count": null,
   "id": "61f0014e-99c5-4b80-b6f9-c487c1101bb4",
   "metadata": {},
   "outputs": [],
   "source": [
    "## terminologies: Parent,Sibling,Child\n"
   ]
  },
  {
   "cell_type": "code",
   "execution_count": null,
   "id": "880d1af5-4242-4db3-95ae-ff1d10e6f7d6",
   "metadata": {},
   "outputs": [],
   "source": []
  }
 ],
 "metadata": {
  "kernelspec": {
   "display_name": "Python 3 (ipykernel)",
   "language": "python",
   "name": "python3"
  },
  "language_info": {
   "codemirror_mode": {
    "name": "ipython",
    "version": 3
   },
   "file_extension": ".py",
   "mimetype": "text/x-python",
   "name": "python",
   "nbconvert_exporter": "python",
   "pygments_lexer": "ipython3",
   "version": "3.11.7"
  }
 },
 "nbformat": 4,
 "nbformat_minor": 5
}
