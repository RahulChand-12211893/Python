{
 "cells": [
  {
   "cell_type": "markdown",
   "id": "0b9d3e1f-4377-4295-9081-c8235c13aacc",
   "metadata": {},
   "source": [
    "Below is a daily table for an active acount at Shopify (an online ecommerce, retail platform). The table is called store_account and the columns are:\n",
    "\n",
    "#### Column Name\tData Type\tDescription\n",
    "#### store_id\tinteger\ta unique Shopify store id\n",
    "#### date\tstring\tdate\n",
    "#### status\tstring\tPossible values are: [‘open’, 'closed’, ‘fraud’]\n",
    "#### revenue\tdouble\tAmount of spend in USD  \n",
    "\n",
    "    \n",
    "Here's some additional information about the table:\n",
    "    \n",
    "\n",
    "\n",
    "    \n",
    "The granularity of the table is store_id and day\n",
    "\n",
    "    \n",
    "Assume “closed” and “fraud” are permanent labels\n",
    "\n",
    "    \n",
    "Active = daily revenue > 0 \n",
    "\n",
    "    \n",
    "Accounts get labeled by Shopify as fraudulent and they no longer can sell product \n",
    "\n",
    "    \n",
    "Every day of the table has every store_id that has ever used Shopify\n",
    "\n",
    "    \n",
    "\n",
    "    \n",
    "    \n",
    "    \n",
    "    \n",
    "    \n",
    "Given the above, write code using Python (Pandas library) to show what percent of active stores were fraudulent by day. \n",
    "    \n",
    "\n",
    "    \n",
    "\n",
    "    \n",
    "Some clarifications:\n",
    "    \n",
    "\n",
    "\n",
    "        \n",
    " We want one value for each day in the month. \n",
    "\n",
    "        \n",
    "A store can be fraudulent and active on same day. E.g. they could generate revenue until 10AM, then be flagged as fradulent from 10AM onward."
   ]
  },
  {
   "cell_type": "raw",
   "id": "cc75ca68-202a-4dff-89ed-1cca015b151f",
   "metadata": {},
   "source": [
    "active_stores = store_account[store_account['revenue'] > 0]\n",
    "fraudulent_stores = active_stores[active_stores['status'] == 'fraud'].groupby('date')['store_id'].nunique()\n",
    "active_stores_per_day = active_stores.groupby('date')['store_id'].nunique()\n",
    "fraudulent_percentage_by_day = (fraudulent_stores / active_stores_per_day * 100).fillna(0)"
   ]
  },
  {
   "cell_type": "code",
   "execution_count": null,
   "id": "dd7aa931-9d8a-4b22-b71a-610797bef08e",
   "metadata": {},
   "outputs": [],
   "source": []
  }
 ],
 "metadata": {
  "kernelspec": {
   "display_name": "Python 3 (ipykernel)",
   "language": "python",
   "name": "python3"
  },
  "language_info": {
   "codemirror_mode": {
    "name": "ipython",
    "version": 3
   },
   "file_extension": ".py",
   "mimetype": "text/x-python",
   "name": "python",
   "nbconvert_exporter": "python",
   "pygments_lexer": "ipython3",
   "version": "3.11.7"
  }
 },
 "nbformat": 4,
 "nbformat_minor": 5
}
