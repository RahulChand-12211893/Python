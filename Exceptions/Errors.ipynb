{
 "cells": [
  {
   "cell_type": "markdown",
   "id": "90d55466-0a75-441e-aa27-cabe7ec1fbb6",
   "metadata": {},
   "source": [
    "#### 1.Syntax Errors\n",
    "#### 2.Runitme Errors ---> eg 10/0\n",
    "#### 3.Logical Errors ---> the code is not working according to the logic\n",
    "#### 4.Name Errors    ---> Print and print are two different\n",
    "#### 5.Index Error    ---> wrong indexation\n",
    "#### 6.Key Error      ---> dct{'a':1,'b':2,'c',3} if we tru dct[1] this will give key error as we don't have that key.\n",
    "#### 7.Attribute Error --> a = 10 now if we use a.upper()\n",
    "#### 8.Indentation Error\n",
    "#### 9.ModuleNotFound Error\n",
    "#### 10.Value Error\n",
    "#### 11.Type Error\n",
    "#### 12.FileNotFound Error"
   ]
  }
 ],
 "metadata": {
  "kernelspec": {
   "display_name": "Python 3 (ipykernel)",
   "language": "python",
   "name": "python3"
  },
  "language_info": {
   "codemirror_mode": {
    "name": "ipython",
    "version": 3
   },
   "file_extension": ".py",
   "mimetype": "text/x-python",
   "name": "python",
   "nbconvert_exporter": "python",
   "pygments_lexer": "ipython3",
   "version": "3.11.7"
  }
 },
 "nbformat": 4,
 "nbformat_minor": 5
}
