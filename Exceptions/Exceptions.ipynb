{
 "cells": [
  {
   "cell_type": "markdown",
   "id": "4e11e4fb-a583-477c-9f74-0f892a965a9f",
   "metadata": {},
   "source": [
    "## Case 1:"
   ]
  },
  {
   "cell_type": "code",
   "execution_count": 2,
   "id": "e9d607f9-c7c4-4120-9f56-0a2da139b536",
   "metadata": {},
   "outputs": [
    {
     "name": "stdin",
     "output_type": "stream",
     "text": [
      "enter your first number 23\n",
      "enter ypur second number sdf\n"
     ]
    },
    {
     "name": "stdout",
     "output_type": "stream",
     "text": [
      "erro occured\n"
     ]
    }
   ],
   "source": [
    "try:\n",
    "    num1 = int(input(\"enter your first number\"))\n",
    "    num2 = int(input(\"enter ypur second number\"))\n",
    "except:\n",
    "    print(\"erro occured\")"
   ]
  },
  {
   "cell_type": "code",
   "execution_count": 4,
   "id": "bc8dc635-4dec-438d-b0c8-3a16eca72a1b",
   "metadata": {},
   "outputs": [
    {
     "name": "stdin",
     "output_type": "stream",
     "text": [
      "enter your first number 32\n",
      "enter ypur second number dsf\n"
     ]
    },
    {
     "ename": "ValueError",
     "evalue": "invalid literal for int() with base 10: 'dsf'",
     "output_type": "error",
     "traceback": [
      "\u001b[1;31m---------------------------------------------------------------------------\u001b[0m",
      "\u001b[1;31mValueError\u001b[0m                                Traceback (most recent call last)",
      "Cell \u001b[1;32mIn[4], line 2\u001b[0m\n\u001b[0;32m      1\u001b[0m num1 \u001b[38;5;241m=\u001b[39m \u001b[38;5;28mint\u001b[39m(\u001b[38;5;28minput\u001b[39m(\u001b[38;5;124m\"\u001b[39m\u001b[38;5;124menter your first number\u001b[39m\u001b[38;5;124m\"\u001b[39m))\n\u001b[1;32m----> 2\u001b[0m num2 \u001b[38;5;241m=\u001b[39m \u001b[38;5;28;43mint\u001b[39;49m\u001b[43m(\u001b[49m\u001b[38;5;28;43minput\u001b[39;49m\u001b[43m(\u001b[49m\u001b[38;5;124;43m\"\u001b[39;49m\u001b[38;5;124;43menter ypur second number\u001b[39;49m\u001b[38;5;124;43m\"\u001b[39;49m\u001b[43m)\u001b[49m\u001b[43m)\u001b[49m\n",
      "\u001b[1;31mValueError\u001b[0m: invalid literal for int() with base 10: 'dsf'"
     ]
    }
   ],
   "source": [
    "num1 = int(input(\"enter your first number\"))\n",
    "num2 = int(input(\"enter ypur second number\")) # error thrown"
   ]
  },
  {
   "cell_type": "markdown",
   "id": "d0a733cc-8f91-493f-beb7-c63f372a0d2b",
   "metadata": {},
   "source": [
    "## Case 2:"
   ]
  },
  {
   "cell_type": "code",
   "execution_count": 11,
   "id": "759574a5-f48a-4abf-b527-b75bc261e0c8",
   "metadata": {},
   "outputs": [
    {
     "name": "stdin",
     "output_type": "stream",
     "text": [
      "enter your first number 34\n",
      "enter your second number df\n"
     ]
    },
    {
     "name": "stdout",
     "output_type": "stream",
     "text": [
      "enter an integer number\n"
     ]
    }
   ],
   "source": [
    "try:\n",
    "    div=0\n",
    "    num1 = int(input(\"enter your first number\"))\n",
    "    num2 = int(input(\"enter your second number\"))\n",
    "    div = num1 / num2\n",
    "    print(div)\n",
    "except ZeroDivisionError:\n",
    "    print(\"enter number other than 0\")\n",
    "except ValueError:\n",
    "    print(\"enter an integer number\")\n",
    "except:\n",
    "    print(\"An Unknown error occured\")"
   ]
  },
  {
   "cell_type": "markdown",
   "id": "6d6c8e29-cbf7-4420-8c59-245ecfce196a",
   "metadata": {},
   "source": [
    "## Case 3:"
   ]
  },
  {
   "cell_type": "code",
   "execution_count": 12,
   "id": "b07d97c7-d344-4308-97e0-c42370f1b53c",
   "metadata": {},
   "outputs": [
    {
     "name": "stdin",
     "output_type": "stream",
     "text": [
      "enter your first number m\n"
     ]
    },
    {
     "name": "stdout",
     "output_type": "stream",
     "text": [
      "enter an integer number\n"
     ]
    }
   ],
   "source": [
    "try:\n",
    "    div=0\n",
    "    num1 = int(input(\"enter your first number\"))\n",
    "    num2 = int(input(\"enter your second number\"))\n",
    "    div = num1 / num2\n",
    "    print(div)\n",
    "except ZeroDivisionError:\n",
    "    print(\"enter number other than 0\")\n",
    "except ValueError:\n",
    "    print(\"enter an integer number\")\n",
    "except:\n",
    "    print(\"An Unknown error occured\")"
   ]
  },
  {
   "cell_type": "markdown",
   "id": "e5e493be-66f5-4b0b-9bd0-f323dbc019d3",
   "metadata": {},
   "source": [
    "## Case 4:"
   ]
  },
  {
   "cell_type": "code",
   "execution_count": 17,
   "id": "4c0a5d5f-a22d-442a-8955-c88e4367c449",
   "metadata": {},
   "outputs": [
    {
     "name": "stdin",
     "output_type": "stream",
     "text": [
      "enter your first number 33\n",
      "enter your second number 343\n"
     ]
    },
    {
     "name": "stdout",
     "output_type": "stream",
     "text": [
      "0.09620991253644315\n",
      "Everything is fine!\n",
      "Program ends\n"
     ]
    }
   ],
   "source": [
    "try:\n",
    "    div=0\n",
    "    num1 = int(input(\"enter your first number\"))\n",
    "    num2 = int(input(\"enter your second number\"))\n",
    "    div = num1 / num2\n",
    "    print(div)\n",
    "except ZeroDivisionError as zde:\n",
    "    print(zde)\n",
    "except Exception as e:\n",
    "    print(e)\n",
    "except:\n",
    "    print(\"An Unknown error occured\")\n",
    "else:\n",
    "    print(\"Everything is fine!\")\n",
    "finally:\n",
    "    print(\"Program ends\")"
   ]
  },
  {
   "cell_type": "code",
   "execution_count": 20,
   "id": "d4546406-5630-4f4b-bd28-455b3fd58090",
   "metadata": {},
   "outputs": [
    {
     "ename": "AssertionError",
     "evalue": "x should be lesser than 0",
     "output_type": "error",
     "traceback": [
      "\u001b[1;31m---------------------------------------------------------------------------\u001b[0m",
      "\u001b[1;31mAssertionError\u001b[0m                            Traceback (most recent call last)",
      "Cell \u001b[1;32mIn[20], line 2\u001b[0m\n\u001b[0;32m      1\u001b[0m x \u001b[38;5;241m=\u001b[39m \u001b[38;5;241m5\u001b[39m\n\u001b[1;32m----> 2\u001b[0m \u001b[38;5;28;01massert\u001b[39;00m x \u001b[38;5;241m<\u001b[39m \u001b[38;5;241m0\u001b[39m, \u001b[38;5;124m\"\u001b[39m\u001b[38;5;124mx should be lesser than 0\u001b[39m\u001b[38;5;124m\"\u001b[39m\n\u001b[0;32m      4\u001b[0m name \u001b[38;5;241m=\u001b[39m \u001b[38;5;124m\"\u001b[39m\u001b[38;5;124mJohn\u001b[39m\u001b[38;5;124m\"\u001b[39m\n\u001b[0;32m      5\u001b[0m \u001b[38;5;28;01massert\u001b[39;00m \u001b[38;5;28mlen\u001b[39m(name) \u001b[38;5;241m>\u001b[39m\u001b[38;5;241m=\u001b[39m \u001b[38;5;241m3\u001b[39m, \u001b[38;5;124m\"\u001b[39m\u001b[38;5;124mName should be at least 3 characters long\u001b[39m\u001b[38;5;124m\"\u001b[39m\n",
      "\u001b[1;31mAssertionError\u001b[0m: x should be lesser than 0"
     ]
    }
   ],
   "source": [
    "x = 5\n",
    "assert x < 0, \"x should be lesser than 0\"\n",
    "\n",
    "name = \"John\"\n",
    "assert len(name) >= 3, \"Name should be at least 3 characters long\"\n"
   ]
  },
  {
   "cell_type": "code",
   "execution_count": null,
   "id": "5277bfb6-4338-40f4-8e33-c322923f3d8b",
   "metadata": {},
   "outputs": [],
   "source": []
  }
 ],
 "metadata": {
  "kernelspec": {
   "display_name": "Python 3 (ipykernel)",
   "language": "python",
   "name": "python3"
  },
  "language_info": {
   "codemirror_mode": {
    "name": "ipython",
    "version": 3
   },
   "file_extension": ".py",
   "mimetype": "text/x-python",
   "name": "python",
   "nbconvert_exporter": "python",
   "pygments_lexer": "ipython3",
   "version": "3.11.7"
  }
 },
 "nbformat": 4,
 "nbformat_minor": 5
}
