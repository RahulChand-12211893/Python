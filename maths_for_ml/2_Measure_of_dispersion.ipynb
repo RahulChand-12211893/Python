{
 "cells": [
  {
   "cell_type": "code",
   "execution_count": 1,
   "id": "02313a72-dfe4-4077-89fd-204f612af25a",
   "metadata": {},
   "outputs": [],
   "source": [
    "ages_list = [23,43,54,65,74,32,59,60,80,19]"
   ]
  },
  {
   "cell_type": "code",
   "execution_count": 2,
   "id": "2ca494d4-c337-42ef-b20b-00d54ee1c9c4",
   "metadata": {},
   "outputs": [],
   "source": [
    "import numpy as np"
   ]
  },
  {
   "cell_type": "code",
   "execution_count": 6,
   "id": "17c24324-917f-4168-a23e-c99e40ed8e34",
   "metadata": {},
   "outputs": [
    {
     "data": {
      "text/plain": [
       "50.9"
      ]
     },
     "execution_count": 6,
     "metadata": {},
     "output_type": "execute_result"
    }
   ],
   "source": [
    "# mean of a list\n",
    "np.mean(ages_list)"
   ]
  },
  {
   "cell_type": "code",
   "execution_count": 5,
   "id": "d14ccc5a-2397-4e66-a50b-1b948bf18761",
   "metadata": {},
   "outputs": [
    {
     "data": {
      "text/plain": [
       "395.28999999999996"
      ]
     },
     "execution_count": 5,
     "metadata": {},
     "output_type": "execute_result"
    }
   ],
   "source": [
    "# variance of a list\n",
    "np.var(ages_list)"
   ]
  },
  {
   "cell_type": "code",
   "execution_count": 7,
   "id": "cafeba83-6ca8-4250-889c-f357628b3153",
   "metadata": {},
   "outputs": [
    {
     "data": {
      "text/plain": [
       "19.88190131752997"
      ]
     },
     "execution_count": 7,
     "metadata": {},
     "output_type": "execute_result"
    }
   ],
   "source": [
    "np.std(ages_list)"
   ]
  },
  {
   "cell_type": "code",
   "execution_count": 9,
   "id": "99d6b8e1-0d21-4d7e-a960-967da4495312",
   "metadata": {},
   "outputs": [],
   "source": [
    "import seaborn as sns"
   ]
  },
  {
   "cell_type": "code",
   "execution_count": 11,
   "id": "804b4ecb-9925-44b3-be22-6b69fda49a6a",
   "metadata": {},
   "outputs": [
    {
     "data": {
      "text/plain": [
       "<Axes: ylabel='Count'>"
      ]
     },
     "execution_count": 11,
     "metadata": {},
     "output_type": "execute_result"
    },
    {
     "data": {
      "image/png": "[encoded data removed]",
      "text/plain": [
       "<Figure size 640x480 with 1 Axes>"
      ]
     },
     "metadata": {},
     "output_type": "display_data"
    }
   ],
   "source": [
    "sns.histplot(ages_list,kde=True)"
   ]
  },
  {
   "cell_type": "code",
   "execution_count": 12,
   "id": "8eea6c06-e9b4-460b-8864-b35f553b1707",
   "metadata": {},
   "outputs": [],
   "source": [
    "import pandas as pd"
   ]
  },
  {
   "cell_type": "code",
   "execution_count": 13,
   "id": "80933a2d-8e1a-4627-be64-a1956739024b",
   "metadata": {},
   "outputs": [],
   "source": [
    "data = [[10,12,13],[34,23,45],[32,24,22]]"
   ]
  },
  {
   "cell_type": "code",
   "execution_count": 16,
   "id": "c789813b-bf4d-4489-a3b5-3a1e0704d3d1",
   "metadata": {},
   "outputs": [
    {
     "data": {
      "text/html": [
       "<div>\n",
       "<style scoped>\n",
       "    .dataframe tbody tr th:only-of-type {\n",
       "        vertical-align: middle;\n",
       "    }\n",
       "\n",
       "    .dataframe tbody tr th {\n",
       "        vertical-align: top;\n",
       "    }\n",
       "\n",
       "    .dataframe thead th {\n",
       "        text-align: right;\n",
       "    }\n",
       "</style>\n",
       "<table border=\"1\" class=\"dataframe\">\n",
       "  <thead>\n",
       "    <tr style=\"text-align: right;\">\n",
       "      <th></th>\n",
       "      <th>A</th>\n",
       "      <th>B</th>\n",
       "      <th>C</th>\n",
       "    </tr>\n",
       "  </thead>\n",
       "  <tbody>\n",
       "    <tr>\n",
       "      <th>0</th>\n",
       "      <td>10</td>\n",
       "      <td>12</td>\n",
       "      <td>13</td>\n",
       "    </tr>\n",
       "    <tr>\n",
       "      <th>1</th>\n",
       "      <td>34</td>\n",
       "      <td>23</td>\n",
       "      <td>45</td>\n",
       "    </tr>\n",
       "    <tr>\n",
       "      <th>2</th>\n",
       "      <td>32</td>\n",
       "      <td>24</td>\n",
       "      <td>22</td>\n",
       "    </tr>\n",
       "  </tbody>\n",
       "</table>\n",
       "</div>"
      ],
      "text/plain": [
       "    A   B   C\n",
       "0  10  12  13\n",
       "1  34  23  45\n",
       "2  32  24  22"
      ]
     },
     "execution_count": 16,
     "metadata": {},
     "output_type": "execute_result"
    }
   ],
   "source": [
    "df = pd.DataFrame(data,columns=[\"A\",\"B\",\"C\"])\n",
    "df"
   ]
  },
  {
   "cell_type": "markdown",
   "id": "92776b37-5cda-4c73-901a-076697176bc8",
   "metadata": {},
   "source": [
    "### Pandas calculate sample standard deviation whereas numpy calculates population standard deviation"
   ]
  },
  {
   "cell_type": "code",
   "execution_count": 19,
   "id": "8b3dad1a-afe8-4377-b2e7-ecacb95bf4d2",
   "metadata": {},
   "outputs": [
    {
     "data": {
      "text/plain": [
       "A    177.333333\n",
       "B     44.333333\n",
       "C    272.333333\n",
       "dtype: float64"
      ]
     },
     "execution_count": 19,
     "metadata": {},
     "output_type": "execute_result"
    }
   ],
   "source": [
    "df.var() #column wise standard deviation"
   ]
  },
  {
   "cell_type": "code",
   "execution_count": 20,
   "id": "c2f6dcf2-54f3-433d-ab39-c86ae07271a4",
   "metadata": {},
   "outputs": [
    {
     "data": {
      "text/plain": [
       "0      2.333333\n",
       "1    121.000000\n",
       "2     28.000000\n",
       "dtype: float64"
      ]
     },
     "execution_count": 20,
     "metadata": {},
     "output_type": "execute_result"
    }
   ],
   "source": [
    "df.var(axis=1) # row wise standard deviation"
   ]
  },
  {
   "cell_type": "code",
   "execution_count": 22,
   "id": "e574ee9e-3092-498a-ba1c-ee77458d2e96",
   "metadata": {},
   "outputs": [
    {
     "data": {
      "text/plain": [
       "array([ 1.55555556, 80.66666667, 18.66666667])"
      ]
     },
     "execution_count": 22,
     "metadata": {},
     "output_type": "execute_result"
    }
   ],
   "source": [
    "np.var(data,axis=1)"
   ]
  },
  {
   "cell_type": "code",
   "execution_count": null,
   "id": "59a106e9-7d56-4028-9198-fe2da06291c9",
   "metadata": {},
   "outputs": [],
   "source": []
  }
 ],
 "metadata": {
  "kernelspec": {
   "display_name": "Python 3 (ipykernel)",
   "language": "python",
   "name": "python3"
  },
  "language_info": {
   "codemirror_mode": {
    "name": "ipython",
    "version": 3
   },
   "file_extension": ".py",
   "mimetype": "text/x-python",
   "name": "python",
   "nbconvert_exporter": "python",
   "pygments_lexer": "ipython3",
   "version": "3.12.4"
  }
 },
 "nbformat": 4,
 "nbformat_minor": 5
}
