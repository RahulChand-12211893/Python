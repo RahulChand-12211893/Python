{
 "cells": [
  {
   "cell_type": "markdown",
   "id": "76cf8e4e",
   "metadata": {},
   "source": [
    "## -----List------\n",
    "#### 1. is a collection of heterogenous data type\n",
    "#### 2. it also supports listing and indexing\n",
    "#### 3. it is mutable whereas string are immutable"
   ]
  },
  {
   "cell_type": "code",
   "execution_count": 2,
   "id": "950da6bb",
   "metadata": {},
   "outputs": [],
   "source": [
    "l = [1,345,45,\"swayam\",True,5+7j,345.456]"
   ]
  },
  {
   "cell_type": "code",
   "execution_count": 3,
   "id": "1ae840f1",
   "metadata": {},
   "outputs": [
    {
     "data": {
      "text/plain": [
       "list"
      ]
     },
     "execution_count": 3,
     "metadata": {},
     "output_type": "execute_result"
    }
   ],
   "source": [
    "type(l)"
   ]
  },
  {
   "cell_type": "code",
   "execution_count": 4,
   "id": "a29b60c5",
   "metadata": {},
   "outputs": [
    {
     "data": {
      "text/plain": [
       "345"
      ]
     },
     "execution_count": 4,
     "metadata": {},
     "output_type": "execute_result"
    }
   ],
   "source": [
    "l[1]"
   ]
  },
  {
   "cell_type": "code",
   "execution_count": 5,
   "id": "5f566490",
   "metadata": {},
   "outputs": [
    {
     "data": {
      "text/plain": [
       "345.456"
      ]
     },
     "execution_count": 5,
     "metadata": {},
     "output_type": "execute_result"
    }
   ],
   "source": [
    "l[-1]"
   ]
  },
  {
   "cell_type": "code",
   "execution_count": 6,
   "id": "37f4c94f",
   "metadata": {},
   "outputs": [
    {
     "data": {
      "text/plain": [
       "7"
      ]
     },
     "execution_count": 6,
     "metadata": {},
     "output_type": "execute_result"
    }
   ],
   "source": [
    "len(l)"
   ]
  },
  {
   "cell_type": "code",
   "execution_count": 7,
   "id": "d8656e88",
   "metadata": {},
   "outputs": [
    {
     "data": {
      "text/plain": [
       "[345, 45]"
      ]
     },
     "execution_count": 7,
     "metadata": {},
     "output_type": "execute_result"
    }
   ],
   "source": [
    "l[1:3] ## it also show results till upperbound-1"
   ]
  },
  {
   "cell_type": "code",
   "execution_count": 8,
   "id": "4a8c972c",
   "metadata": {},
   "outputs": [
    {
     "data": {
      "text/plain": [
       "[345.456, (5+7j), True, 'swayam', 45, 345, 1]"
      ]
     },
     "execution_count": 8,
     "metadata": {},
     "output_type": "execute_result"
    }
   ],
   "source": [
    "l[::-1]"
   ]
  },
  {
   "cell_type": "code",
   "execution_count": 9,
   "id": "aadf4453",
   "metadata": {},
   "outputs": [],
   "source": [
    "s = \"swayam\""
   ]
  },
  {
   "cell_type": "code",
   "execution_count": 10,
   "id": "f23d0201",
   "metadata": {},
   "outputs": [
    {
     "data": {
      "text/plain": [
       "['s', 'w', 'a', 'y', 'a', 'm']"
      ]
     },
     "execution_count": 10,
     "metadata": {},
     "output_type": "execute_result"
    }
   ],
   "source": [
    "list(s)"
   ]
  },
  {
   "cell_type": "code",
   "execution_count": 11,
   "id": "e47b2851",
   "metadata": {},
   "outputs": [
    {
     "data": {
      "text/plain": [
       "['s', 'w', 'a', 'y', 'a', 'm', 1, 345, 45, 'swayam', True, (5+7j), 345.456]"
      ]
     },
     "execution_count": 11,
     "metadata": {},
     "output_type": "execute_result"
    }
   ],
   "source": [
    "list(s)+l"
   ]
  },
  {
   "cell_type": "code",
   "execution_count": 12,
   "id": "f26a6322",
   "metadata": {},
   "outputs": [
    {
     "data": {
      "text/plain": [
       "[1, 345, 45, 'swayam', True, (5+7j), 345.456]"
      ]
     },
     "execution_count": 12,
     "metadata": {},
     "output_type": "execute_result"
    }
   ],
   "source": [
    "l"
   ]
  },
  {
   "cell_type": "code",
   "execution_count": 13,
   "id": "84cbe6b5",
   "metadata": {},
   "outputs": [
    {
     "data": {
      "text/plain": [
       "'sw'"
      ]
     },
     "execution_count": 13,
     "metadata": {},
     "output_type": "execute_result"
    }
   ],
   "source": [
    "l[3][0:2]"
   ]
  },
  {
   "cell_type": "code",
   "execution_count": 14,
   "id": "7c9b058c",
   "metadata": {},
   "outputs": [
    {
     "ename": "TypeError",
     "evalue": "'bool' object is not subscriptable",
     "output_type": "error",
     "traceback": [
      "\u001b[1;31m---------------------------------------------------------------------------\u001b[0m",
      "\u001b[1;31mTypeError\u001b[0m                                 Traceback (most recent call last)",
      "Cell \u001b[1;32mIn[14], line 1\u001b[0m\n\u001b[1;32m----> 1\u001b[0m l[\u001b[38;5;241m4\u001b[39m][\u001b[38;5;241m0\u001b[39m]\n",
      "\u001b[1;31mTypeError\u001b[0m: 'bool' object is not subscriptable"
     ]
    }
   ],
   "source": [
    "l[4][0] ##not possible because it is an boolean object"
   ]
  },
  {
   "cell_type": "code",
   "execution_count": 15,
   "id": "dcb1141a",
   "metadata": {},
   "outputs": [
    {
     "data": {
      "text/plain": [
       "'T'"
      ]
     },
     "execution_count": 15,
     "metadata": {},
     "output_type": "execute_result"
    }
   ],
   "source": [
    "str(l[4])[0]"
   ]
  },
  {
   "cell_type": "markdown",
   "id": "777d4dc7",
   "metadata": {},
   "source": [
    "##### we can only concatenate a list ot a list"
   ]
  },
  {
   "cell_type": "code",
   "execution_count": 16,
   "id": "91966de2",
   "metadata": {},
   "outputs": [],
   "source": [
    "l1 = [3,4,5]"
   ]
  },
  {
   "cell_type": "code",
   "execution_count": 17,
   "id": "c19175f0",
   "metadata": {},
   "outputs": [
    {
     "data": {
      "text/plain": [
       "[1, 345, 45, 'swayam', True, (5+7j), 345.456, 3, 4, 5]"
      ]
     },
     "execution_count": 17,
     "metadata": {},
     "output_type": "execute_result"
    }
   ],
   "source": [
    "l + l1"
   ]
  },
  {
   "cell_type": "code",
   "execution_count": 18,
   "id": "2a3a57b6",
   "metadata": {},
   "outputs": [
    {
     "data": {
      "text/plain": [
       "[3, 4, 5, 3, 4, 5, 3, 4, 5]"
      ]
     },
     "execution_count": 18,
     "metadata": {},
     "output_type": "execute_result"
    }
   ],
   "source": [
    "l1 * 3"
   ]
  },
  {
   "cell_type": "code",
   "execution_count": 19,
   "id": "90685497",
   "metadata": {},
   "outputs": [],
   "source": [
    "l.append(5)"
   ]
  },
  {
   "cell_type": "code",
   "execution_count": 20,
   "id": "8bbaac7e",
   "metadata": {},
   "outputs": [
    {
     "data": {
      "text/plain": [
       "[1, 345, 45, 'swayam', True, (5+7j), 345.456, 5]"
      ]
     },
     "execution_count": 20,
     "metadata": {},
     "output_type": "execute_result"
    }
   ],
   "source": [
    "l"
   ]
  },
  {
   "cell_type": "code",
   "execution_count": 21,
   "id": "acb8e61f",
   "metadata": {},
   "outputs": [
    {
     "data": {
      "text/plain": [
       "5"
      ]
     },
     "execution_count": 21,
     "metadata": {},
     "output_type": "execute_result"
    }
   ],
   "source": [
    "l.pop()"
   ]
  },
  {
   "cell_type": "code",
   "execution_count": 22,
   "id": "9c5d844e",
   "metadata": {},
   "outputs": [
    {
     "data": {
      "text/plain": [
       "1"
      ]
     },
     "execution_count": 22,
     "metadata": {},
     "output_type": "execute_result"
    }
   ],
   "source": [
    "l.count(345)"
   ]
  },
  {
   "cell_type": "code",
   "execution_count": 23,
   "id": "46d13d7d",
   "metadata": {},
   "outputs": [],
   "source": [
    "l.reverse()"
   ]
  },
  {
   "cell_type": "code",
   "execution_count": 24,
   "id": "190a3cb8",
   "metadata": {},
   "outputs": [
    {
     "data": {
      "text/plain": [
       "[345.456, (5+7j), True, 'swayam', 45, 345, 1]"
      ]
     },
     "execution_count": 24,
     "metadata": {},
     "output_type": "execute_result"
    }
   ],
   "source": [
    "l"
   ]
  },
  {
   "cell_type": "code",
   "execution_count": 25,
   "id": "2dfd7937",
   "metadata": {},
   "outputs": [],
   "source": [
    "l.append(\"swarup\")"
   ]
  },
  {
   "cell_type": "code",
   "execution_count": 27,
   "id": "8db81cfd",
   "metadata": {},
   "outputs": [],
   "source": [
    "l.append(l1)"
   ]
  },
  {
   "cell_type": "code",
   "execution_count": 28,
   "id": "b2f5f4c5",
   "metadata": {},
   "outputs": [
    {
     "data": {
      "text/plain": [
       "[345.456, (5+7j), True, 'swayam', 45, 345, 1, 'swarup', [3, 4, 5]]"
      ]
     },
     "execution_count": 28,
     "metadata": {},
     "output_type": "execute_result"
    }
   ],
   "source": [
    "l"
   ]
  },
  {
   "cell_type": "markdown",
   "id": "a973e565",
   "metadata": {},
   "source": [
    "#### we can store a list inside a list"
   ]
  },
  {
   "cell_type": "code",
   "execution_count": 30,
   "id": "9af91826",
   "metadata": {},
   "outputs": [
    {
     "data": {
      "text/plain": [
       "3"
      ]
     },
     "execution_count": 30,
     "metadata": {},
     "output_type": "execute_result"
    }
   ],
   "source": [
    "l[-1][0] ## removing a value from list inside a list"
   ]
  },
  {
   "cell_type": "code",
   "execution_count": 35,
   "id": "cf2f8a63",
   "metadata": {},
   "outputs": [
    {
     "ename": "TypeError",
     "evalue": "'int' object is not iterable",
     "output_type": "error",
     "traceback": [
      "\u001b[1;31m---------------------------------------------------------------------------\u001b[0m",
      "\u001b[1;31mTypeError\u001b[0m                                 Traceback (most recent call last)",
      "Cell \u001b[1;32mIn[35], line 1\u001b[0m\n\u001b[1;32m----> 1\u001b[0m l\u001b[38;5;241m.\u001b[39mextend(\u001b[38;5;241m67\u001b[39m)\n",
      "\u001b[1;31mTypeError\u001b[0m: 'int' object is not iterable"
     ]
    }
   ],
   "source": [
    "l.extend(67)  ## the argument should be iterable inside an extend method\n",
    "## int is not iterable"
   ]
  },
  {
   "cell_type": "code",
   "execution_count": 36,
   "id": "e31b87ce",
   "metadata": {},
   "outputs": [],
   "source": [
    "l.extend(\"barik\")"
   ]
  },
  {
   "cell_type": "code",
   "execution_count": 37,
   "id": "dbf76b55",
   "metadata": {},
   "outputs": [
    {
     "data": {
      "text/plain": [
       "[345.456,\n",
       " (5+7j),\n",
       " True,\n",
       " 'swayam',\n",
       " 45,\n",
       " 345,\n",
       " 1,\n",
       " 'swarup',\n",
       " [3, 4, 5],\n",
       " 'b',\n",
       " 'a',\n",
       " 'r',\n",
       " 'i',\n",
       " 'k',\n",
       " 'b',\n",
       " 'a',\n",
       " 'r',\n",
       " 'i',\n",
       " 'k']"
      ]
     },
     "execution_count": 37,
     "metadata": {},
     "output_type": "execute_result"
    }
   ],
   "source": [
    "l"
   ]
  },
  {
   "cell_type": "code",
   "execution_count": 38,
   "id": "99b98a54",
   "metadata": {},
   "outputs": [],
   "source": [
    "l.extend([345,689,69])"
   ]
  },
  {
   "cell_type": "code",
   "execution_count": 39,
   "id": "cd1984ae",
   "metadata": {},
   "outputs": [
    {
     "data": {
      "text/plain": [
       "[345.456,\n",
       " (5+7j),\n",
       " True,\n",
       " 'swayam',\n",
       " 45,\n",
       " 345,\n",
       " 1,\n",
       " 'swarup',\n",
       " [3, 4, 5],\n",
       " 'b',\n",
       " 'a',\n",
       " 'r',\n",
       " 'i',\n",
       " 'k',\n",
       " 'b',\n",
       " 'a',\n",
       " 'r',\n",
       " 'i',\n",
       " 'k',\n",
       " 345,\n",
       " 689,\n",
       " 69]"
      ]
     },
     "execution_count": 39,
     "metadata": {},
     "output_type": "execute_result"
    }
   ],
   "source": [
    "l"
   ]
  },
  {
   "cell_type": "code",
   "execution_count": 40,
   "id": "edad67d5",
   "metadata": {},
   "outputs": [
    {
     "data": {
      "text/plain": [
       "[3, 4, 5]"
      ]
     },
     "execution_count": 40,
     "metadata": {},
     "output_type": "execute_result"
    }
   ],
   "source": [
    "l1"
   ]
  },
  {
   "cell_type": "code",
   "execution_count": 43,
   "id": "32ac6272",
   "metadata": {},
   "outputs": [],
   "source": [
    "l1.insert(1,\"great\") # it helps to insert data at any index"
   ]
  },
  {
   "cell_type": "code",
   "execution_count": 44,
   "id": "76b435f8",
   "metadata": {},
   "outputs": [
    {
     "data": {
      "text/plain": [
       "[3, 'great', 'great', 4, 5]"
      ]
     },
     "execution_count": 44,
     "metadata": {},
     "output_type": "execute_result"
    }
   ],
   "source": [
    "l1"
   ]
  },
  {
   "cell_type": "code",
   "execution_count": 45,
   "id": "64a70845",
   "metadata": {},
   "outputs": [],
   "source": [
    "l1.remove(\"great\")"
   ]
  },
  {
   "cell_type": "code",
   "execution_count": 46,
   "id": "5862f5b5",
   "metadata": {},
   "outputs": [
    {
     "data": {
      "text/plain": [
       "[3, 'great', 4, 5]"
      ]
     },
     "execution_count": 46,
     "metadata": {},
     "output_type": "execute_result"
    }
   ],
   "source": [
    "l1"
   ]
  },
  {
   "cell_type": "code",
   "execution_count": 47,
   "id": "6ae9ea58",
   "metadata": {},
   "outputs": [],
   "source": [
    "l1.insert(3,\"great\")"
   ]
  },
  {
   "cell_type": "code",
   "execution_count": 48,
   "id": "9a746301",
   "metadata": {},
   "outputs": [
    {
     "data": {
      "text/plain": [
       "[3, 'great', 4, 'great', 5]"
      ]
     },
     "execution_count": 48,
     "metadata": {},
     "output_type": "execute_result"
    }
   ],
   "source": [
    "l1"
   ]
  },
  {
   "cell_type": "code",
   "execution_count": 49,
   "id": "17aed40f",
   "metadata": {},
   "outputs": [],
   "source": [
    "l1.remove(\"great\") # remobves the first occurence of the value"
   ]
  },
  {
   "cell_type": "code",
   "execution_count": 50,
   "id": "ef4127a2",
   "metadata": {
    "scrolled": true
   },
   "outputs": [
    {
     "data": {
      "text/plain": [
       "[3, 4, 'great', 5]"
      ]
     },
     "execution_count": 50,
     "metadata": {},
     "output_type": "execute_result"
    }
   ],
   "source": [
    "l1"
   ]
  },
  {
   "cell_type": "code",
   "execution_count": 53,
   "id": "d4ba16e0",
   "metadata": {},
   "outputs": [],
   "source": [
    "l1.insert(-1,45) # the data has been entered into the -1 position but the isue \n",
    "## the other values have been shifted"
   ]
  },
  {
   "cell_type": "code",
   "execution_count": 55,
   "id": "8c880311",
   "metadata": {},
   "outputs": [],
   "source": [
    "l1.remove(45)"
   ]
  },
  {
   "cell_type": "code",
   "execution_count": 56,
   "id": "12047087",
   "metadata": {},
   "outputs": [
    {
     "data": {
      "text/plain": [
       "[3, 4, 'great', 45, 5]"
      ]
     },
     "execution_count": 56,
     "metadata": {},
     "output_type": "execute_result"
    }
   ],
   "source": [
    "l1"
   ]
  },
  {
   "cell_type": "code",
   "execution_count": 59,
   "id": "c12b2832",
   "metadata": {},
   "outputs": [],
   "source": [
    "l1.insert(2,45)"
   ]
  },
  {
   "cell_type": "code",
   "execution_count": 60,
   "id": "e7efea4a",
   "metadata": {},
   "outputs": [],
   "source": [
    "l1.insert(2,\"great\")"
   ]
  },
  {
   "cell_type": "code",
   "execution_count": 61,
   "id": "c0fa435f",
   "metadata": {},
   "outputs": [
    {
     "data": {
      "text/plain": [
       "'great'"
      ]
     },
     "execution_count": 61,
     "metadata": {},
     "output_type": "execute_result"
    }
   ],
   "source": [
    "l1.pop(2) #index position is removed"
   ]
  },
  {
   "cell_type": "code",
   "execution_count": 63,
   "id": "15f8f301",
   "metadata": {},
   "outputs": [
    {
     "ename": "ValueError",
     "evalue": "list.remove(x): x not in list",
     "output_type": "error",
     "traceback": [
      "\u001b[1;31m---------------------------------------------------------------------------\u001b[0m",
      "\u001b[1;31mValueError\u001b[0m                                Traceback (most recent call last)",
      "Cell \u001b[1;32mIn[63], line 1\u001b[0m\n\u001b[1;32m----> 1\u001b[0m l1\u001b[38;5;241m.\u001b[39mremove(\u001b[38;5;124m\"\u001b[39m\u001b[38;5;124mbr\u001b[39m\u001b[38;5;124m\"\u001b[39m)\n",
      "\u001b[1;31mValueError\u001b[0m: list.remove(x): x not in list"
     ]
    }
   ],
   "source": [
    "l1.remove(\"br\") #if there is nothing then ValueError"
   ]
  },
  {
   "cell_type": "code",
   "execution_count": 64,
   "id": "ffe845a8",
   "metadata": {},
   "outputs": [
    {
     "data": {
      "text/plain": [
       "[3, 4, 45, 5]"
      ]
     },
     "execution_count": 64,
     "metadata": {},
     "output_type": "execute_result"
    }
   ],
   "source": [
    "l1"
   ]
  },
  {
   "cell_type": "code",
   "execution_count": 65,
   "id": "5140483b",
   "metadata": {},
   "outputs": [
    {
     "data": {
      "text/plain": [
       "[345.456,\n",
       " (5+7j),\n",
       " True,\n",
       " 'swayam',\n",
       " 45,\n",
       " 345,\n",
       " 1,\n",
       " 'swarup',\n",
       " [3, 4, 45, 5],\n",
       " 'b',\n",
       " 'a',\n",
       " 'r',\n",
       " 'i',\n",
       " 'k',\n",
       " 'b',\n",
       " 'a',\n",
       " 'r',\n",
       " 'i',\n",
       " 'k',\n",
       " 345,\n",
       " 689,\n",
       " 69]"
      ]
     },
     "execution_count": 65,
     "metadata": {},
     "output_type": "execute_result"
    }
   ],
   "source": [
    "l"
   ]
  },
  {
   "cell_type": "code",
   "execution_count": 69,
   "id": "5a692632",
   "metadata": {},
   "outputs": [],
   "source": [
    "l[8].remove(3)"
   ]
  },
  {
   "cell_type": "code",
   "execution_count": 70,
   "id": "2ef3001c",
   "metadata": {},
   "outputs": [
    {
     "data": {
      "text/plain": [
       "[345.456,\n",
       " (5+7j),\n",
       " True,\n",
       " 'swayam',\n",
       " 45,\n",
       " 345,\n",
       " 1,\n",
       " 'swarup',\n",
       " [4, 45, 5],\n",
       " 'b',\n",
       " 'a',\n",
       " 'r',\n",
       " 'i',\n",
       " 'k',\n",
       " 'b',\n",
       " 'a',\n",
       " 'r',\n",
       " 'i',\n",
       " 'k',\n",
       " 345,\n",
       " 689,\n",
       " 69]"
      ]
     },
     "execution_count": 70,
     "metadata": {},
     "output_type": "execute_result"
    }
   ],
   "source": [
    "l"
   ]
  },
  {
   "cell_type": "markdown",
   "id": "d1c5c08e",
   "metadata": {},
   "source": [
    "l1[::-1] v/s l1.reverse() the first one is just console thing but in the second case it makes changes to the original list"
   ]
  },
  {
   "cell_type": "code",
   "execution_count": 74,
   "id": "fc0f7217",
   "metadata": {},
   "outputs": [],
   "source": [
    "l1.sort(reverse=True) #by default revese = False to do ascending order"
   ]
  },
  {
   "cell_type": "code",
   "execution_count": 75,
   "id": "83ab0014",
   "metadata": {},
   "outputs": [
    {
     "data": {
      "text/plain": [
       "[45, 5, 4]"
      ]
     },
     "execution_count": 75,
     "metadata": {},
     "output_type": "execute_result"
    }
   ],
   "source": [
    "l1"
   ]
  },
  {
   "cell_type": "code",
   "execution_count": 76,
   "id": "b48ddd2c",
   "metadata": {},
   "outputs": [],
   "source": [
    "l2 = ['d','a','z','f','wwdfe']"
   ]
  },
  {
   "cell_type": "code",
   "execution_count": 77,
   "id": "f88bd7e8",
   "metadata": {},
   "outputs": [],
   "source": [
    "l2.sort()"
   ]
  },
  {
   "cell_type": "code",
   "execution_count": 78,
   "id": "95f1a2b5",
   "metadata": {},
   "outputs": [
    {
     "data": {
      "text/plain": [
       "['a', 'd', 'f', 'wwdfe', 'z']"
      ]
     },
     "execution_count": 78,
     "metadata": {},
     "output_type": "execute_result"
    }
   ],
   "source": [
    "l2"
   ]
  },
  {
   "cell_type": "code",
   "execution_count": 79,
   "id": "6cf964a6",
   "metadata": {},
   "outputs": [
    {
     "data": {
      "text/plain": [
       "2"
      ]
     },
     "execution_count": 79,
     "metadata": {},
     "output_type": "execute_result"
    }
   ],
   "source": [
    "l2.index('f')"
   ]
  },
  {
   "cell_type": "code",
   "execution_count": 80,
   "id": "ef5037b3",
   "metadata": {},
   "outputs": [
    {
     "ename": "NameError",
     "evalue": "name 'w' is not defined",
     "output_type": "error",
     "traceback": [
      "\u001b[1;31m---------------------------------------------------------------------------\u001b[0m",
      "\u001b[1;31mNameError\u001b[0m                                 Traceback (most recent call last)",
      "Cell \u001b[1;32mIn[80], line 1\u001b[0m\n\u001b[1;32m----> 1\u001b[0m l2\u001b[38;5;241m.\u001b[39mcount(w)\n",
      "\u001b[1;31mNameError\u001b[0m: name 'w' is not defined"
     ]
    }
   ],
   "source": [
    "l2.count(w)"
   ]
  },
  {
   "cell_type": "code",
   "execution_count": 81,
   "id": "2423a0f7",
   "metadata": {},
   "outputs": [
    {
     "data": {
      "text/plain": [
       "0"
      ]
     },
     "execution_count": 81,
     "metadata": {},
     "output_type": "execute_result"
    }
   ],
   "source": [
    "l2.count('w')"
   ]
  },
  {
   "cell_type": "code",
   "execution_count": 82,
   "id": "648770e1",
   "metadata": {},
   "outputs": [],
   "source": [
    "s = \"swayam\""
   ]
  },
  {
   "cell_type": "code",
   "execution_count": 83,
   "id": "41f01161",
   "metadata": {},
   "outputs": [
    {
     "ename": "TypeError",
     "evalue": "'str' object does not support item assignment",
     "output_type": "error",
     "traceback": [
      "\u001b[1;31m---------------------------------------------------------------------------\u001b[0m",
      "\u001b[1;31mTypeError\u001b[0m                                 Traceback (most recent call last)",
      "Cell \u001b[1;32mIn[83], line 1\u001b[0m\n\u001b[1;32m----> 1\u001b[0m s[\u001b[38;5;241m0\u001b[39m] \u001b[38;5;241m=\u001b[39m \u001b[38;5;124m\"\u001b[39m\u001b[38;5;124mb\u001b[39m\u001b[38;5;124m\"\u001b[39m\n",
      "\u001b[1;31mTypeError\u001b[0m: 'str' object does not support item assignment"
     ]
    }
   ],
   "source": [
    "s[0] = \"b\" ##not possible because strings are immutable"
   ]
  },
  {
   "cell_type": "code",
   "execution_count": 86,
   "id": "1e4a9d71",
   "metadata": {},
   "outputs": [],
   "source": [
    "l1[0] = 30"
   ]
  },
  {
   "cell_type": "code",
   "execution_count": 88,
   "id": "7138bbc6",
   "metadata": {},
   "outputs": [
    {
     "data": {
      "text/plain": [
       "[30, 5, 4]"
      ]
     },
     "execution_count": 88,
     "metadata": {},
     "output_type": "execute_result"
    }
   ],
   "source": [
    "l1 ## lists are immutable"
   ]
  },
  {
   "cell_type": "code",
   "execution_count": 89,
   "id": "3a69ffff",
   "metadata": {},
   "outputs": [],
   "source": [
    "l1.insert(2,31)"
   ]
  },
  {
   "cell_type": "code",
   "execution_count": 90,
   "id": "ab321c90",
   "metadata": {},
   "outputs": [
    {
     "data": {
      "text/plain": [
       "[30, 5, 31, 4]"
      ]
     },
     "execution_count": 90,
     "metadata": {},
     "output_type": "execute_result"
    }
   ],
   "source": [
    "l1"
   ]
  },
  {
   "cell_type": "code",
   "execution_count": 95,
   "id": "04d50f3e",
   "metadata": {},
   "outputs": [
    {
     "data": {
      "text/plain": [
       "'awayam'"
      ]
     },
     "execution_count": 95,
     "metadata": {},
     "output_type": "execute_result"
    }
   ],
   "source": [
    "s.replace('s','a') ## this is not permanent , this creating a completely new object"
   ]
  },
  {
   "cell_type": "code",
   "execution_count": 96,
   "id": "ebf899b6",
   "metadata": {},
   "outputs": [
    {
     "data": {
      "text/plain": [
       "'swayam'"
      ]
     },
     "execution_count": 96,
     "metadata": {},
     "output_type": "execute_result"
    }
   ],
   "source": [
    "s"
   ]
  },
  {
   "cell_type": "code",
   "execution_count": 171,
   "id": "b1c4ce1a",
   "metadata": {},
   "outputs": [],
   "source": [
    "l3=[23,344,54553,3,[43,345,34,545]]"
   ]
  },
  {
   "cell_type": "code",
   "execution_count": 172,
   "id": "f1b24433",
   "metadata": {},
   "outputs": [],
   "source": [
    "l.extend(l3)"
   ]
  },
  {
   "cell_type": "code",
   "execution_count": 173,
   "id": "7a21a13c",
   "metadata": {},
   "outputs": [
    {
     "data": {
      "text/plain": [
       "[30,\n",
       " (5+7j),\n",
       " True,\n",
       " 'swayam',\n",
       " 45,\n",
       " 345,\n",
       " 1,\n",
       " 'swarup',\n",
       " [30, 5, 31, 4],\n",
       " 'b',\n",
       " 'a',\n",
       " 'r',\n",
       " 'i',\n",
       " 'k',\n",
       " 'b',\n",
       " 'a',\n",
       " 'r',\n",
       " 'i',\n",
       " 'k',\n",
       " 345,\n",
       " 689,\n",
       " 69,\n",
       " 23,\n",
       " 344,\n",
       " 54553,\n",
       " 3,\n",
       " [43, 345, 34, 545]]"
      ]
     },
     "execution_count": 173,
     "metadata": {},
     "output_type": "execute_result"
    }
   ],
   "source": [
    "l"
   ]
  },
  {
   "cell_type": "markdown",
   "id": "311634db",
   "metadata": {},
   "source": [
    "### ---------Tuples----------\n",
    "#### 1. it is used using ( ) and is heterogenous\n",
    "#### 2. supports indexing\n",
    "#### 3. immutable "
   ]
  },
  {
   "cell_type": "code",
   "execution_count": 98,
   "id": "54df8753",
   "metadata": {},
   "outputs": [],
   "source": [
    "t = (2,3,4,\"swayam\",345.89,True,546+678j)"
   ]
  },
  {
   "cell_type": "code",
   "execution_count": 99,
   "id": "e6a5405f",
   "metadata": {},
   "outputs": [
    {
     "data": {
      "text/plain": [
       "tuple"
      ]
     },
     "execution_count": 99,
     "metadata": {},
     "output_type": "execute_result"
    }
   ],
   "source": [
    "type(t)"
   ]
  },
  {
   "cell_type": "code",
   "execution_count": 100,
   "id": "a2fe5506",
   "metadata": {},
   "outputs": [
    {
     "data": {
      "text/plain": [
       "7"
      ]
     },
     "execution_count": 100,
     "metadata": {},
     "output_type": "execute_result"
    }
   ],
   "source": [
    "len(t)"
   ]
  },
  {
   "cell_type": "code",
   "execution_count": 101,
   "id": "d1683ab9",
   "metadata": {},
   "outputs": [
    {
     "data": {
      "text/plain": [
       "(546+678j)"
      ]
     },
     "execution_count": 101,
     "metadata": {},
     "output_type": "execute_result"
    }
   ],
   "source": [
    "t[-1]"
   ]
  },
  {
   "cell_type": "code",
   "execution_count": 102,
   "id": "68b408bf",
   "metadata": {},
   "outputs": [
    {
     "data": {
      "text/plain": [
       "((546+678j), True, 345.89, 'swayam', 4, 3, 2)"
      ]
     },
     "execution_count": 102,
     "metadata": {},
     "output_type": "execute_result"
    }
   ],
   "source": [
    "t[::-1]"
   ]
  },
  {
   "cell_type": "code",
   "execution_count": 103,
   "id": "765cd13d",
   "metadata": {},
   "outputs": [
    {
     "data": {
      "text/plain": [
       "(2, 3, 4, 'swayam', 345.89, True, (546+678j))"
      ]
     },
     "execution_count": 103,
     "metadata": {},
     "output_type": "execute_result"
    }
   ],
   "source": [
    "t"
   ]
  },
  {
   "cell_type": "code",
   "execution_count": 104,
   "id": "3dafbdca",
   "metadata": {},
   "outputs": [
    {
     "ename": "TypeError",
     "evalue": "'tuple' object does not support item assignment",
     "output_type": "error",
     "traceback": [
      "\u001b[1;31m---------------------------------------------------------------------------\u001b[0m",
      "\u001b[1;31mTypeError\u001b[0m                                 Traceback (most recent call last)",
      "Cell \u001b[1;32mIn[104], line 1\u001b[0m\n\u001b[1;32m----> 1\u001b[0m t[\u001b[38;5;241m0\u001b[39m] \u001b[38;5;241m=\u001b[39m \u001b[38;5;241m56\u001b[39m\n",
      "\u001b[1;31mTypeError\u001b[0m: 'tuple' object does not support item assignment"
     ]
    }
   ],
   "source": [
    "t[0] = 56 ## immutable"
   ]
  },
  {
   "cell_type": "markdown",
   "id": "fe54b875",
   "metadata": {},
   "source": [
    "#### we can use tuples to store password as it supports heterogenous value and can't be changed"
   ]
  },
  {
   "cell_type": "code",
   "execution_count": 105,
   "id": "0c053ee9",
   "metadata": {},
   "outputs": [
    {
     "data": {
      "text/plain": [
       "1"
      ]
     },
     "execution_count": 105,
     "metadata": {},
     "output_type": "execute_result"
    }
   ],
   "source": [
    "t.count(3)"
   ]
  },
  {
   "cell_type": "code",
   "execution_count": 108,
   "id": "00455791",
   "metadata": {},
   "outputs": [
    {
     "data": {
      "text/plain": [
       "3"
      ]
     },
     "execution_count": 108,
     "metadata": {},
     "output_type": "execute_result"
    }
   ],
   "source": [
    "t.index(\"swayam\") # if not found then error"
   ]
  },
  {
   "cell_type": "markdown",
   "id": "1427bc77",
   "metadata": {},
   "source": [
    "### ------------Sets---------------\n",
    "#### 1. it does not contains duplicate values\n",
    "#### 2. it is also a collection of heterogenous values just like list,tuples\n",
    "#### 3.it can store only tuples and not list because set can only contain immutable values\n",
    "#### 4. it doesnot arrange data it always tries to form unordered collection of data\n",
    "#### 5. doesnot support indexing and slicing\n",
    "#### 6.mutable"
   ]
  },
  {
   "cell_type": "code",
   "execution_count": 7,
   "id": "aa394be1",
   "metadata": {},
   "outputs": [],
   "source": [
    "s1={2,3,4,4}"
   ]
  },
  {
   "cell_type": "code",
   "execution_count": 8,
   "id": "9acde43f",
   "metadata": {},
   "outputs": [
    {
     "data": {
      "text/plain": [
       "set"
      ]
     },
     "execution_count": 8,
     "metadata": {},
     "output_type": "execute_result"
    }
   ],
   "source": [
    "type(s1)"
   ]
  },
  {
   "cell_type": "code",
   "execution_count": 9,
   "id": "05b38832",
   "metadata": {},
   "outputs": [
    {
     "data": {
      "text/plain": [
       "{2, 3, 4}"
      ]
     },
     "execution_count": 9,
     "metadata": {},
     "output_type": "execute_result"
    }
   ],
   "source": [
    "s1"
   ]
  },
  {
   "cell_type": "code",
   "execution_count": 10,
   "id": "bbbc54b0",
   "metadata": {},
   "outputs": [],
   "source": [
    "s2={\"swayam\",\"Swayam\"}"
   ]
  },
  {
   "cell_type": "code",
   "execution_count": 11,
   "id": "9274eca6",
   "metadata": {},
   "outputs": [
    {
     "data": {
      "text/plain": [
       "{'Swayam', 'swayam'}"
      ]
     },
     "execution_count": 11,
     "metadata": {},
     "output_type": "execute_result"
    }
   ],
   "source": [
    "s2 ## not removed beacuse python is case sensitive"
   ]
  },
  {
   "cell_type": "code",
   "execution_count": 12,
   "id": "d4c48411",
   "metadata": {},
   "outputs": [],
   "source": [
    "s3={2343,3424,656,'abc',12132,12,434,2}"
   ]
  },
  {
   "cell_type": "code",
   "execution_count": 13,
   "id": "ef8de554",
   "metadata": {},
   "outputs": [
    {
     "data": {
      "text/plain": [
       "{12, 12132, 2, 2343, 3424, 434, 656, 'abc'}"
      ]
     },
     "execution_count": 13,
     "metadata": {},
     "output_type": "execute_result"
    }
   ],
   "source": [
    "s3"
   ]
  },
  {
   "cell_type": "code",
   "execution_count": 14,
   "id": "08fff37a",
   "metadata": {},
   "outputs": [
    {
     "data": {
      "text/plain": [
       "{12, 12132, 2, 2343, 3, 3424, 4, 434, 656, 'abc'}"
      ]
     },
     "execution_count": 14,
     "metadata": {},
     "output_type": "execute_result"
    }
   ],
   "source": [
    "s1.union(s3)"
   ]
  },
  {
   "cell_type": "code",
   "execution_count": 15,
   "id": "33dda997",
   "metadata": {},
   "outputs": [
    {
     "data": {
      "text/plain": [
       "{2}"
      ]
     },
     "execution_count": 15,
     "metadata": {},
     "output_type": "execute_result"
    }
   ],
   "source": [
    "\n",
    "s3.intersection(s1)"
   ]
  },
  {
   "cell_type": "code",
   "execution_count": 16,
   "id": "d6afd6f8",
   "metadata": {},
   "outputs": [
    {
     "data": {
      "text/plain": [
       "{2, 3, 4}"
      ]
     },
     "execution_count": 16,
     "metadata": {},
     "output_type": "execute_result"
    }
   ],
   "source": [
    "s1"
   ]
  },
  {
   "cell_type": "code",
   "execution_count": 17,
   "id": "dc7f9678",
   "metadata": {},
   "outputs": [
    {
     "data": {
      "text/plain": [
       "{12, 12132, 2, 2343, 3424, 434, 656, 'abc'}"
      ]
     },
     "execution_count": 17,
     "metadata": {},
     "output_type": "execute_result"
    }
   ],
   "source": [
    "s3"
   ]
  },
  {
   "cell_type": "code",
   "execution_count": 18,
   "id": "727e263a",
   "metadata": {},
   "outputs": [],
   "source": [
    "s3.add(23)"
   ]
  },
  {
   "cell_type": "code",
   "execution_count": 19,
   "id": "a2fd3451",
   "metadata": {},
   "outputs": [
    {
     "data": {
      "text/plain": [
       "{12, 12132, 2, 23, 2343, 3424, 434, 656, 'abc'}"
      ]
     },
     "execution_count": 19,
     "metadata": {},
     "output_type": "execute_result"
    }
   ],
   "source": [
    "s3"
   ]
  },
  {
   "cell_type": "code",
   "execution_count": 20,
   "id": "78bd1d6a",
   "metadata": {},
   "outputs": [],
   "source": [
    "s3.remove(2)"
   ]
  },
  {
   "cell_type": "code",
   "execution_count": 21,
   "id": "50b60c4d",
   "metadata": {},
   "outputs": [
    {
     "data": {
      "text/plain": [
       "{12, 12132, 23, 2343, 3424, 434, 656, 'abc'}"
      ]
     },
     "execution_count": 21,
     "metadata": {},
     "output_type": "execute_result"
    }
   ],
   "source": [
    "s3"
   ]
  },
  {
   "cell_type": "markdown",
   "id": "5df4d219",
   "metadata": {},
   "source": [
    "s3.sort() not possible "
   ]
  },
  {
   "cell_type": "code",
   "execution_count": 22,
   "id": "1ea3d6ef",
   "metadata": {},
   "outputs": [
    {
     "ename": "SyntaxError",
     "evalue": "cannot assign to expression here. Maybe you meant '==' instead of '='? (3087608110.py, line 1)",
     "output_type": "error",
     "traceback": [
      "\u001b[1;36m  Cell \u001b[1;32mIn[22], line 1\u001b[1;36m\u001b[0m\n\u001b[1;33m    pw-skills =10\u001b[0m\n\u001b[1;37m    ^\u001b[0m\n\u001b[1;31mSyntaxError\u001b[0m\u001b[1;31m:\u001b[0m cannot assign to expression here. Maybe you meant '==' instead of '='?\n"
     ]
    }
   ],
   "source": [
    "pw-skills =10"
   ]
  },
  {
   "cell_type": "code",
   "execution_count": 23,
   "id": "b78b52eb",
   "metadata": {},
   "outputs": [
    {
     "ename": "NameError",
     "evalue": "name 't' is not defined",
     "output_type": "error",
     "traceback": [
      "\u001b[1;31m---------------------------------------------------------------------------\u001b[0m",
      "\u001b[1;31mNameError\u001b[0m                                 Traceback (most recent call last)",
      "Cell \u001b[1;32mIn[23], line 1\u001b[0m\n\u001b[1;32m----> 1\u001b[0m \u001b[38;5;28;01mfor\u001b[39;00m i \u001b[38;5;129;01min\u001b[39;00m t:\n\u001b[0;32m      2\u001b[0m     \u001b[38;5;28mprint\u001b[39m(t[i])\n",
      "\u001b[1;31mNameError\u001b[0m: name 't' is not defined"
     ]
    }
   ],
   "source": [
    "for i in t:\n",
    "    print(t[i])"
   ]
  },
  {
   "cell_type": "code",
   "execution_count": null,
   "id": "8357f142",
   "metadata": {},
   "outputs": [],
   "source": [
    "string = \"p w s k i l l s\"\n",
    "\n",
    "\" \".join(string.replace(\" \", \"\"))"
   ]
  },
  {
   "cell_type": "code",
   "execution_count": null,
   "id": "7e47584c",
   "metadata": {},
   "outputs": [],
   "source": [
    "m=(45,)"
   ]
  },
  {
   "cell_type": "code",
   "execution_count": null,
   "id": "128225bf",
   "metadata": {},
   "outputs": [],
   "source": [
    "type(m)"
   ]
  },
  {
   "cell_type": "code",
   "execution_count": 26,
   "id": "14a0f5b4",
   "metadata": {},
   "outputs": [
    {
     "name": "stdout",
     "output_type": "stream",
     "text": [
      "x is not greater than 10\n"
     ]
    }
   ],
   "source": [
    "x = 5\n",
    "\n",
    "if(x > 10):\n",
    "\n",
    "    print(\"x is greater than 10\")\n",
    "\n",
    "else:\n",
    "\n",
    "    print(\"x is not greater than 10\")"
   ]
  },
  {
   "cell_type": "code",
   "execution_count": 29,
   "id": "07c0c077",
   "metadata": {},
   "outputs": [
    {
     "name": "stdout",
     "output_type": "stream",
     "text": [
      "1\n",
      "2\n",
      "3\n",
      "4\n",
      "5\n",
      "6\n",
      "7\n",
      "8\n",
      "9\n"
     ]
    }
   ],
   "source": [
    "for i in range(1,10):\n",
    "    print(i)\n"
   ]
  },
  {
   "cell_type": "code",
   "execution_count": 2,
   "id": "05ffc348",
   "metadata": {},
   "outputs": [
    {
     "name": "stdout",
     "output_type": "stream",
     "text": [
      "enter your number1\n",
      "1\n",
      "2\n",
      "3\n",
      "4\n"
     ]
    }
   ],
   "source": [
    "i=int(input(\"enter your number\")) #by default input in python is string\n",
    "while(i<5):\n",
    "    print(i)\n",
    "    i=i+1"
   ]
  },
  {
   "cell_type": "code",
   "execution_count": 13,
   "id": "9b5e9f60",
   "metadata": {
    "tags": []
   },
   "outputs": [
    {
     "name": "stdout",
     "output_type": "stream",
     "text": [
      "[1, 4, 9, 16, 25, 36, 49]\n",
      "[False, True, False, True, False, True, False]\n",
      "[2, 4, 6]\n"
     ]
    }
   ],
   "source": [
    "l1=[1,2,3,4,5,6,7]\n",
    "print([i**2 for i in l1])\n",
    "print([i%2==0 for i in l1])\n",
    "print([i for i in l1 if i%2==0])"
   ]
  },
  {
   "cell_type": "code",
   "execution_count": 14,
   "id": "428744bb",
   "metadata": {
    "tags": []
   },
   "outputs": [
    {
     "name": "stdout",
     "output_type": "stream",
     "text": [
      "['Swayam', 'Swarup', 'Barik']\n"
     ]
    }
   ],
   "source": [
    "l1=[\"swayam\",\"swarup\",\"barik\"]\n",
    "print([i.capitalize() for i in l1])"
   ]
  },
  {
   "cell_type": "code",
   "execution_count": 15,
   "id": "97336358",
   "metadata": {
    "tags": []
   },
   "outputs": [],
   "source": [
    "##tuple comprehension is possible but it gives a generator object so we typecast it to lis"
   ]
  },
  {
   "cell_type": "code",
   "execution_count": null,
   "id": "a5c7f2a7",
   "metadata": {},
   "outputs": [],
   "source": []
  }
 ],
 "metadata": {
  "kernelspec": {
   "display_name": "Python 3 (ipykernel)",
   "language": "python",
   "name": "python3"
  },
  "language_info": {
   "codemirror_mode": {
    "name": "ipython",
    "version": 3
   },
   "file_extension": ".py",
   "mimetype": "text/x-python",
   "name": "python",
   "nbconvert_exporter": "python",
   "pygments_lexer": "ipython3",
   "version": "3.11.4"
  }
 },
 "nbformat": 4,
 "nbformat_minor": 5
}
